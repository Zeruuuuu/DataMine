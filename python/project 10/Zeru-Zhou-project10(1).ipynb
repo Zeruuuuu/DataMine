{
 "cells": [
  {
   "cell_type": "markdown",
   "id": "be02a957-7133-4d02-818e-fedeb3cecb05",
   "metadata": {},
   "source": [
    "# Project 10 -- Zeru Zhou"
   ]
  },
  {
   "cell_type": "markdown",
   "id": "a1228853-dd19-4ab2-89e0-0394d7d72de3",
   "metadata": {},
   "source": [
    "**TA Help:** NA\n",
    "\n",
    "\n",
    "    \n",
    "**Collaboration:** NA\n",
    "    \n",
    "- Get help from dr. ward's videos"
   ]
  },
  {
   "cell_type": "markdown",
   "id": "6180e742-8e39-4698-98ff-5b00c8cf8ea0",
   "metadata": {},
   "source": [
    "## Question 1"
   ]
  },
  {
   "cell_type": "code",
   "execution_count": 1,
   "id": "49445606-d363-41b4-b479-e319a9a84c01",
   "metadata": {},
   "outputs": [],
   "source": [
    "class Card:\n",
    "\n",
    "    _value_dict = {\"2\": 2, \"3\": 3, \"4\": 4, \"5\": 5, \"6\": 6, \"7\": 7, \"8\":8, \"9\":9, \"10\": 10, \"j\": 11, \"q\": 12, \"k\": 13, \"a\": 14}\n",
    "    def __init__(self, number, suit):\n",
    "        if str(number).lower() not in [str(num) for num in range(2, 11)] + list(\"jqka\"):\n",
    "            raise Exception(\"Number wasn't 2-10 or J, Q, K, or A.\")\n",
    "        else:\n",
    "            self.number = str(number).lower()\n",
    "        if suit.lower() not in [\"clubs\", \"hearts\", \"diamonds\", \"spades\"]:\n",
    "            raise Exception(\"Suit wasn't one of: clubs, hearts, spades, or diamonds.\")\n",
    "        else:\n",
    "            self.suit = suit.lower()\n",
    "\n",
    "    def __str__(self):\n",
    "        return(f'{self.number} of {self.suit.lower()}')\n",
    "\n",
    "    def __repr__(self):\n",
    "        return(f'Card(str({self.number}), \"{self.suit}\")')\n",
    "\n",
    "    def __eq__(self, other):\n",
    "        if self.number == other.number:\n",
    "            return True\n",
    "        else:\n",
    "            return False\n",
    "\n",
    "    def __lt__(self, other):\n",
    "        if self._value_dict[self.number] < self._value_dict[other.number]:\n",
    "            return True\n",
    "        else:\n",
    "            return False\n",
    "\n",
    "    def __gt__(self, other):\n",
    "        if self._value_dict[self.number] > self._value_dict[other.number]:\n",
    "            return True\n",
    "        else:\n",
    "            return False\n",
    "\n",
    "    def __hash__(self):\n",
    "        return hash(self.number)"
   ]
  },
  {
   "cell_type": "code",
   "execution_count": 2,
   "id": "e88c5372-8888-40a1-84a3-301907c66b6d",
   "metadata": {},
   "outputs": [],
   "source": [
    "class Deck:\n",
    "    brand = \"Bicycle\"\n",
    "    _suits = [\"clubs\", \"hearts\", \"diamonds\", \"spades\"]\n",
    "    _numbers = [str(num) for num in range(2, 11)] + list(\"jqka\")\n",
    "\n",
    "    def __init__(self):\n",
    "        self.cards = [Card(number, suit) for suit in self._suits for number in self._numbers]\n",
    "\n",
    "    def __len__(self):\n",
    "        return len(self.cards)\n",
    "\n",
    "    def __getitem__(self, key):\n",
    "        return self.cards[key]\n",
    "\n",
    "    def __setitem__(self, key, value):\n",
    "        self.cards[key] = value"
   ]
  },
  {
   "cell_type": "code",
   "execution_count": 3,
   "id": "4ff91b10-1bb4-46ad-aff2-e243f79cf879",
   "metadata": {},
   "outputs": [
    {
     "name": "stdout",
     "output_type": "stream",
     "text": [
      "5 of clubs\n"
     ]
    }
   ],
   "source": [
    "my_card = Card(5, \"clubs\")\n",
    "print(my_card)"
   ]
  },
  {
   "cell_type": "code",
   "execution_count": 4,
   "id": "773e349a-9db6-45e9-8051-058d2adfeb81",
   "metadata": {},
   "outputs": [
    {
     "data": {
      "text/plain": [
       "Card(str(5), \"clubs\")"
      ]
     },
     "execution_count": 4,
     "metadata": {},
     "output_type": "execute_result"
    }
   ],
   "source": [
    "my_card"
   ]
  },
  {
   "cell_type": "code",
   "execution_count": 5,
   "id": "627861f1-6598-4625-bfdf-9352244b52c3",
   "metadata": {},
   "outputs": [
    {
     "name": "stdout",
     "output_type": "stream",
     "text": [
      "<__main__.Deck object at 0x2b442d1a1ac0>\n"
     ]
    }
   ],
   "source": [
    "my_deck = Deck()\n",
    "print(my_deck)"
   ]
  },
  {
   "cell_type": "code",
   "execution_count": 10,
   "id": "43ac25da-aa8b-4fd8-8621-6ea834dd89ec",
   "metadata": {},
   "outputs": [],
   "source": [
    "class Deck:\n",
    "    brand = \"Bicycle\"\n",
    "    _suits = [\"clubs\", \"hearts\", \"diamonds\", \"spades\"]\n",
    "    _numbers = [str(num) for num in range(2, 11)] + list(\"jqka\")\n",
    "\n",
    "    def __init__(self):\n",
    "        self.cards = [Card(number, suit) for suit in self._suits for number in self._numbers]\n",
    "\n",
    "    def __len__(self):\n",
    "        return len(self.cards)\n",
    "\n",
    "    def __getitem__(self, key):\n",
    "        return self.cards[key]\n",
    "\n",
    "    def __setitem__(self, key, value):\n",
    "        self.cards[key] = value\n",
    "        \n",
    "    def __str__(self):\n",
    "        return(f'A {self.brand.lower()} Deck')"
   ]
  },
  {
   "cell_type": "code",
   "execution_count": 7,
   "id": "6932d971-c616-4507-af2d-6b0bec84ae55",
   "metadata": {},
   "outputs": [
    {
     "name": "stdout",
     "output_type": "stream",
     "text": [
      "A bicycle Deck\n"
     ]
    }
   ],
   "source": [
    "my_deck = Deck()\n",
    "print(my_deck)"
   ]
  },
  {
   "cell_type": "code",
   "execution_count": 8,
   "id": "b8ad0646-83c0-4171-9009-50a5acd940a7",
   "metadata": {},
   "outputs": [],
   "source": [
    "class Deck:\n",
    "    brand = \"Copag\"\n",
    "    _suits = [\"clubs\", \"hearts\", \"diamonds\", \"spades\"]\n",
    "    _numbers = [str(num) for num in range(2, 11)] + list(\"jqka\")\n",
    "\n",
    "    def __init__(self):\n",
    "        self.cards = [Card(number, suit) for suit in self._suits for number in self._numbers]\n",
    "\n",
    "    def __len__(self):\n",
    "        return len(self.cards)\n",
    "\n",
    "    def __getitem__(self, key):\n",
    "        return self.cards[key]\n",
    "\n",
    "    def __setitem__(self, key, value):\n",
    "        self.cards[key] = value\n",
    "        \n",
    "    def __str__(self):\n",
    "        return(f'A {self.brand.lower()} Deck')"
   ]
  },
  {
   "cell_type": "code",
   "execution_count": 9,
   "id": "7d21c140-c2dd-433d-a9fd-8aab483d4aea",
   "metadata": {},
   "outputs": [
    {
     "name": "stdout",
     "output_type": "stream",
     "text": [
      "A copag Deck\n"
     ]
    }
   ],
   "source": [
    "my_deck = Deck()\n",
    "print(my_deck)"
   ]
  },
  {
   "cell_type": "markdown",
   "id": "b456e57c-4a12-464b-999a-ef2df5af80c1",
   "metadata": {},
   "source": [
    "As above, modifications are made."
   ]
  },
  {
   "cell_type": "markdown",
   "id": "fc601975-35ed-4680-a4e1-0273ee3cc047",
   "metadata": {},
   "source": [
    "## Question 2"
   ]
  },
  {
   "cell_type": "code",
   "execution_count": 11,
   "id": "a16336a1-1ef0-41e8-bc7c-49387db27497",
   "metadata": {},
   "outputs": [
    {
     "name": "stdout",
     "output_type": "stream",
     "text": [
      "A bicycle Deck\n",
      "A bicycle Deck\n"
     ]
    }
   ],
   "source": [
    "deck1 = Deck()\n",
    "deck2 = Deck()\n",
    "print(deck1)\n",
    "print(deck2)"
   ]
  },
  {
   "cell_type": "code",
   "execution_count": 12,
   "id": "6f5ef1e8-58f3-44d8-a9cc-0d8b204a5cce",
   "metadata": {},
   "outputs": [
    {
     "name": "stdout",
     "output_type": "stream",
     "text": [
      "A copag Deck\n",
      "A copag Deck\n"
     ]
    }
   ],
   "source": [
    "Deck.brand = \"Copag\"\n",
    "deck1 = Deck()\n",
    "deck2 = Deck()\n",
    "print(deck1)\n",
    "print(deck2)"
   ]
  },
  {
   "cell_type": "code",
   "execution_count": 13,
   "id": "35ad9009-d034-4978-95e8-53a84af66f13",
   "metadata": {},
   "outputs": [
    {
     "name": "stdout",
     "output_type": "stream",
     "text": [
      "A aviator Deck\n",
      "A copag Deck\n"
     ]
    }
   ],
   "source": [
    "deck1 = Deck()\n",
    "deck2 = Deck()\n",
    "deck1.brand = \"Aviator\"\n",
    "Deck.brand = \"Copag\"\n",
    "print(deck1)\n",
    "print(deck2)"
   ]
  },
  {
   "cell_type": "markdown",
   "id": "14dc22d4-ddc3-41cc-a91a-cb0025bc0c80",
   "metadata": {},
   "source": [
    "The brand of deck1 is specifically modified to \"Aviator\", and the basic brand for both 2 decks are changed to \"Copag\"."
   ]
  },
  {
   "cell_type": "markdown",
   "id": "8e586edd-ff26-4ce2-8f6b-2424b26f2929",
   "metadata": {},
   "source": [
    "## Question 3"
   ]
  },
  {
   "cell_type": "code",
   "execution_count": 9,
   "id": "bbe0f40d-9655-4653-9ca8-886bdb61cb91",
   "metadata": {},
   "outputs": [],
   "source": [
    "class Player:\n",
    "\n",
    "    def __init__(self, name, deck):\n",
    "        self.name = name\n",
    "        self.deck = deck\n",
    "        self.hand = []\n",
    "        \n",
    "    def __str__(self):\n",
    "        return(f\"\"\"\n",
    "        {self.name}\\n Top Cards:{self.deck[:5]}\n",
    "        \"\"\")\n",
    "    "
   ]
  },
  {
   "cell_type": "code",
   "execution_count": 5,
   "id": "a22d2d09-5fca-4eaf-8cc5-d4a95e1bd626",
   "metadata": {},
   "outputs": [],
   "source": [
    "my_deck = Deck()"
   ]
  },
  {
   "cell_type": "code",
   "execution_count": 6,
   "id": "fa020f80-fd15-4b40-8c38-899fb2080627",
   "metadata": {},
   "outputs": [
    {
     "name": "stdout",
     "output_type": "stream",
     "text": [
      "\n",
      "        Roger Federer\n",
      " Top Cards:[Card(str(2), \"clubs\"), Card(str(3), \"clubs\"), Card(str(4), \"clubs\"), Card(str(5), \"clubs\"), Card(str(6), \"clubs\")]\n",
      "        \n"
     ]
    }
   ],
   "source": [
    "player1 = Player(\"Roger Federer\", my_deck)\n",
    "print(player1)"
   ]
  },
  {
   "cell_type": "code",
   "execution_count": 7,
   "id": "4e7668ba-7aea-42d3-af74-bc371bb35a77",
   "metadata": {},
   "outputs": [
    {
     "name": "stdout",
     "output_type": "stream",
     "text": [
      "\n",
      "        Eric Zhou\n",
      " Top Cards:[Card(str(9), \"hearts\"), Card(str(k), \"clubs\"), Card(str(2), \"spades\"), Card(str(6), \"spades\"), Card(str(5), \"clubs\")]\n",
      "        \n"
     ]
    }
   ],
   "source": [
    "import random\n",
    "random.shuffle(my_deck)\n",
    "player2 = Player(\"Eric Zhou\", my_deck)\n",
    "print(player2)"
   ]
  },
  {
   "cell_type": "markdown",
   "id": "47c6229f-35f7-400c-8366-c442baa5cf47",
   "metadata": {},
   "source": [
    "Class Player is created. The deck is shuffled."
   ]
  },
  {
   "cell_type": "markdown",
   "id": "da22f29c-d245-4d2b-9fc1-ca14cb6087d9",
   "metadata": {},
   "source": [
    "## Question 4"
   ]
  },
  {
   "cell_type": "code",
   "execution_count": 3,
   "id": "8cffc767-d1c8-4d64-b7dc-f0d2ee8a80d1",
   "metadata": {},
   "outputs": [],
   "source": [
    "class Player:\n",
    "\n",
    "    def __init__(self, name, deck):\n",
    "        self.name = name\n",
    "        self.deck = deck\n",
    "        self.hand = []\n",
    "        \n",
    "    def __str__(self):\n",
    "        return(f\"\"\"\n",
    "        {self.name}\\n Top Cards:{self.deck[:5]}\n",
    "        \"\"\")\n",
    "    \n",
    "    def draw(self):\n",
    "        card = self.deck.cards.pop(0)\n",
    "        self.hand.append(card)"
   ]
  },
  {
   "cell_type": "code",
   "execution_count": 11,
   "id": "ae65ac82-fea1-4b2b-bf1f-268f900e19f2",
   "metadata": {},
   "outputs": [
    {
     "name": "stdout",
     "output_type": "stream",
     "text": [
      "[Card(str(q), \"hearts\")]\n"
     ]
    }
   ],
   "source": [
    "fresh_deck = Deck()\n",
    "player1 = Player(\"Zeru Zhou\", fresh_deck)\n",
    "random.shuffle(fresh_deck)\n",
    "player1.draw()\n",
    "print(player1.hand)"
   ]
  },
  {
   "cell_type": "code",
   "execution_count": 12,
   "id": "b45173cd-4ac0-43ba-887c-73dc46ddf6aa",
   "metadata": {},
   "outputs": [
    {
     "name": "stdout",
     "output_type": "stream",
     "text": [
      "[Card(str(q), \"hearts\"), Card(str(4), \"diamonds\")]\n"
     ]
    }
   ],
   "source": [
    "player1.draw()\n",
    "print(player1.hand)"
   ]
  },
  {
   "cell_type": "code",
   "execution_count": 13,
   "id": "a4eaad54-8aac-4072-8506-1005d3d15874",
   "metadata": {},
   "outputs": [
    {
     "name": "stdout",
     "output_type": "stream",
     "text": [
      "[Card(str(q), \"hearts\"), Card(str(4), \"diamonds\"), Card(str(7), \"hearts\")]\n"
     ]
    }
   ],
   "source": [
    "player1.draw()\n",
    "print(player1.hand)"
   ]
  },
  {
   "cell_type": "markdown",
   "id": "0d552245-b4d6-474a-9cc9-fa7b8e674d55",
   "metadata": {},
   "source": [
    "Draw method is defined. Hand is also created."
   ]
  },
  {
   "cell_type": "markdown",
   "id": "88c9cdac-3e92-498f-83fa-e089bfc44ac8",
   "metadata": {},
   "source": [
    "## Question 5"
   ]
  },
  {
   "cell_type": "code",
   "execution_count": 7,
   "id": "d370d7c9-06db-42b9-b75f-240481a5c491",
   "metadata": {},
   "outputs": [],
   "source": [
    "class Player:\n",
    "\n",
    "    def __init__(self, name, deck):\n",
    "        self.name = name\n",
    "        self.deck = deck\n",
    "        self.hand = []\n",
    "        \n",
    "    def __str__(self):\n",
    "        return(f\"\"\"\n",
    "        {self.name}\\n Top Cards:{self.deck[:5]}\n",
    "        \"\"\")\n",
    "    \n",
    "    def draw(self):\n",
    "        card = self.deck.cards.pop(0)\n",
    "        self.hand.append(card)\n",
    "    \n",
    "    def has_set(self):\n",
    "        count_hand = Counter(self.hand)\n",
    "        for key, value in count_hand.items():\n",
    "            if value >= 3:\n",
    "                return True\n",
    "        return False"
   ]
  },
  {
   "cell_type": "code",
   "execution_count": 4,
   "id": "d116edc2-7032-486e-a459-b7e1ca2d01cc",
   "metadata": {},
   "outputs": [],
   "source": [
    "from collections import Counter"
   ]
  },
  {
   "cell_type": "code",
   "execution_count": 8,
   "id": "dad84c51-54f0-4fde-a063-32cd34a20051",
   "metadata": {},
   "outputs": [
    {
     "data": {
      "text/plain": [
       "True"
      ]
     },
     "execution_count": 8,
     "metadata": {},
     "output_type": "execute_result"
    }
   ],
   "source": [
    "import random\n",
    "my_deck = Deck()\n",
    "random.shuffle(my_deck)\n",
    "player1 = Player(\"Zeru Zhou\", my_deck)\n",
    "for i in range(10): \n",
    "    player1.draw()\n",
    "\n",
    "player1.has_set()"
   ]
  },
  {
   "cell_type": "code",
   "execution_count": 10,
   "id": "343851bc-d20a-4d37-9c13-f1fd218af626",
   "metadata": {},
   "outputs": [
    {
     "name": "stdout",
     "output_type": "stream",
     "text": [
      "[Card(str(k), \"hearts\"), Card(str(3), \"hearts\"), Card(str(k), \"spades\"), Card(str(6), \"spades\"), Card(str(6), \"diamonds\"), Card(str(9), \"diamonds\"), Card(str(3), \"clubs\"), Card(str(8), \"hearts\"), Card(str(k), \"diamonds\"), Card(str(4), \"clubs\")]\n"
     ]
    }
   ],
   "source": [
    "print(player1.hand)"
   ]
  },
  {
   "cell_type": "markdown",
   "id": "9fbf00fb-2418-460f-ae94-2a32b0c28952",
   "metadata": {},
   "source": [
    "Here, we can see there are 3 \"k\" making that a set."
   ]
  },
  {
   "cell_type": "markdown",
   "id": "f76442d6-d02e-4f26-b9d6-c3183e1d6929",
   "metadata": {},
   "source": [
    "## Pledge\n",
    "\n",
    "By submitting this work I hereby pledge that this is my own, personal work. I've acknowledged in the designated place at the top of this file all sources that I used to complete said work, including but not limited to: online resources, books, and electronic communications. I've noted all collaboration with fellow students and/or TA's. I did not copy or plagiarize another's work.\n",
    "\n",
    "> As a Boilermaker pursuing academic excellence, I pledge to be honest and true in all that I do. Accountable together – We are Purdue."
   ]
  }
 ],
 "metadata": {
  "kernelspec": {
   "display_name": "f2021-s2022",
   "language": "python",
   "name": "tdm-brown-scratch-f2021-s2022"
  },
  "language_info": {
   "codemirror_mode": {
    "name": "ipython",
    "version": 3
   },
   "file_extension": ".py",
   "mimetype": "text/x-python",
   "name": "python",
   "nbconvert_exporter": "python",
   "pygments_lexer": "ipython3",
   "version": "3.9.6"
  }
 },
 "nbformat": 4,
 "nbformat_minor": 5
}
