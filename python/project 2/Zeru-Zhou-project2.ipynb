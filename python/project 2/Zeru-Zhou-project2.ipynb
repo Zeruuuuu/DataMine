{
 "cells": [
  {
   "cell_type": "markdown",
   "id": "be02a957-7133-4d02-818e-fedeb3cecb05",
   "metadata": {},
   "source": [
    "# Project 2 -- Zeru Zhou"
   ]
  },
  {
   "cell_type": "markdown",
   "id": "a1228853-dd19-4ab2-89e0-0394d7d72de3",
   "metadata": {},
   "source": [
    "**TA Help:** NA\n",
    "\n",
    "\n",
    "    \n",
    "**Collaboration:** NA\n",
    "    \n",
    "- Get help from Dr. Ward's videos"
   ]
  },
  {
   "cell_type": "markdown",
   "id": "6180e742-8e39-4698-98ff-5b00c8cf8ea0",
   "metadata": {},
   "source": [
    "## Question 1"
   ]
  },
  {
   "cell_type": "code",
   "execution_count": 6,
   "id": "49445606-d363-41b4-b479-e319a9a84c01",
   "metadata": {},
   "outputs": [],
   "source": [
    "import pandas as pd"
   ]
  },
  {
   "cell_type": "code",
   "execution_count": 7,
   "id": "f0e32d03-0a05-4a44-9037-0e32e9ee8574",
   "metadata": {},
   "outputs": [],
   "source": [
    "df = pd.read_csv('/depot/datamine/data/noaa/2020_sample.csv', names=[\"station_id\", \"date\", \"element_code\", \"value\", \"mflag\", \"qflag\", \"sflag\", \"obstime\"])"
   ]
  },
  {
   "cell_type": "code",
   "execution_count": 4,
   "id": "45b499c1-f111-44b7-a8d9-a6ad36002f4a",
   "metadata": {},
   "outputs": [
    {
     "data": {
      "text/html": [
       "<div>\n",
       "<style scoped>\n",
       "    .dataframe tbody tr th:only-of-type {\n",
       "        vertical-align: middle;\n",
       "    }\n",
       "\n",
       "    .dataframe tbody tr th {\n",
       "        vertical-align: top;\n",
       "    }\n",
       "\n",
       "    .dataframe thead th {\n",
       "        text-align: right;\n",
       "    }\n",
       "</style>\n",
       "<table border=\"1\" class=\"dataframe\">\n",
       "  <thead>\n",
       "    <tr style=\"text-align: right;\">\n",
       "      <th></th>\n",
       "      <th>station_id</th>\n",
       "      <th>date</th>\n",
       "      <th>element_code</th>\n",
       "      <th>value</th>\n",
       "      <th>mflag</th>\n",
       "      <th>qflag</th>\n",
       "      <th>sflag</th>\n",
       "      <th>obstime</th>\n",
       "    </tr>\n",
       "  </thead>\n",
       "  <tbody>\n",
       "    <tr>\n",
       "      <th>0</th>\n",
       "      <td>AE000041196</td>\n",
       "      <td>20200101</td>\n",
       "      <td>TMIN</td>\n",
       "      <td>168</td>\n",
       "      <td>NaN</td>\n",
       "      <td>NaN</td>\n",
       "      <td>S</td>\n",
       "      <td>NaN</td>\n",
       "    </tr>\n",
       "    <tr>\n",
       "      <th>1</th>\n",
       "      <td>AE000041196</td>\n",
       "      <td>20200101</td>\n",
       "      <td>PRCP</td>\n",
       "      <td>0</td>\n",
       "      <td>D</td>\n",
       "      <td>NaN</td>\n",
       "      <td>S</td>\n",
       "      <td>NaN</td>\n",
       "    </tr>\n",
       "    <tr>\n",
       "      <th>2</th>\n",
       "      <td>AE000041196</td>\n",
       "      <td>20200101</td>\n",
       "      <td>TAVG</td>\n",
       "      <td>211</td>\n",
       "      <td>H</td>\n",
       "      <td>NaN</td>\n",
       "      <td>S</td>\n",
       "      <td>NaN</td>\n",
       "    </tr>\n",
       "    <tr>\n",
       "      <th>3</th>\n",
       "      <td>AEM00041194</td>\n",
       "      <td>20200101</td>\n",
       "      <td>PRCP</td>\n",
       "      <td>0</td>\n",
       "      <td>NaN</td>\n",
       "      <td>NaN</td>\n",
       "      <td>S</td>\n",
       "      <td>NaN</td>\n",
       "    </tr>\n",
       "    <tr>\n",
       "      <th>4</th>\n",
       "      <td>AEM00041194</td>\n",
       "      <td>20200101</td>\n",
       "      <td>TAVG</td>\n",
       "      <td>217</td>\n",
       "      <td>H</td>\n",
       "      <td>NaN</td>\n",
       "      <td>S</td>\n",
       "      <td>NaN</td>\n",
       "    </tr>\n",
       "    <tr>\n",
       "      <th>5</th>\n",
       "      <td>AEM00041217</td>\n",
       "      <td>20200101</td>\n",
       "      <td>TAVG</td>\n",
       "      <td>205</td>\n",
       "      <td>H</td>\n",
       "      <td>NaN</td>\n",
       "      <td>S</td>\n",
       "      <td>NaN</td>\n",
       "    </tr>\n",
       "    <tr>\n",
       "      <th>6</th>\n",
       "      <td>AEM00041218</td>\n",
       "      <td>20200101</td>\n",
       "      <td>TMIN</td>\n",
       "      <td>148</td>\n",
       "      <td>NaN</td>\n",
       "      <td>NaN</td>\n",
       "      <td>S</td>\n",
       "      <td>NaN</td>\n",
       "    </tr>\n",
       "    <tr>\n",
       "      <th>7</th>\n",
       "      <td>AEM00041218</td>\n",
       "      <td>20200101</td>\n",
       "      <td>TAVG</td>\n",
       "      <td>199</td>\n",
       "      <td>H</td>\n",
       "      <td>NaN</td>\n",
       "      <td>S</td>\n",
       "      <td>NaN</td>\n",
       "    </tr>\n",
       "    <tr>\n",
       "      <th>8</th>\n",
       "      <td>AFM00040938</td>\n",
       "      <td>20200101</td>\n",
       "      <td>PRCP</td>\n",
       "      <td>23</td>\n",
       "      <td>NaN</td>\n",
       "      <td>NaN</td>\n",
       "      <td>S</td>\n",
       "      <td>NaN</td>\n",
       "    </tr>\n",
       "    <tr>\n",
       "      <th>9</th>\n",
       "      <td>AFM00040938</td>\n",
       "      <td>20200101</td>\n",
       "      <td>TAVG</td>\n",
       "      <td>54</td>\n",
       "      <td>H</td>\n",
       "      <td>NaN</td>\n",
       "      <td>S</td>\n",
       "      <td>NaN</td>\n",
       "    </tr>\n",
       "  </tbody>\n",
       "</table>\n",
       "</div>"
      ],
      "text/plain": [
       "    station_id      date element_code  value mflag qflag sflag  obstime\n",
       "0  AE000041196  20200101         TMIN    168   NaN   NaN     S      NaN\n",
       "1  AE000041196  20200101         PRCP      0     D   NaN     S      NaN\n",
       "2  AE000041196  20200101         TAVG    211     H   NaN     S      NaN\n",
       "3  AEM00041194  20200101         PRCP      0   NaN   NaN     S      NaN\n",
       "4  AEM00041194  20200101         TAVG    217     H   NaN     S      NaN\n",
       "5  AEM00041217  20200101         TAVG    205     H   NaN     S      NaN\n",
       "6  AEM00041218  20200101         TMIN    148   NaN   NaN     S      NaN\n",
       "7  AEM00041218  20200101         TAVG    199     H   NaN     S      NaN\n",
       "8  AFM00040938  20200101         PRCP     23   NaN   NaN     S      NaN\n",
       "9  AFM00040938  20200101         TAVG     54     H   NaN     S      NaN"
      ]
     },
     "execution_count": 4,
     "metadata": {},
     "output_type": "execute_result"
    }
   ],
   "source": [
    "df.head(10)"
   ]
  },
  {
   "cell_type": "markdown",
   "id": "b456e57c-4a12-464b-999a-ef2df5af80c1",
   "metadata": {},
   "source": [
    "The first 10 rows are provided. Obviously this is much easier than the for loop because this is only a one-line command, extremely easy to think about."
   ]
  },
  {
   "cell_type": "markdown",
   "id": "fc601975-35ed-4680-a4e1-0273ee3cc047",
   "metadata": {},
   "source": [
    "## Question 2"
   ]
  },
  {
   "cell_type": "code",
   "execution_count": 6,
   "id": "a16336a1-1ef0-41e8-bc7c-49387db27497",
   "metadata": {},
   "outputs": [
    {
     "data": {
      "text/plain": [
       "(15000000, 8)"
      ]
     },
     "execution_count": 6,
     "metadata": {},
     "output_type": "execute_result"
    }
   ],
   "source": [
    "df.shape"
   ]
  },
  {
   "cell_type": "code",
   "execution_count": 7,
   "id": "bc971b9a-7411-4444-b79f-b00d0888f82c",
   "metadata": {},
   "outputs": [
    {
     "name": "stdout",
     "output_type": "stream",
     "text": [
      "There are 8 columns in the DataFrame!\n"
     ]
    }
   ],
   "source": [
    "print(f'There are {df.shape[1]} columns in the DataFrame!')"
   ]
  },
  {
   "cell_type": "code",
   "execution_count": 8,
   "id": "0fbc1016-9b93-41df-af57-b1b63e86f3f9",
   "metadata": {},
   "outputs": [
    {
     "name": "stdout",
     "output_type": "stream",
     "text": [
      "There are 15000000 rows in the DataFrame!\n"
     ]
    }
   ],
   "source": [
    "print(f'There are {df.shape[0]} rows in the DataFrame!')"
   ]
  },
  {
   "cell_type": "markdown",
   "id": "14dc22d4-ddc3-41cc-a91a-cb0025bc0c80",
   "metadata": {},
   "source": [
    "There are 8 columns and 15000000 rows in the dataframe."
   ]
  },
  {
   "cell_type": "markdown",
   "id": "8e586edd-ff26-4ce2-8f6b-2424b26f2929",
   "metadata": {},
   "source": [
    "## Question 3"
   ]
  },
  {
   "cell_type": "code",
   "execution_count": 10,
   "id": "bbe0f40d-9655-4653-9ca8-886bdb61cb91",
   "metadata": {},
   "outputs": [
    {
     "data": {
      "text/plain": [
       "'John'"
      ]
     },
     "execution_count": 10,
     "metadata": {},
     "output_type": "execute_result"
    }
   ],
   "source": [
    "my_dict = {\"fruits\": [\"apple\", \"orange\", \"pear\"], \"person\": \"John\", \"vegetables\": [\"carrots\", \"peas\"]}\n",
    "\n",
    "# If \"person\" is indeed a key, they will function the same way\n",
    "my_dict[\"person\"]"
   ]
  },
  {
   "cell_type": "code",
   "execution_count": 11,
   "id": "2a8f88f7-cf58-493c-a82b-3326c2cdb44f",
   "metadata": {},
   "outputs": [
    {
     "data": {
      "text/plain": [
       "'John'"
      ]
     },
     "execution_count": 11,
     "metadata": {},
     "output_type": "execute_result"
    }
   ],
   "source": [
    "my_dict.get(\"person\")"
   ]
  },
  {
   "cell_type": "code",
   "execution_count": 14,
   "id": "7d916b19-6e89-4ea6-a047-e368defc15a9",
   "metadata": {},
   "outputs": [],
   "source": [
    "my_dict.get(\"Same\")"
   ]
  },
  {
   "cell_type": "code",
   "execution_count": 15,
   "id": "4c66c109-20b3-4dbc-8035-a4758364617c",
   "metadata": {},
   "outputs": [
    {
     "ename": "KeyError",
     "evalue": "'Same'",
     "output_type": "error",
     "traceback": [
      "\u001b[0;31m---------------------------------------------------------------------------\u001b[0m",
      "\u001b[0;31mKeyError\u001b[0m                                  Traceback (most recent call last)",
      "\u001b[0;32m<ipython-input-15-b2604a9aae85>\u001b[0m in \u001b[0;36m<module>\u001b[0;34m\u001b[0m\n\u001b[0;32m----> 1\u001b[0;31m \u001b[0mmy_dict\u001b[0m\u001b[0;34m[\u001b[0m\u001b[0;34m\"Same\"\u001b[0m\u001b[0;34m]\u001b[0m\u001b[0;34m\u001b[0m\u001b[0;34m\u001b[0m\u001b[0m\n\u001b[0m",
      "\u001b[0;31mKeyError\u001b[0m: 'Same'"
     ]
    }
   ],
   "source": [
    "my_dict[\"Same\"]"
   ]
  },
  {
   "cell_type": "code",
   "execution_count": 9,
   "id": "ccde98a4-429b-454f-b5e1-5e7ab4d2fee2",
   "metadata": {},
   "outputs": [],
   "source": [
    "station_ids = df[\"station_id\"].dropna().tolist()"
   ]
  },
  {
   "cell_type": "code",
   "execution_count": 3,
   "id": "7bd12106-31b9-4c9a-83e1-192026329335",
   "metadata": {},
   "outputs": [],
   "source": [
    "my_dict = {}"
   ]
  },
  {
   "cell_type": "code",
   "execution_count": 10,
   "id": "ac7fbaa4-94de-48ec-b205-3db1d4b8e78c",
   "metadata": {},
   "outputs": [],
   "source": [
    "Unique1 = list(set(station_ids))"
   ]
  },
  {
   "cell_type": "code",
   "execution_count": 11,
   "id": "7c451d6a-c091-42ac-bdf6-dfd5f91ac170",
   "metadata": {},
   "outputs": [],
   "source": [
    "for i in Unique1:\n",
    "    my_dict[i] = 0"
   ]
  },
  {
   "cell_type": "code",
   "execution_count": 12,
   "id": "d969e783-2b08-4c54-bf4f-46ba774d4dc7",
   "metadata": {},
   "outputs": [],
   "source": [
    "for j in station_ids:\n",
    "    my_dict[j]+=1"
   ]
  },
  {
   "cell_type": "code",
   "execution_count": 20,
   "id": "83318e30-c6f1-4d66-a6db-b47114630dc8",
   "metadata": {},
   "outputs": [
    {
     "name": "stdout",
     "output_type": "stream",
     "text": [
      "378\n"
     ]
    }
   ],
   "source": [
    "print(my_dict['US1MANF0058'])"
   ]
  },
  {
   "cell_type": "code",
   "execution_count": 25,
   "id": "4be69e08-a200-4d1a-b5d2-5429226ecc4d",
   "metadata": {},
   "outputs": [
    {
     "name": "stdout",
     "output_type": "stream",
     "text": [
      "1290\n"
     ]
    }
   ],
   "source": [
    "print(my_dict['USW00023081'])"
   ]
  },
  {
   "cell_type": "code",
   "execution_count": 26,
   "id": "ed3c9331-f469-4ca3-b288-169f69332acc",
   "metadata": {},
   "outputs": [
    {
     "name": "stdout",
     "output_type": "stream",
     "text": [
      "13\n"
     ]
    }
   ],
   "source": [
    "print(my_dict['US10sali004'])"
   ]
  },
  {
   "cell_type": "markdown",
   "id": "47c6229f-35f7-400c-8366-c442baa5cf47",
   "metadata": {},
   "source": [
    "\"get\" function and braskets normally works the same, but when searching for a non-exist key, brackets would show an error but get method won't. The dictionary my_dict is designed as above."
   ]
  },
  {
   "cell_type": "markdown",
   "id": "da22f29c-d245-4d2b-9fc1-ca14cb6087d9",
   "metadata": {},
   "source": [
    "## Question 4"
   ]
  },
  {
   "cell_type": "code",
   "execution_count": 27,
   "id": "8cffc767-d1c8-4d64-b7dc-f0d2ee8a80d1",
   "metadata": {},
   "outputs": [],
   "source": [
    "df_intruder = pd.read_csv('/depot/datamine/data/noaa/2020_sampleB.csv', names=[\"station_id\", \"date\", \"element_code\", \"value\", \"mflag\", \"qflag\", \"sflag\", \"obstime\"])"
   ]
  },
  {
   "cell_type": "code",
   "execution_count": 29,
   "id": "497829d9-f5a7-4062-8061-bce7261920e3",
   "metadata": {},
   "outputs": [],
   "source": [
    "intruder_ids = df_intruder[\"station_id\"].dropna().tolist()"
   ]
  },
  {
   "cell_type": "code",
   "execution_count": 31,
   "id": "d22becaa-b7d1-4dcf-ab89-a8a282f314b6",
   "metadata": {},
   "outputs": [],
   "source": [
    "Unique2 = list(set(intruder_ids))"
   ]
  },
  {
   "cell_type": "code",
   "execution_count": 34,
   "id": "2e02ed96-45f0-4675-bcc2-1da1f6fe8243",
   "metadata": {},
   "outputs": [
    {
     "name": "stdout",
     "output_type": "stream",
     "text": [
      "USFAKEROW22\n"
     ]
    }
   ],
   "source": [
    "for i in Unique2:\n",
    "    if i not in Unique1:\n",
    "        print(i)"
   ]
  },
  {
   "cell_type": "code",
   "execution_count": 39,
   "id": "81ca40c8-eb5a-43cc-b5b7-902fe7f6d807",
   "metadata": {},
   "outputs": [
    {
     "data": {
      "text/html": [
       "<div>\n",
       "<style scoped>\n",
       "    .dataframe tbody tr th:only-of-type {\n",
       "        vertical-align: middle;\n",
       "    }\n",
       "\n",
       "    .dataframe tbody tr th {\n",
       "        vertical-align: top;\n",
       "    }\n",
       "\n",
       "    .dataframe thead th {\n",
       "        text-align: right;\n",
       "    }\n",
       "</style>\n",
       "<table border=\"1\" class=\"dataframe\">\n",
       "  <thead>\n",
       "    <tr style=\"text-align: right;\">\n",
       "      <th></th>\n",
       "      <th>station_id</th>\n",
       "      <th>date</th>\n",
       "      <th>element_code</th>\n",
       "      <th>value</th>\n",
       "      <th>mflag</th>\n",
       "      <th>qflag</th>\n",
       "      <th>sflag</th>\n",
       "      <th>obstime</th>\n",
       "    </tr>\n",
       "  </thead>\n",
       "  <tbody>\n",
       "    <tr>\n",
       "      <th>13002032</th>\n",
       "      <td>USFAKEROW22</td>\n",
       "      <td>20200516</td>\n",
       "      <td>PRCP</td>\n",
       "      <td>0</td>\n",
       "      <td>NaN</td>\n",
       "      <td>NaN</td>\n",
       "      <td>N</td>\n",
       "      <td>NaN</td>\n",
       "    </tr>\n",
       "  </tbody>\n",
       "</table>\n",
       "</div>"
      ],
      "text/plain": [
       "           station_id      date element_code  value mflag qflag sflag  obstime\n",
       "13002032  USFAKEROW22  20200516         PRCP      0   NaN   NaN     N      NaN"
      ]
     },
     "execution_count": 39,
     "metadata": {},
     "output_type": "execute_result"
    }
   ],
   "source": [
    "df_intruder[df_intruder[\"station_id\"] == \"USFAKEROW22\" ]"
   ]
  },
  {
   "cell_type": "markdown",
   "id": "0d552245-b4d6-474a-9cc9-fa7b8e674d55",
   "metadata": {},
   "source": [
    "The intruder row is printed."
   ]
  },
  {
   "cell_type": "markdown",
   "id": "88c9cdac-3e92-498f-83fa-e089bfc44ac8",
   "metadata": {},
   "source": [
    "## Question 5"
   ]
  },
  {
   "cell_type": "code",
   "execution_count": 1,
   "id": "d370d7c9-06db-42b9-b75f-240481a5c491",
   "metadata": {},
   "outputs": [
    {
     "data": {
      "image/png": "[encoded data removed]",
      "text/plain": [
       "<Figure size 432x288 with 1 Axes>"
      ]
     },
     "metadata": {
      "needs_background": "light"
     },
     "output_type": "display_data"
    }
   ],
   "source": [
    "import matplotlib.pyplot as plt\n",
    "plt.plot([1,2,3,5],[5,6,7,8])\n",
    "plt.show()\n",
    "plt.close()"
   ]
  },
  {
   "cell_type": "code",
   "execution_count": 55,
   "id": "dba894f5-8663-4cc6-800d-2590b59cfc97",
   "metadata": {},
   "outputs": [],
   "source": [
    "new_dict = {}"
   ]
  },
  {
   "cell_type": "code",
   "execution_count": 56,
   "id": "7826fe49-0ee0-4715-b19a-28979830e4b9",
   "metadata": {},
   "outputs": [],
   "source": [
    "q_flag = df[\"qflag\"].dropna().tolist()"
   ]
  },
  {
   "cell_type": "code",
   "execution_count": 57,
   "id": "6f7b9128-a821-42ce-99d3-87a2fad980b4",
   "metadata": {},
   "outputs": [],
   "source": [
    "Unique3 = list(set(q_flag))"
   ]
  },
  {
   "cell_type": "code",
   "execution_count": 58,
   "id": "df641aec-cf1b-4a2c-924e-b692c009b41c",
   "metadata": {},
   "outputs": [],
   "source": [
    "for i in Unique3:\n",
    "    new_dict[i]=0"
   ]
  },
  {
   "cell_type": "code",
   "execution_count": 59,
   "id": "2cc2e861-2682-45fd-9c71-791cd13d4356",
   "metadata": {},
   "outputs": [],
   "source": [
    "for j in q_flag:\n",
    "    new_dict[j]+=1"
   ]
  },
  {
   "cell_type": "code",
   "execution_count": 16,
   "id": "cceee4c4-3875-48f9-9e19-22e627bf4215",
   "metadata": {},
   "outputs": [],
   "source": [
    "import itertools"
   ]
  },
  {
   "cell_type": "code",
   "execution_count": 60,
   "id": "94770212-48eb-4f3d-b9d3-97246daece93",
   "metadata": {},
   "outputs": [],
   "source": [
    "Sliced = dict(itertools.islice(new_dict.items(),20))"
   ]
  },
  {
   "cell_type": "code",
   "execution_count": 61,
   "id": "822ad13b-1ba9-4376-b7dd-52337ca94039",
   "metadata": {},
   "outputs": [
    {
     "data": {
      "text/plain": [
       "<BarContainer object of 14 artists>"
      ]
     },
     "execution_count": 61,
     "metadata": {},
     "output_type": "execute_result"
    },
    {
     "data": {
      "image/png": "[encoded data removed]",
      "text/plain": [
       "<Figure size 432x288 with 1 Axes>"
      ]
     },
     "metadata": {
      "needs_background": "light"
     },
     "output_type": "display_data"
    }
   ],
   "source": [
    "plt.bar(Sliced.keys(), Sliced.values()) "
   ]
  },
  {
   "cell_type": "code",
   "execution_count": 21,
   "id": "e10f890e-022b-47e3-8e7e-fa65a0d32035",
   "metadata": {},
   "outputs": [
    {
     "data": {
      "text/plain": [
       "<matplotlib.collections.PathCollection at 0x2b9c44216eb0>"
      ]
     },
     "execution_count": 21,
     "metadata": {},
     "output_type": "execute_result"
    },
    {
     "data": {
      "image/png": "[encoded data removed]",
      "text/plain": [
       "<Figure size 432x288 with 1 Axes>"
      ]
     },
     "metadata": {
      "needs_background": "light"
     },
     "output_type": "display_data"
    }
   ],
   "source": [
    "plt.scatter(df[\"qflag\"].dropna().head(n=100) ,df[\"value\"].head(n=100)) # Check the relationship between qflag and value"
   ]
  },
  {
   "cell_type": "markdown",
   "id": "9fbf00fb-2418-460f-ae94-2a32b0c28952",
   "metadata": {},
   "source": [
    "First, I used itertools to slice the dictonary, and created a new dictonary of qflag. Then I draw the first 20 qflags and see how many times they appear in the full data set respectively. Then, I draw a scatter plot between values and qflag."
   ]
  },
  {
   "cell_type": "markdown",
   "id": "f76442d6-d02e-4f26-b9d6-c3183e1d6929",
   "metadata": {},
   "source": [
    "## Pledge\n",
    "\n",
    "By submitting this work I hereby pledge that this is my own, personal work. I've acknowledged in the designated place at the top of this file all sources that I used to complete said work, including but not limited to: online resources, books, and electronic communications. I've noted all collaboration with fellow students and/or TA's. I did not copy or plagiarize another's work.\n",
    "\n",
    "> As a Boilermaker pursuing academic excellence, I pledge to be honest and true in all that I do. Accountable together – We are Purdue."
   ]
  }
 ],
 "metadata": {
  "kernelspec": {
   "display_name": "f2021-s2022",
   "language": "python",
   "name": "tdm-brown-scratch-f2021-s2022"
  },
  "language_info": {
   "codemirror_mode": {
    "name": "ipython",
    "version": 3
   },
   "file_extension": ".py",
   "mimetype": "text/x-python",
   "name": "python",
   "nbconvert_exporter": "python",
   "pygments_lexer": "ipython3",
   "version": "3.9.6"
  }
 },
 "nbformat": 4,
 "nbformat_minor": 5
}
