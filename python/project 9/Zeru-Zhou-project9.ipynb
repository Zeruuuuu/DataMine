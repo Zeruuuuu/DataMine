{
 "cells": [
  {
   "cell_type": "markdown",
   "id": "be02a957-7133-4d02-818e-fedeb3cecb05",
   "metadata": {},
   "source": [
    "# Project 9 -- Zeru Zhou"
   ]
  },
  {
   "cell_type": "markdown",
   "id": "a1228853-dd19-4ab2-89e0-0394d7d72de3",
   "metadata": {},
   "source": [
    "**TA Help:** NA\n",
    "\n",
    "\n",
    "    \n",
    "**Collaboration:** NA\n",
    "    \n",
    "- Get help from Dr. Ward's videos"
   ]
  },
  {
   "cell_type": "markdown",
   "id": "6180e742-8e39-4698-98ff-5b00c8cf8ea0",
   "metadata": {},
   "source": [
    "## Question 1"
   ]
  },
  {
   "cell_type": "code",
   "execution_count": 1,
   "id": "49445606-d363-41b4-b479-e319a9a84c01",
   "metadata": {},
   "outputs": [],
   "source": [
    "import pandas as pd"
   ]
  },
  {
   "cell_type": "code",
   "execution_count": 2,
   "id": "65786d40-d55c-4f8b-ac07-2da2ead953e9",
   "metadata": {},
   "outputs": [
    {
     "data": {
      "text/html": [
       "<div>\n",
       "<style scoped>\n",
       "    .dataframe tbody tr th:only-of-type {\n",
       "        vertical-align: middle;\n",
       "    }\n",
       "\n",
       "    .dataframe tbody tr th {\n",
       "        vertical-align: top;\n",
       "    }\n",
       "\n",
       "    .dataframe thead th {\n",
       "        text-align: right;\n",
       "    }\n",
       "</style>\n",
       "<table border=\"1\" class=\"dataframe\">\n",
       "  <thead>\n",
       "    <tr style=\"text-align: right;\">\n",
       "      <th></th>\n",
       "      <th>datetime</th>\n",
       "      <th>SACTMIN</th>\n",
       "      <th>SPOSTMIN</th>\n",
       "      <th>ride_name</th>\n",
       "      <th>status</th>\n",
       "    </tr>\n",
       "  </thead>\n",
       "  <tbody>\n",
       "    <tr>\n",
       "      <th>0</th>\n",
       "      <td>2015-01-01 08:27:58</td>\n",
       "      <td>NaN</td>\n",
       "      <td>NaN</td>\n",
       "      <td>pirates_of_caribbean</td>\n",
       "      <td>closed</td>\n",
       "    </tr>\n",
       "    <tr>\n",
       "      <th>1</th>\n",
       "      <td>2015-01-01 08:56:55</td>\n",
       "      <td>NaN</td>\n",
       "      <td>NaN</td>\n",
       "      <td>pirates_of_caribbean</td>\n",
       "      <td>closed</td>\n",
       "    </tr>\n",
       "    <tr>\n",
       "      <th>2</th>\n",
       "      <td>2015-01-01 08:57:38</td>\n",
       "      <td>NaN</td>\n",
       "      <td>NaN</td>\n",
       "      <td>pirates_of_caribbean</td>\n",
       "      <td>closed</td>\n",
       "    </tr>\n",
       "    <tr>\n",
       "      <th>3</th>\n",
       "      <td>2015-01-01 08:58:34</td>\n",
       "      <td>NaN</td>\n",
       "      <td>NaN</td>\n",
       "      <td>pirates_of_caribbean</td>\n",
       "      <td>closed</td>\n",
       "    </tr>\n",
       "    <tr>\n",
       "      <th>4</th>\n",
       "      <td>2015-01-01 09:24:55</td>\n",
       "      <td>NaN</td>\n",
       "      <td>NaN</td>\n",
       "      <td>pirates_of_caribbean</td>\n",
       "      <td>closed</td>\n",
       "    </tr>\n",
       "  </tbody>\n",
       "</table>\n",
       "</div>"
      ],
      "text/plain": [
       "             datetime  SACTMIN  SPOSTMIN             ride_name  status\n",
       "0 2015-01-01 08:27:58      NaN       NaN  pirates_of_caribbean  closed\n",
       "1 2015-01-01 08:56:55      NaN       NaN  pirates_of_caribbean  closed\n",
       "2 2015-01-01 08:57:38      NaN       NaN  pirates_of_caribbean  closed\n",
       "3 2015-01-01 08:58:34      NaN       NaN  pirates_of_caribbean  closed\n",
       "4 2015-01-01 09:24:55      NaN       NaN  pirates_of_caribbean  closed"
      ]
     },
     "execution_count": 2,
     "metadata": {},
     "output_type": "execute_result"
    }
   ],
   "source": [
    "dat = pd.read_parquet(\"/depot/datamine/data/disney/total.parquet\")\n",
    "dat.head()"
   ]
  },
  {
   "cell_type": "code",
   "execution_count": 3,
   "id": "c0508f8c-5f04-47d3-a92b-1d9f0a66d483",
   "metadata": {},
   "outputs": [
    {
     "data": {
      "text/plain": [
       "False    3443445\n",
       "Name: status, dtype: int64"
      ]
     },
     "execution_count": 3,
     "metadata": {},
     "output_type": "execute_result"
    }
   ],
   "source": [
    "dat['status'].isna().value_counts()"
   ]
  },
  {
   "cell_type": "code",
   "execution_count": 4,
   "id": "7be9199f-3b2d-4c10-bf9b-4e807e9b5a8e",
   "metadata": {},
   "outputs": [
    {
     "data": {
      "text/plain": [
       "ride_name\n",
       "7_dwarfs_train          321631\n",
       "alien_saucers           129876\n",
       "dinosaur                252403\n",
       "expedition_everest      275274\n",
       "flight_of_passage       184818\n",
       "kilimanjaro_safaris     257785\n",
       "navi_river              182121\n",
       "pirates_of_caribbean    301946\n",
       "rock_n_rollercoaster    277509\n",
       "slinky_dog              135946\n",
       "soarin                  274770\n",
       "spaceship_earth         277248\n",
       "splash_mountain         287948\n",
       "toy_story_mania         284170\n",
       "Name: status, dtype: int64"
      ]
     },
     "execution_count": 4,
     "metadata": {},
     "output_type": "execute_result"
    }
   ],
   "source": [
    "dat.groupby(\"ride_name\")['status'].count()"
   ]
  },
  {
   "cell_type": "markdown",
   "id": "b456e57c-4a12-464b-999a-ef2df5af80c1",
   "metadata": {},
   "source": [
    "Number of rows for each rides are listed above."
   ]
  },
  {
   "cell_type": "markdown",
   "id": "fc601975-35ed-4680-a4e1-0273ee3cc047",
   "metadata": {},
   "source": [
    "## Question 2"
   ]
  },
  {
   "cell_type": "code",
   "execution_count": 5,
   "id": "a16336a1-1ef0-41e8-bc7c-49387db27497",
   "metadata": {},
   "outputs": [
    {
     "name": "stdout",
     "output_type": "stream",
     "text": [
      "There are 3146086 rows that SPOSTMIN is not null\n"
     ]
    }
   ],
   "source": [
    "print(f\"There are {dat['SPOSTMIN'].notna().sum()} rows that SPOSTMIN is not null\")"
   ]
  },
  {
   "cell_type": "code",
   "execution_count": 6,
   "id": "7c6f051a-daff-48a8-8cb8-c3304a659868",
   "metadata": {},
   "outputs": [
    {
     "name": "stdout",
     "output_type": "stream",
     "text": [
      "There are 96171 rows that SACTMIN is not null\n"
     ]
    }
   ],
   "source": [
    "print(f\"There are {dat['SACTMIN'].notna().sum()} rows that SACTMIN is not null\")"
   ]
  },
  {
   "cell_type": "code",
   "execution_count": 7,
   "id": "b1de04fd-debc-422a-8665-6c40e68864bc",
   "metadata": {},
   "outputs": [],
   "source": [
    "def sort_combine(dat):\n",
    "    # Find the time before and after\n",
    "    dat['time_after']=dat['datetime'].shift(-1)\n",
    "    dat['time_before']=dat['datetime'].shift(1)\n",
    "    \n",
    "    # Find the SPOSTMIN before and after value\n",
    "    dat['SPOSTMIN_after']=dat['SPOSTMIN'].shift(-1)\n",
    "    dat['SPOSTMIN_before']=dat['SPOSTMIN'].shift(1)\n",
    "    \n",
    "    # Find the time difference\n",
    "    dat['time_diff_after']=dat['datetime']-dat['time_after']\n",
    "    dat['time_diff_before']=dat['datetime']-dat['time_before']\n",
    "    \n",
    "    # Find the shortest time\n",
    "    dat['Previous_is_shorter'] = dat['time_diff_after'].abs()>dat['time_diff_before'].abs()\n",
    "    \n",
    "    # Filter the NA value\n",
    "    dat = dat.loc[dat['SACTMIN'].notna(), :]\n",
    "    \n",
    "    # Replace value\n",
    "    dat.loc[dat['Previous_is_shorter']==True, 'SPOSTMIN'] = dat.loc[dat['Previous_is_shorter']==True, 'SPOSTMIN_before']\n",
    "    dat.loc[dat['Previous_is_shorter']!=True, 'SPOSTMIN'] = dat.loc[dat['Previous_is_shorter']!=True, 'SPOSTMIN_after']\n",
    "    \n",
    "    # Time difference\n",
    "    dat.loc[dat['Previous_is_shorter']==True, 'time_diff'] = dat.loc[dat['Previous_is_shorter']==True, 'time_diff_before']\n",
    "    dat.loc[dat['Previous_is_shorter']!=True, 'time_diff'] = dat.loc[dat['Previous_is_shorter']!=True, 'time_diff_after']\n",
    "    \n",
    "    # Drop Variables\n",
    "    dat = dat.drop(columns = ['time_after', 'time_before', 'SPOSTMIN_after', 'SPOSTMIN_before', 'time_diff_after', 'time_diff_before', 'Previous_is_shorter'])\n",
    "    \n",
    "    # Return data\n",
    "    return(dat)\n",
    "    "
   ]
  },
  {
   "cell_type": "code",
   "execution_count": 8,
   "id": "9f0adbd1-2514-46cb-8dcf-d71c0af9f7f1",
   "metadata": {},
   "outputs": [
    {
     "data": {
      "text/html": [
       "<div>\n",
       "<style scoped>\n",
       "    .dataframe tbody tr th:only-of-type {\n",
       "        vertical-align: middle;\n",
       "    }\n",
       "\n",
       "    .dataframe tbody tr th {\n",
       "        vertical-align: top;\n",
       "    }\n",
       "\n",
       "    .dataframe thead th {\n",
       "        text-align: right;\n",
       "    }\n",
       "</style>\n",
       "<table border=\"1\" class=\"dataframe\">\n",
       "  <thead>\n",
       "    <tr style=\"text-align: right;\">\n",
       "      <th></th>\n",
       "      <th>datetime</th>\n",
       "      <th>SACTMIN</th>\n",
       "      <th>SPOSTMIN</th>\n",
       "      <th>ride_name</th>\n",
       "      <th>status</th>\n",
       "      <th>time_diff</th>\n",
       "    </tr>\n",
       "  </thead>\n",
       "  <tbody>\n",
       "    <tr>\n",
       "      <th>0</th>\n",
       "      <td>2015-01-01 08:05:30</td>\n",
       "      <td>54.0</td>\n",
       "      <td>60.0</td>\n",
       "      <td>7_dwarfs_train</td>\n",
       "      <td>open</td>\n",
       "      <td>0 days 00:03:17</td>\n",
       "    </tr>\n",
       "    <tr>\n",
       "      <th>1</th>\n",
       "      <td>2015-01-01 08:22:16</td>\n",
       "      <td>55.0</td>\n",
       "      <td>60.0</td>\n",
       "      <td>7_dwarfs_train</td>\n",
       "      <td>open</td>\n",
       "      <td>-1 days +23:59:04</td>\n",
       "    </tr>\n",
       "    <tr>\n",
       "      <th>2</th>\n",
       "      <td>2015-01-02 12:20:00</td>\n",
       "      <td>160.0</td>\n",
       "      <td>120.0</td>\n",
       "      <td>7_dwarfs_train</td>\n",
       "      <td>open</td>\n",
       "      <td>-1 days +23:56:49</td>\n",
       "    </tr>\n",
       "    <tr>\n",
       "      <th>3</th>\n",
       "      <td>2015-01-02 21:49:47</td>\n",
       "      <td>65.0</td>\n",
       "      <td>60.0</td>\n",
       "      <td>7_dwarfs_train</td>\n",
       "      <td>open</td>\n",
       "      <td>-1 days +23:58:35</td>\n",
       "    </tr>\n",
       "    <tr>\n",
       "      <th>4</th>\n",
       "      <td>2015-01-03 00:44:09</td>\n",
       "      <td>19.0</td>\n",
       "      <td>60.0</td>\n",
       "      <td>7_dwarfs_train</td>\n",
       "      <td>open</td>\n",
       "      <td>-1 days +23:55:22</td>\n",
       "    </tr>\n",
       "  </tbody>\n",
       "</table>\n",
       "</div>"
      ],
      "text/plain": [
       "             datetime  SACTMIN  SPOSTMIN       ride_name status  \\\n",
       "0 2015-01-01 08:05:30     54.0      60.0  7_dwarfs_train   open   \n",
       "1 2015-01-01 08:22:16     55.0      60.0  7_dwarfs_train   open   \n",
       "2 2015-01-02 12:20:00    160.0     120.0  7_dwarfs_train   open   \n",
       "3 2015-01-02 21:49:47     65.0      60.0  7_dwarfs_train   open   \n",
       "4 2015-01-03 00:44:09     19.0      60.0  7_dwarfs_train   open   \n",
       "\n",
       "          time_diff  \n",
       "0   0 days 00:03:17  \n",
       "1 -1 days +23:59:04  \n",
       "2 -1 days +23:56:49  \n",
       "3 -1 days +23:58:35  \n",
       "4 -1 days +23:55:22  "
      ]
     },
     "execution_count": 8,
     "metadata": {},
     "output_type": "execute_result"
    }
   ],
   "source": [
    "reduced = dat.groupby('ride_name').apply(sort_combine).reset_index(drop=True)\n",
    "reduced.head()"
   ]
  },
  {
   "cell_type": "markdown",
   "id": "14dc22d4-ddc3-41cc-a91a-cb0025bc0c80",
   "metadata": {},
   "source": [
    "New dataframe and columns are created."
   ]
  },
  {
   "cell_type": "markdown",
   "id": "8e586edd-ff26-4ce2-8f6b-2424b26f2929",
   "metadata": {},
   "source": [
    "## Question 3"
   ]
  },
  {
   "cell_type": "code",
   "execution_count": 9,
   "id": "918e83d1-87dc-4c8f-b1aa-27b5f1767ab3",
   "metadata": {},
   "outputs": [
    {
     "data": {
      "text/plain": [
       "(96171, 6)"
      ]
     },
     "execution_count": 9,
     "metadata": {},
     "output_type": "execute_result"
    }
   ],
   "source": [
    "reduced.shape"
   ]
  },
  {
   "cell_type": "code",
   "execution_count": 10,
   "id": "7114698f-68d6-4508-b68a-f8a66a49172d",
   "metadata": {},
   "outputs": [
    {
     "data": {
      "text/plain": [
       "(3443445, 5)"
      ]
     },
     "execution_count": 10,
     "metadata": {},
     "output_type": "execute_result"
    }
   ],
   "source": [
    "dat.shape"
   ]
  },
  {
   "cell_type": "code",
   "execution_count": 11,
   "id": "bb99e8d6-41fc-4da4-894c-3b861595fbd1",
   "metadata": {},
   "outputs": [
    {
     "data": {
      "text/plain": [
       "3347274"
      ]
     },
     "execution_count": 11,
     "metadata": {},
     "output_type": "execute_result"
    }
   ],
   "source": [
    "3443445-96171"
   ]
  },
  {
   "cell_type": "code",
   "execution_count": 12,
   "id": "bbe0f40d-9655-4653-9ca8-886bdb61cb91",
   "metadata": {},
   "outputs": [
    {
     "data": {
      "text/html": [
       "<div>\n",
       "<style scoped>\n",
       "    .dataframe tbody tr th:only-of-type {\n",
       "        vertical-align: middle;\n",
       "    }\n",
       "\n",
       "    .dataframe tbody tr th {\n",
       "        vertical-align: top;\n",
       "    }\n",
       "\n",
       "    .dataframe thead th {\n",
       "        text-align: right;\n",
       "    }\n",
       "</style>\n",
       "<table border=\"1\" class=\"dataframe\">\n",
       "  <thead>\n",
       "    <tr style=\"text-align: right;\">\n",
       "      <th></th>\n",
       "      <th>SACTMIN</th>\n",
       "      <th>SPOSTMIN</th>\n",
       "    </tr>\n",
       "    <tr>\n",
       "      <th>ride_name</th>\n",
       "      <th></th>\n",
       "      <th></th>\n",
       "    </tr>\n",
       "  </thead>\n",
       "  <tbody>\n",
       "    <tr>\n",
       "      <th>spaceship_earth</th>\n",
       "      <td>7.0</td>\n",
       "      <td>15.0</td>\n",
       "    </tr>\n",
       "    <tr>\n",
       "      <th>expedition_everest</th>\n",
       "      <td>13.0</td>\n",
       "      <td>20.0</td>\n",
       "    </tr>\n",
       "    <tr>\n",
       "      <th>pirates_of_caribbean</th>\n",
       "      <td>16.0</td>\n",
       "      <td>25.0</td>\n",
       "    </tr>\n",
       "    <tr>\n",
       "      <th>dinosaur</th>\n",
       "      <td>17.0</td>\n",
       "      <td>20.0</td>\n",
       "    </tr>\n",
       "    <tr>\n",
       "      <th>kilimanjaro_safaris</th>\n",
       "      <td>18.0</td>\n",
       "      <td>30.0</td>\n",
       "    </tr>\n",
       "    <tr>\n",
       "      <th>alien_saucers</th>\n",
       "      <td>21.0</td>\n",
       "      <td>30.0</td>\n",
       "    </tr>\n",
       "    <tr>\n",
       "      <th>soarin</th>\n",
       "      <td>22.0</td>\n",
       "      <td>30.0</td>\n",
       "    </tr>\n",
       "    <tr>\n",
       "      <th>splash_mountain</th>\n",
       "      <td>22.0</td>\n",
       "      <td>35.0</td>\n",
       "    </tr>\n",
       "    <tr>\n",
       "      <th>toy_story_mania</th>\n",
       "      <td>23.0</td>\n",
       "      <td>35.0</td>\n",
       "    </tr>\n",
       "    <tr>\n",
       "      <th>navi_river</th>\n",
       "      <td>24.0</td>\n",
       "      <td>40.0</td>\n",
       "    </tr>\n",
       "    <tr>\n",
       "      <th>rock_n_rollercoaster</th>\n",
       "      <td>26.0</td>\n",
       "      <td>40.0</td>\n",
       "    </tr>\n",
       "    <tr>\n",
       "      <th>7_dwarfs_train</th>\n",
       "      <td>31.0</td>\n",
       "      <td>50.0</td>\n",
       "    </tr>\n",
       "    <tr>\n",
       "      <th>slinky_dog</th>\n",
       "      <td>37.0</td>\n",
       "      <td>60.0</td>\n",
       "    </tr>\n",
       "    <tr>\n",
       "      <th>flight_of_passage</th>\n",
       "      <td>53.0</td>\n",
       "      <td>75.0</td>\n",
       "    </tr>\n",
       "  </tbody>\n",
       "</table>\n",
       "</div>"
      ],
      "text/plain": [
       "                      SACTMIN  SPOSTMIN\n",
       "ride_name                              \n",
       "spaceship_earth           7.0      15.0\n",
       "expedition_everest       13.0      20.0\n",
       "pirates_of_caribbean     16.0      25.0\n",
       "dinosaur                 17.0      20.0\n",
       "kilimanjaro_safaris      18.0      30.0\n",
       "alien_saucers            21.0      30.0\n",
       "soarin                   22.0      30.0\n",
       "splash_mountain          22.0      35.0\n",
       "toy_story_mania          23.0      35.0\n",
       "navi_river               24.0      40.0\n",
       "rock_n_rollercoaster     26.0      40.0\n",
       "7_dwarfs_train           31.0      50.0\n",
       "slinky_dog               37.0      60.0\n",
       "flight_of_passage        53.0      75.0"
      ]
     },
     "execution_count": 12,
     "metadata": {},
     "output_type": "execute_result"
    }
   ],
   "source": [
    "reduced.groupby('ride_name').median().sort_values('SACTMIN', ascending=True)"
   ]
  },
  {
   "cell_type": "code",
   "execution_count": 13,
   "id": "196161b7-9a73-4c3d-9996-17a44fff6a9b",
   "metadata": {},
   "outputs": [
    {
     "data": {
      "text/plain": [
       "<AxesSubplot:xlabel='ride_name'>"
      ]
     },
     "execution_count": 13,
     "metadata": {},
     "output_type": "execute_result"
    },
    {
     "data": {
      "image/png": "[encoded data removed]",
      "text/plain": [
       "<Figure size 432x288 with 1 Axes>"
      ]
     },
     "metadata": {
      "needs_background": "light"
     },
     "output_type": "display_data"
    }
   ],
   "source": [
    "reduced.groupby('ride_name')['SPOSTMIN'].median().plot.bar()"
   ]
  },
  {
   "cell_type": "markdown",
   "id": "47c6229f-35f7-400c-8366-c442baa5cf47",
   "metadata": {},
   "source": [
    "Reduced dataframe is 3347274 rows less than the original one. The median is closer in compare to the original one. It is close enough to be able to draw compariations because we could see that the time differences are at most few minutes."
   ]
  },
  {
   "cell_type": "markdown",
   "id": "da22f29c-d245-4d2b-9fc1-ca14cb6087d9",
   "metadata": {},
   "source": [
    "## Question 4"
   ]
  },
  {
   "cell_type": "code",
   "execution_count": 20,
   "id": "8cffc767-d1c8-4d64-b7dc-f0d2ee8a80d1",
   "metadata": {},
   "outputs": [
    {
     "data": {
      "text/plain": [
       "(95947, 6)"
      ]
     },
     "execution_count": 20,
     "metadata": {},
     "output_type": "execute_result"
    }
   ],
   "source": [
    "reduced = reduced.loc[reduced['time_diff'].abs() <= '0 days 01:00:00']\n",
    "reduced.shape"
   ]
  },
  {
   "cell_type": "code",
   "execution_count": 21,
   "id": "ae648f49-7a0d-4f59-ac2f-5bdd40e61ecf",
   "metadata": {},
   "outputs": [],
   "source": [
    "reduced['SPOSTMIN_is_greater']=reduced['SPOSTMIN']>reduced['SACTMIN']"
   ]
  },
  {
   "cell_type": "code",
   "execution_count": 23,
   "id": "5d1e7ba5-6217-4d16-b45c-6fa0b6e3d88f",
   "metadata": {},
   "outputs": [],
   "source": [
    "Count = reduced.groupby('ride_name')['SPOSTMIN_is_greater'].value_counts()"
   ]
  },
  {
   "cell_type": "code",
   "execution_count": 24,
   "id": "73e97477-e20f-44ab-ac3a-362d4e959e78",
   "metadata": {},
   "outputs": [
    {
     "data": {
      "text/plain": [
       "<AxesSubplot:xlabel='ride_name,SPOSTMIN_is_greater'>"
      ]
     },
     "execution_count": 24,
     "metadata": {},
     "output_type": "execute_result"
    },
    {
     "data": {
      "image/png": "[encoded data removed]",
      "text/plain": [
       "<Figure size 432x288 with 1 Axes>"
      ]
     },
     "metadata": {
      "needs_background": "light"
     },
     "output_type": "display_data"
    }
   ],
   "source": [
    "Count.plot.bar()"
   ]
  },
  {
   "cell_type": "markdown",
   "id": "0d552245-b4d6-474a-9cc9-fa7b8e674d55",
   "metadata": {},
   "source": [
    "Question: For different ride names, how many of rows are the SPOSTMIN greater than SACTMIN? Hypothesis: In most cases SPOSTMIN would be greater than SACTMIN. The graph is drawn above, and we found that indeed in most cases, SPOSTMINs are greater than  SACTMINs."
   ]
  },
  {
   "cell_type": "markdown",
   "id": "f76442d6-d02e-4f26-b9d6-c3183e1d6929",
   "metadata": {},
   "source": [
    "## Pledge\n",
    "\n",
    "By submitting this work I hereby pledge that this is my own, personal work. I've acknowledged in the designated place at the top of this file all sources that I used to complete said work, including but not limited to: online resources, books, and electronic communications. I've noted all collaboration with fellow students and/or TA's. I did not copy or plagiarize another's work.\n",
    "\n",
    "> As a Boilermaker pursuing academic excellence, I pledge to be honest and true in all that I do. Accountable together – We are Purdue."
   ]
  }
 ],
 "metadata": {
  "kernelspec": {
   "display_name": "f2021-s2022",
   "language": "python",
   "name": "tdm-brown-scratch-f2021-s2022"
  },
  "language_info": {
   "codemirror_mode": {
    "name": "ipython",
    "version": 3
   },
   "file_extension": ".py",
   "mimetype": "text/x-python",
   "name": "python",
   "nbconvert_exporter": "python",
   "pygments_lexer": "ipython3",
   "version": "3.9.6"
  }
 },
 "nbformat": 4,
 "nbformat_minor": 5
}
