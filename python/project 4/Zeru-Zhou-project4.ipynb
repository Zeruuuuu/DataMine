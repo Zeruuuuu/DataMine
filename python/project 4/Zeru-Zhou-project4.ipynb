{
 "cells": [
  {
   "cell_type": "markdown",
   "id": "be02a957-7133-4d02-818e-fedeb3cecb05",
   "metadata": {},
   "source": [
    "# Project 4 -- Zeru Zhou"
   ]
  },
  {
   "cell_type": "markdown",
   "id": "a1228853-dd19-4ab2-89e0-0394d7d72de3",
   "metadata": {},
   "source": [
    "**TA Help:** NA\n",
    "\n",
    "\n",
    "    \n",
    "**Collaboration:** NA\n",
    "    \n",
    "- Got help from Dr. Ward's videos"
   ]
  },
  {
   "cell_type": "markdown",
   "id": "6180e742-8e39-4698-98ff-5b00c8cf8ea0",
   "metadata": {},
   "source": [
    "## Question 1"
   ]
  },
  {
   "cell_type": "code",
   "execution_count": 7,
   "id": "49445606-d363-41b4-b479-e319a9a84c01",
   "metadata": {},
   "outputs": [],
   "source": [
    "import pandas as pd"
   ]
  },
  {
   "cell_type": "code",
   "execution_count": 8,
   "id": "f49431f9-6eae-4335-9d84-ac3c78aafb13",
   "metadata": {},
   "outputs": [],
   "source": [
    "my_df = pd.read_csv(\"/depot/datamine/data/stackoverflow/unprocessed/2021.csv\")"
   ]
  },
  {
   "cell_type": "code",
   "execution_count": 3,
   "id": "178a1b3e-5248-4891-aad5-8bfaa4b244d7",
   "metadata": {},
   "outputs": [],
   "source": [
    "from block_timer.timer import Timer"
   ]
  },
  {
   "cell_type": "code",
   "execution_count": 10,
   "id": "27d1259e-a0b2-41b3-8c12-b161e410ab3f",
   "metadata": {},
   "outputs": [
    {
     "name": "stderr",
     "output_type": "stream",
     "text": [
      "[csv] Total time 2.25361 seconds.\n",
      "[parquet] Total time 0.41709 seconds.\n"
     ]
    },
    {
     "name": "stdout",
     "output_type": "stream",
     "text": [
      "2.253605325706303\n",
      "0.41709266416728497\n",
      "0.33891418669372797\n",
      "Parquet: 18.5%\n",
      "Feather: 15.0%\n"
     ]
    },
    {
     "name": "stderr",
     "output_type": "stream",
     "text": [
      "[feather] Total time 0.33891 seconds.\n"
     ]
    }
   ],
   "source": [
    "with Timer(title=\"csv\") as t1:\n",
    "    my_df.to_csv(\"/scratch/brown/zhou902/2021.csv\", index = False)\n",
    "with Timer(title=\"parquet\") as t2:\n",
    "    my_df.to_parquet(\"/scratch/brown/zhou902/2021.parquet\", index = False)\n",
    "with Timer(title=\"feather\") as t3:\n",
    "    my_df.to_feather(\"/scratch/brown/zhou902/2021.feather\")\n",
    "\n",
    "print(t1.elapsed)\n",
    "print(t2.elapsed)\n",
    "print(t3.elapsed)\n",
    "print(f'Parquet: {t2.elapsed/t1.elapsed:.1%}')\n",
    "print(f'Feather: {t3.elapsed/t1.elapsed:.1%}')"
   ]
  },
  {
   "cell_type": "code",
   "execution_count": 12,
   "id": "34592a8d-240c-4dbc-a688-76b2d7ea25cf",
   "metadata": {},
   "outputs": [
    {
     "name": "stderr",
     "output_type": "stream",
     "text": [
      "[csv] Total time 0.95159 seconds.\n"
     ]
    },
    {
     "name": "stdout",
     "output_type": "stream",
     "text": [
      "0.9515923364087939\n",
      "0.34658367838710546\n",
      "0.17277581617236137\n",
      "Parquet: 36.4%\n",
      "Feather: 18.2%\n"
     ]
    },
    {
     "name": "stderr",
     "output_type": "stream",
     "text": [
      "[parquet] Total time 0.34658 seconds.\n",
      "[feather] Total time 0.17278 seconds.\n"
     ]
    }
   ],
   "source": [
    "with Timer(title=\"csv\") as t1:\n",
    "    pd.read_csv(\"/scratch/brown/zhou902/2021.csv\")\n",
    "with Timer(title=\"parquet\") as t2:\n",
    "    pd.read_parquet(\"/scratch/brown/zhou902/2021.parquet\")\n",
    "with Timer(title=\"feather\") as t3:\n",
    "    pd.read_feather(\"/scratch/brown/zhou902/2021.feather\")\n",
    "\n",
    "print(t1.elapsed)\n",
    "print(t2.elapsed)\n",
    "print(t3.elapsed)\n",
    "print(f'Parquet: {t2.elapsed/t1.elapsed:.1%}')\n",
    "print(f'Feather: {t3.elapsed/t1.elapsed:.1%}')"
   ]
  },
  {
   "cell_type": "code",
   "execution_count": 13,
   "id": "db76b275-98d7-4fea-85fd-39505b754fee",
   "metadata": {},
   "outputs": [],
   "source": [
    "from pathlib import Path"
   ]
  },
  {
   "cell_type": "code",
   "execution_count": 16,
   "id": "af4f89ce-ef79-4a00-811d-c37574e83993",
   "metadata": {},
   "outputs": [
    {
     "name": "stdout",
     "output_type": "stream",
     "text": [
      "csv: 79.910042\n",
      "parquet: 5.414069\n",
      "feather: 25.78445\n"
     ]
    }
   ],
   "source": [
    "print(f'csv: {Path(\"/scratch/brown/zhou902/2021.csv\").stat().st_size/1000000}')\n",
    "print(f'parquet: {Path(\"/scratch/brown/zhou902/2021.parquet\").stat().st_size/1000000}')\n",
    "print(f'feather: {Path(\"/scratch/brown/zhou902/2021.feather\").stat().st_size/1000000}')"
   ]
  },
  {
   "cell_type": "markdown",
   "id": "b456e57c-4a12-464b-999a-ef2df5af80c1",
   "metadata": {},
   "source": [
    "In writting, parquet is 18.5% of csv and feather is 15.0% of csv. In reading, parquet is 36.4% of csv and feather is 18.2% of csv. The sizes in MB are displayed above."
   ]
  },
  {
   "cell_type": "markdown",
   "id": "fc601975-35ed-4680-a4e1-0273ee3cc047",
   "metadata": {},
   "source": [
    "## Question 2"
   ]
  },
  {
   "cell_type": "code",
   "execution_count": 31,
   "id": "a16336a1-1ef0-41e8-bc7c-49387db27497",
   "metadata": {},
   "outputs": [
    {
     "data": {
      "text/plain": [
       "Man                                                      185\n",
       "Woman                                                     14\n",
       "Prefer not to say                                          2\n",
       "Or, in your own words:                                     2\n",
       "Non-binary, genderqueer, or gender non-conforming          1\n",
       "Man;Non-binary, genderqueer, or gender non-conforming      1\n",
       "Man;Or, in your own words:                                 1\n",
       "Name: Gender, dtype: int64"
      ]
     },
     "execution_count": 31,
     "metadata": {},
     "output_type": "execute_result"
    }
   ],
   "source": [
    "my_df.loc[my_df['US_State']==\"Indiana\", \"Gender\"].value_counts()"
   ]
  },
  {
   "cell_type": "code",
   "execution_count": 34,
   "id": "0e9c2183-9d2b-4fa6-b496-47e5d61ad11b",
   "metadata": {},
   "outputs": [
    {
     "data": {
      "text/plain": [
       "<AxesSubplot:>"
      ]
     },
     "execution_count": 34,
     "metadata": {},
     "output_type": "execute_result"
    },
    {
     "data": {
      "image/png": "[encoded data removed]",
      "text/plain": [
       "<Figure size 432x288 with 1 Axes>"
      ]
     },
     "metadata": {
      "needs_background": "light"
     },
     "output_type": "display_data"
    }
   ],
   "source": [
    "my_df.loc[my_df['US_State']==\"Indiana\", \"Gender\"].value_counts().plot(rot=90)"
   ]
  },
  {
   "cell_type": "markdown",
   "id": "14dc22d4-ddc3-41cc-a91a-cb0025bc0c80",
   "metadata": {},
   "source": [
    "Value_counts is applied and plot is made."
   ]
  },
  {
   "cell_type": "markdown",
   "id": "8e586edd-ff26-4ce2-8f6b-2424b26f2929",
   "metadata": {},
   "source": [
    "## Question 3"
   ]
  },
  {
   "cell_type": "code",
   "execution_count": 3,
   "id": "bbe0f40d-9655-4653-9ca8-886bdb61cb91",
   "metadata": {},
   "outputs": [
    {
     "data": {
      "text/plain": [
       "array([  62268.,      nan,   51552., ..., 4300000.,  160500.,  816816.])"
      ]
     },
     "execution_count": 3,
     "metadata": {},
     "output_type": "execute_result"
    }
   ],
   "source": [
    "my_df[\"ConvertedCompYearly\"].unique()"
   ]
  },
  {
   "cell_type": "code",
   "execution_count": 4,
   "id": "c3398723-8349-452c-b7c7-d450d676d10d",
   "metadata": {},
   "outputs": [],
   "source": [
    "my_df['YearsCode']=my_df['YearsCode'].astype('str')\n",
    "my_df['YearsCode']=my_df['YearsCode'].replace(\"[^0-9]\", \"\", regex = True)\n",
    "my_df['YearsCode']=pd.to_numeric(my_df['YearsCode'])"
   ]
  },
  {
   "cell_type": "code",
   "execution_count": 6,
   "id": "36864061-1d13-42cb-ae55-422fb957927c",
   "metadata": {},
   "outputs": [
    {
     "data": {
      "text/plain": [
       "<AxesSubplot:xlabel='YearsCode', ylabel='ConvertedCompYearly'>"
      ]
     },
     "execution_count": 6,
     "metadata": {},
     "output_type": "execute_result"
    },
    {
     "data": {
      "image/png": "[encoded data removed]",
      "text/plain": [
       "<Figure size 432x288 with 1 Axes>"
      ]
     },
     "metadata": {
      "needs_background": "light"
     },
     "output_type": "display_data"
    }
   ],
   "source": [
    "my_df.plot(x='YearsCode', y=\"ConvertedCompYearly\", kind = 'scatter', logy = True)"
   ]
  },
  {
   "cell_type": "markdown",
   "id": "47c6229f-35f7-400c-8366-c442baa5cf47",
   "metadata": {},
   "source": [
    "As the YearsCode becomes larger, the range of \"ConvertedCompYearly\" becomes smaller."
   ]
  },
  {
   "cell_type": "markdown",
   "id": "da22f29c-d245-4d2b-9fc1-ca14cb6087d9",
   "metadata": {},
   "source": [
    "## Question 4"
   ]
  },
  {
   "cell_type": "code",
   "execution_count": 11,
   "id": "8cffc767-d1c8-4d64-b7dc-f0d2ee8a80d1",
   "metadata": {},
   "outputs": [
    {
     "data": {
      "text/plain": [
       "array(['C++;HTML/CSS;JavaScript;Objective-C;PHP;Swift',\n",
       "       'JavaScript;Python', 'Assembly;C;Python;R;Rust', ...,\n",
       "       'Java;JavaScript;Kotlin;Objective-C;TypeScript',\n",
       "       'Clojure;Kotlin;SQL', 'Delphi;Elixir;HTML/CSS;Java;JavaScript'],\n",
       "      dtype=object)"
      ]
     },
     "execution_count": 11,
     "metadata": {},
     "output_type": "execute_result"
    }
   ],
   "source": [
    "my_df[\"LanguageHaveWorkedWith\"].unique()"
   ]
  },
  {
   "cell_type": "code",
   "execution_count": 13,
   "id": "9ccdff19-3ead-45ac-8b50-72800573c961",
   "metadata": {},
   "outputs": [],
   "source": [
    "my_df[\"LanguageHaveWorkedWith\"] = my_df[\"LanguageHaveWorkedWith\"].astype(str)"
   ]
  },
  {
   "cell_type": "code",
   "execution_count": 14,
   "id": "b70bde9a-2c5e-43b3-ab07-645ba1e76d36",
   "metadata": {},
   "outputs": [],
   "source": [
    "def flatten (List):\n",
    "    return (item for sublist in List for item in sublist)"
   ]
  },
  {
   "cell_type": "code",
   "execution_count": 16,
   "id": "b9efd5e0-1e19-4579-abd2-e6e5d0aa0099",
   "metadata": {},
   "outputs": [
    {
     "data": {
      "text/plain": [
       "JavaScript     53587\n",
       "HTML/CSS       46259\n",
       "Python         39792\n",
       "SQL            38835\n",
       "Java           29162\n",
       "Node.js        27975\n",
       "TypeScript     24909\n",
       "C#             22984\n",
       "Bash/Shell     22385\n",
       "C++            20057\n",
       "PHP            18130\n",
       "C              17329\n",
       "PowerShell      8871\n",
       "Go              7879\n",
       "Kotlin          6866\n",
       "Rust            5799\n",
       "Ruby            5569\n",
       "Dart            4965\n",
       "Assembly        4632\n",
       "Swift           4204\n",
       "R               4185\n",
       "VBA             3847\n",
       "Matlab          3846\n",
       "Groovy          2479\n",
       "Objective-C     2310\n",
       "Scala           2148\n",
       "Perl            2028\n",
       "Haskell         1749\n",
       "Delphi          1731\n",
       "Clojure         1552\n",
       "Elixir          1438\n",
       "LISP            1096\n",
       "nan             1082\n",
       "Julia           1068\n",
       "F#               804\n",
       "Erlang           651\n",
       "APL              536\n",
       "Crystal          466\n",
       "COBOL            437\n",
       "dtype: int64"
      ]
     },
     "execution_count": 16,
     "metadata": {},
     "output_type": "execute_result"
    }
   ],
   "source": [
    "pd.Series(flatten(my_df[\"LanguageHaveWorkedWith\"].str.split(\";\"))).value_counts()"
   ]
  },
  {
   "cell_type": "markdown",
   "id": "0d552245-b4d6-474a-9cc9-fa7b8e674d55",
   "metadata": {},
   "source": [
    "Times listed above. I worked with R, python, SQL, and matlab."
   ]
  },
  {
   "cell_type": "markdown",
   "id": "88c9cdac-3e92-498f-83fa-e089bfc44ac8",
   "metadata": {},
   "source": [
    "## Question 5"
   ]
  },
  {
   "cell_type": "code",
   "execution_count": 17,
   "id": "d370d7c9-06db-42b9-b75f-240481a5c491",
   "metadata": {},
   "outputs": [
    {
     "data": {
      "text/html": [
       "<div>\n",
       "<style scoped>\n",
       "    .dataframe tbody tr th:only-of-type {\n",
       "        vertical-align: middle;\n",
       "    }\n",
       "\n",
       "    .dataframe tbody tr th {\n",
       "        vertical-align: top;\n",
       "    }\n",
       "\n",
       "    .dataframe thead th {\n",
       "        text-align: right;\n",
       "    }\n",
       "</style>\n",
       "<table border=\"1\" class=\"dataframe\">\n",
       "  <thead>\n",
       "    <tr style=\"text-align: right;\">\n",
       "      <th></th>\n",
       "      <th>ResponseId</th>\n",
       "      <th>MainBranch</th>\n",
       "      <th>Employment</th>\n",
       "      <th>Country</th>\n",
       "      <th>US_State</th>\n",
       "      <th>UK_Country</th>\n",
       "      <th>EdLevel</th>\n",
       "      <th>Age1stCode</th>\n",
       "      <th>LearnCode</th>\n",
       "      <th>YearsCode</th>\n",
       "      <th>...</th>\n",
       "      <th>Age</th>\n",
       "      <th>Gender</th>\n",
       "      <th>Trans</th>\n",
       "      <th>Sexuality</th>\n",
       "      <th>Ethnicity</th>\n",
       "      <th>Accessibility</th>\n",
       "      <th>MentalHealth</th>\n",
       "      <th>SurveyLength</th>\n",
       "      <th>SurveyEase</th>\n",
       "      <th>ConvertedCompYearly</th>\n",
       "    </tr>\n",
       "  </thead>\n",
       "  <tbody>\n",
       "    <tr>\n",
       "      <th>0</th>\n",
       "      <td>1</td>\n",
       "      <td>I am a developer by profession</td>\n",
       "      <td>Independent contractor, freelancer, or self-em...</td>\n",
       "      <td>Slovakia</td>\n",
       "      <td>NaN</td>\n",
       "      <td>NaN</td>\n",
       "      <td>Secondary school (e.g. American high school, G...</td>\n",
       "      <td>18 - 24 years</td>\n",
       "      <td>Coding Bootcamp;Other online resources (ex: vi...</td>\n",
       "      <td>NaN</td>\n",
       "      <td>...</td>\n",
       "      <td>25-34 years old</td>\n",
       "      <td>Man</td>\n",
       "      <td>No</td>\n",
       "      <td>Straight / Heterosexual</td>\n",
       "      <td>White or of European descent</td>\n",
       "      <td>None of the above</td>\n",
       "      <td>None of the above</td>\n",
       "      <td>Appropriate in length</td>\n",
       "      <td>Easy</td>\n",
       "      <td>62268.0</td>\n",
       "    </tr>\n",
       "    <tr>\n",
       "      <th>1</th>\n",
       "      <td>2</td>\n",
       "      <td>I am a student who is learning to code</td>\n",
       "      <td>Student, full-time</td>\n",
       "      <td>Netherlands</td>\n",
       "      <td>NaN</td>\n",
       "      <td>NaN</td>\n",
       "      <td>Bachelor’s degree (B.A., B.S., B.Eng., etc.)</td>\n",
       "      <td>11 - 17 years</td>\n",
       "      <td>Other online resources (ex: videos, blogs, etc...</td>\n",
       "      <td>7</td>\n",
       "      <td>...</td>\n",
       "      <td>18-24 years old</td>\n",
       "      <td>Man</td>\n",
       "      <td>No</td>\n",
       "      <td>Straight / Heterosexual</td>\n",
       "      <td>White or of European descent</td>\n",
       "      <td>None of the above</td>\n",
       "      <td>None of the above</td>\n",
       "      <td>Appropriate in length</td>\n",
       "      <td>Easy</td>\n",
       "      <td>NaN</td>\n",
       "    </tr>\n",
       "    <tr>\n",
       "      <th>2</th>\n",
       "      <td>3</td>\n",
       "      <td>I am not primarily a developer, but I write co...</td>\n",
       "      <td>Student, full-time</td>\n",
       "      <td>Russian Federation</td>\n",
       "      <td>NaN</td>\n",
       "      <td>NaN</td>\n",
       "      <td>Bachelor’s degree (B.A., B.S., B.Eng., etc.)</td>\n",
       "      <td>11 - 17 years</td>\n",
       "      <td>Other online resources (ex: videos, blogs, etc...</td>\n",
       "      <td>NaN</td>\n",
       "      <td>...</td>\n",
       "      <td>18-24 years old</td>\n",
       "      <td>Man</td>\n",
       "      <td>No</td>\n",
       "      <td>Prefer not to say</td>\n",
       "      <td>Prefer not to say</td>\n",
       "      <td>None of the above</td>\n",
       "      <td>None of the above</td>\n",
       "      <td>Appropriate in length</td>\n",
       "      <td>Easy</td>\n",
       "      <td>NaN</td>\n",
       "    </tr>\n",
       "    <tr>\n",
       "      <th>3</th>\n",
       "      <td>4</td>\n",
       "      <td>I am a developer by profession</td>\n",
       "      <td>Employed full-time</td>\n",
       "      <td>Austria</td>\n",
       "      <td>NaN</td>\n",
       "      <td>NaN</td>\n",
       "      <td>Master’s degree (M.A., M.S., M.Eng., MBA, etc.)</td>\n",
       "      <td>11 - 17 years</td>\n",
       "      <td>NaN</td>\n",
       "      <td>NaN</td>\n",
       "      <td>...</td>\n",
       "      <td>35-44 years old</td>\n",
       "      <td>Man</td>\n",
       "      <td>No</td>\n",
       "      <td>Straight / Heterosexual</td>\n",
       "      <td>White or of European descent</td>\n",
       "      <td>I am deaf / hard of hearing</td>\n",
       "      <td>NaN</td>\n",
       "      <td>Appropriate in length</td>\n",
       "      <td>Neither easy nor difficult</td>\n",
       "      <td>NaN</td>\n",
       "    </tr>\n",
       "    <tr>\n",
       "      <th>4</th>\n",
       "      <td>5</td>\n",
       "      <td>I am a developer by profession</td>\n",
       "      <td>Independent contractor, freelancer, or self-em...</td>\n",
       "      <td>United Kingdom of Great Britain and Northern I...</td>\n",
       "      <td>NaN</td>\n",
       "      <td>England</td>\n",
       "      <td>Master’s degree (M.A., M.S., M.Eng., MBA, etc.)</td>\n",
       "      <td>5 - 10 years</td>\n",
       "      <td>Friend or family member</td>\n",
       "      <td>17</td>\n",
       "      <td>...</td>\n",
       "      <td>25-34 years old</td>\n",
       "      <td>Man</td>\n",
       "      <td>No</td>\n",
       "      <td>NaN</td>\n",
       "      <td>White or of European descent</td>\n",
       "      <td>None of the above</td>\n",
       "      <td>NaN</td>\n",
       "      <td>Appropriate in length</td>\n",
       "      <td>Easy</td>\n",
       "      <td>NaN</td>\n",
       "    </tr>\n",
       "  </tbody>\n",
       "</table>\n",
       "<p>5 rows × 48 columns</p>\n",
       "</div>"
      ],
      "text/plain": [
       "   ResponseId                                         MainBranch  \\\n",
       "0           1                     I am a developer by profession   \n",
       "1           2             I am a student who is learning to code   \n",
       "2           3  I am not primarily a developer, but I write co...   \n",
       "3           4                     I am a developer by profession   \n",
       "4           5                     I am a developer by profession   \n",
       "\n",
       "                                          Employment  \\\n",
       "0  Independent contractor, freelancer, or self-em...   \n",
       "1                                 Student, full-time   \n",
       "2                                 Student, full-time   \n",
       "3                                 Employed full-time   \n",
       "4  Independent contractor, freelancer, or self-em...   \n",
       "\n",
       "                                             Country US_State UK_Country  \\\n",
       "0                                           Slovakia      NaN        NaN   \n",
       "1                                        Netherlands      NaN        NaN   \n",
       "2                                 Russian Federation      NaN        NaN   \n",
       "3                                            Austria      NaN        NaN   \n",
       "4  United Kingdom of Great Britain and Northern I...      NaN    England   \n",
       "\n",
       "                                             EdLevel     Age1stCode  \\\n",
       "0  Secondary school (e.g. American high school, G...  18 - 24 years   \n",
       "1       Bachelor’s degree (B.A., B.S., B.Eng., etc.)  11 - 17 years   \n",
       "2       Bachelor’s degree (B.A., B.S., B.Eng., etc.)  11 - 17 years   \n",
       "3    Master’s degree (M.A., M.S., M.Eng., MBA, etc.)  11 - 17 years   \n",
       "4    Master’s degree (M.A., M.S., M.Eng., MBA, etc.)   5 - 10 years   \n",
       "\n",
       "                                           LearnCode YearsCode  ...  \\\n",
       "0  Coding Bootcamp;Other online resources (ex: vi...       NaN  ...   \n",
       "1  Other online resources (ex: videos, blogs, etc...         7  ...   \n",
       "2  Other online resources (ex: videos, blogs, etc...       NaN  ...   \n",
       "3                                                NaN       NaN  ...   \n",
       "4                            Friend or family member        17  ...   \n",
       "\n",
       "               Age Gender Trans                Sexuality  \\\n",
       "0  25-34 years old    Man    No  Straight / Heterosexual   \n",
       "1  18-24 years old    Man    No  Straight / Heterosexual   \n",
       "2  18-24 years old    Man    No        Prefer not to say   \n",
       "3  35-44 years old    Man    No  Straight / Heterosexual   \n",
       "4  25-34 years old    Man    No                      NaN   \n",
       "\n",
       "                      Ethnicity                Accessibility  \\\n",
       "0  White or of European descent            None of the above   \n",
       "1  White or of European descent            None of the above   \n",
       "2             Prefer not to say            None of the above   \n",
       "3  White or of European descent  I am deaf / hard of hearing   \n",
       "4  White or of European descent            None of the above   \n",
       "\n",
       "        MentalHealth           SurveyLength                  SurveyEase  \\\n",
       "0  None of the above  Appropriate in length                        Easy   \n",
       "1  None of the above  Appropriate in length                        Easy   \n",
       "2  None of the above  Appropriate in length                        Easy   \n",
       "3                NaN  Appropriate in length  Neither easy nor difficult   \n",
       "4                NaN  Appropriate in length                        Easy   \n",
       "\n",
       "  ConvertedCompYearly  \n",
       "0             62268.0  \n",
       "1                 NaN  \n",
       "2                 NaN  \n",
       "3                 NaN  \n",
       "4                 NaN  \n",
       "\n",
       "[5 rows x 48 columns]"
      ]
     },
     "execution_count": 17,
     "metadata": {},
     "output_type": "execute_result"
    }
   ],
   "source": [
    "my_df.head()"
   ]
  },
  {
   "cell_type": "code",
   "execution_count": 18,
   "id": "aa441df2-87c3-4c87-b89c-05288be8b655",
   "metadata": {},
   "outputs": [
    {
     "data": {
      "text/plain": [
       "array(['Easy', 'Neither easy nor difficult', nan, 'Difficult'],\n",
       "      dtype=object)"
      ]
     },
     "execution_count": 18,
     "metadata": {},
     "output_type": "execute_result"
    }
   ],
   "source": [
    "my_df[\"SurveyEase\"].unique()"
   ]
  },
  {
   "cell_type": "code",
   "execution_count": 19,
   "id": "8dfcede8-1e83-445a-88f8-f9619c0903ad",
   "metadata": {},
   "outputs": [],
   "source": [
    "my_df[\"SurveyEase\"] = my_df[\"SurveyEase\"].astype(str)"
   ]
  },
  {
   "cell_type": "code",
   "execution_count": 22,
   "id": "9f803941-eecb-423b-9a31-f6e9ab9290cb",
   "metadata": {},
   "outputs": [
    {
     "data": {
      "text/plain": [
       "Easy                          173\n",
       "Neither easy nor difficult     33\n",
       "nan                             1\n",
       "Difficult                       1\n",
       "Name: SurveyEase, dtype: int64"
      ]
     },
     "execution_count": 22,
     "metadata": {},
     "output_type": "execute_result"
    }
   ],
   "source": [
    "my_df.loc[my_df[\"US_State\"]==\"Indiana\", \"SurveyEase\"].value_counts()"
   ]
  },
  {
   "cell_type": "code",
   "execution_count": 23,
   "id": "ed66380b-ef78-452e-b25b-a72ed480b67d",
   "metadata": {},
   "outputs": [
    {
     "data": {
      "text/plain": [
       "<AxesSubplot:>"
      ]
     },
     "execution_count": 23,
     "metadata": {},
     "output_type": "execute_result"
    },
    {
     "data": {
      "image/png": "[encoded data removed]",
      "text/plain": [
       "<Figure size 432x288 with 1 Axes>"
      ]
     },
     "metadata": {
      "needs_background": "light"
     },
     "output_type": "display_data"
    }
   ],
   "source": [
    "my_df.loc[my_df[\"US_State\"]==\"Indiana\", \"SurveyEase\"].value_counts().plot(rot = 90)"
   ]
  },
  {
   "cell_type": "markdown",
   "id": "9fbf00fb-2418-460f-ae94-2a32b0c28952",
   "metadata": {},
   "source": [
    "Here is how Indiana people reacted about the Survey Ease. Most people regard it as \"Easy\", according to the plot."
   ]
  },
  {
   "cell_type": "markdown",
   "id": "f76442d6-d02e-4f26-b9d6-c3183e1d6929",
   "metadata": {},
   "source": [
    "## Pledge\n",
    "\n",
    "By submitting this work I hereby pledge that this is my own, personal work. I've acknowledged in the designated place at the top of this file all sources that I used to complete said work, including but not limited to: online resources, books, and electronic communications. I've noted all collaboration with fellow students and/or TA's. I did not copy or plagiarize another's work.\n",
    "\n",
    "> As a Boilermaker pursuing academic excellence, I pledge to be honest and true in all that I do. Accountable together – We are Purdue."
   ]
  }
 ],
 "metadata": {
  "kernelspec": {
   "display_name": "f2021-s2022",
   "language": "python",
   "name": "tdm-brown-scratch-f2021-s2022"
  },
  "language_info": {
   "codemirror_mode": {
    "name": "ipython",
    "version": 3
   },
   "file_extension": ".py",
   "mimetype": "text/x-python",
   "name": "python",
   "nbconvert_exporter": "python",
   "pygments_lexer": "ipython3",
   "version": "3.9.6"
  }
 },
 "nbformat": 4,
 "nbformat_minor": 5
}
