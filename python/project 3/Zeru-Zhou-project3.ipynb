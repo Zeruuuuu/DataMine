{
 "cells": [
  {
   "cell_type": "markdown",
   "id": "be02a957-7133-4d02-818e-fedeb3cecb05",
   "metadata": {},
   "source": [
    "# Project 3 -- Zeru Zhou"
   ]
  },
  {
   "cell_type": "markdown",
   "id": "a1228853-dd19-4ab2-89e0-0394d7d72de3",
   "metadata": {},
   "source": [
    "**TA Help:** NA\n",
    "\n",
    "\n",
    "    \n",
    "**Collaboration:** NA\n",
    "    \n",
    "- Get help from Dr. Ward's videos"
   ]
  },
  {
   "cell_type": "markdown",
   "id": "6180e742-8e39-4698-98ff-5b00c8cf8ea0",
   "metadata": {},
   "source": [
    "## Question 1"
   ]
  },
  {
   "cell_type": "code",
   "execution_count": 1,
   "id": "49445606-d363-41b4-b479-e319a9a84c01",
   "metadata": {},
   "outputs": [
    {
     "name": "stdout",
     "output_type": "stream",
     "text": [
      "USFAKEROW22\n"
     ]
    },
    {
     "name": "stderr",
     "output_type": "stream",
     "text": [
      "Total time 45.45118 seconds.\n"
     ]
    }
   ],
   "source": [
    "from block_timer.timer import Timer\n",
    "import pandas as pd\n",
    "\n",
    "\n",
    "Intruder = pd.read_csv('/depot/datamine/data/noaa/2020_sampleB.csv', names=[\"station_id\", \"date\", \"element_code\", \"value\", \"mflag\", \"qflag\", \"sflag\", \"obstime\"])\n",
    "intruder_ids = Intruder[\"station_id\"].dropna().tolist()\n",
    "unique_intruder = list(set(intruder_ids))\n",
    "\n",
    "\n",
    "Original = pd.read_csv('/depot/datamine/data/noaa/2020_sample.csv', names=[\"station_id\", \"date\", \"element_code\", \"value\", \"mflag\", \"qflag\", \"sflag\", \"obstime\"])\n",
    "original_ids = Original[\"station_id\"].dropna().tolist()\n",
    "unique_ids = list(set(original_ids))\n",
    "\n",
    "with Timer():\n",
    "    # compare the two lists\n",
    "    for i in unique_intruder:\n",
    "        if i not in unique_ids:\n",
    "            print(i)"
   ]
  },
  {
   "cell_type": "code",
   "execution_count": 2,
   "id": "61630512-0399-4470-8852-5329249f4fb5",
   "metadata": {},
   "outputs": [
    {
     "name": "stdout",
     "output_type": "stream",
     "text": [
      "{'USFAKEROW22'}\n"
     ]
    },
    {
     "name": "stderr",
     "output_type": "stream",
     "text": [
      "Total time 2.04778 seconds.\n"
     ]
    }
   ],
   "source": [
    "with Timer():\n",
    "    print(set(intruder_ids) - set(original_ids))"
   ]
  },
  {
   "cell_type": "markdown",
   "id": "b456e57c-4a12-464b-999a-ef2df5af80c1",
   "metadata": {},
   "source": [
    "As we can see, doing set calculation is much time efficient than checking with a loop. It is 22 times faster than the original method."
   ]
  },
  {
   "cell_type": "markdown",
   "id": "fc601975-35ed-4680-a4e1-0273ee3cc047",
   "metadata": {},
   "source": [
    "## Question 2"
   ]
  },
  {
   "cell_type": "code",
   "execution_count": 4,
   "id": "a16336a1-1ef0-41e8-bc7c-49387db27497",
   "metadata": {},
   "outputs": [],
   "source": [
    "import pandas as pd\n",
    "\n",
    "mydf = pd.read_csv(\"/depot/datamine/data/iowa_liquor_sales/clean_sample.csv\", sep=\";\")"
   ]
  },
  {
   "cell_type": "code",
   "execution_count": 3,
   "id": "4f95fb4f-1e8a-4f13-98b4-6e57064b7906",
   "metadata": {},
   "outputs": [],
   "source": [
    "sales_list = mydf['Sale (Dollars)'].dropna().tolist()"
   ]
  },
  {
   "cell_type": "code",
   "execution_count": 4,
   "id": "c4aee5dc-ee17-4e0d-96ba-4e36963295ab",
   "metadata": {},
   "outputs": [
    {
     "name": "stdout",
     "output_type": "stream",
     "text": [
      "Average Sales is 126.70881221986102\n"
     ]
    },
    {
     "name": "stderr",
     "output_type": "stream",
     "text": [
      "[List Loop] Total time 0.57098 seconds.\n"
     ]
    }
   ],
   "source": [
    "from block_timer.timer import Timer\n",
    "with Timer(title = \"List Loop\"):\n",
    "    value = 0.0\n",
    "    for i in sales_list:\n",
    "        value += i\n",
    "    print(f'Average Sales is {value/len(sales_list)}')\n",
    "        \n",
    "    "
   ]
  },
  {
   "cell_type": "code",
   "execution_count": 5,
   "id": "ae5cc972-2fd0-4943-81ea-9994c0430405",
   "metadata": {},
   "outputs": [
    {
     "name": "stdout",
     "output_type": "stream",
     "text": [
      "Average Sales is 126.70881221986102\n"
     ]
    },
    {
     "name": "stderr",
     "output_type": "stream",
     "text": [
      "[Series Loop] Total time 2.09563 seconds.\n"
     ]
    }
   ],
   "source": [
    "with Timer(title = \"Series Loop\"):\n",
    "    value = 0.0\n",
    "    for idx, val in mydf['Sale (Dollars)'].dropna().iteritems():\n",
    "        value += val\n",
    "    print(f'Average Sales is {value/len(sales_list)}')\n",
    "        "
   ]
  },
  {
   "cell_type": "markdown",
   "id": "14dc22d4-ddc3-41cc-a91a-cb0025bc0c80",
   "metadata": {},
   "source": [
    "Method with list loop is 4 times faster than Series loop."
   ]
  },
  {
   "cell_type": "markdown",
   "id": "8e586edd-ff26-4ce2-8f6b-2424b26f2929",
   "metadata": {},
   "source": [
    "## Question 3"
   ]
  },
  {
   "cell_type": "code",
   "execution_count": 6,
   "id": "bbe0f40d-9655-4653-9ca8-886bdb61cb91",
   "metadata": {},
   "outputs": [
    {
     "name": "stdout",
     "output_type": "stream",
     "text": [
      "[0.08084600884959506, 0.44521166882119256, -0.24055833528157824, 0.07453606558553277, -0.24055833528157824]\n"
     ]
    },
    {
     "name": "stderr",
     "output_type": "stream",
     "text": [
      "[Loops] Total time 2.70004 seconds.\n"
     ]
    }
   ],
   "source": [
    "with Timer(title=\"Loops\"):\n",
    "\n",
    "    # calculate the mean\n",
    "    mean = sum(sales_list)/len(sales_list)\n",
    "\n",
    "    # calculate the std deviation\n",
    "    # you can use **2 to square a value and\n",
    "    # **0.5 to square root a value\n",
    "    Std_sqr = 0\n",
    "    for value in sales_list:\n",
    "        Std_sqr += (value - mean)**2 / len(sales_list)\n",
    "    My_std = Std_sqr ** 0.5\n",
    "\n",
    "    # calculate the list of z-scores\n",
    "    zscores = []\n",
    "    for value in sales_list:\n",
    "        zscores.append((value - mean) / My_std)\n",
    "        \n",
    "\n",
    "    # print the first 5 z-scores\n",
    "    print(zscores[:5])\n",
    "    "
   ]
  },
  {
   "cell_type": "code",
   "execution_count": 8,
   "id": "ce1a135a-eda4-4147-8d37-c8a1e23c0b5d",
   "metadata": {},
   "outputs": [
    {
     "name": "stdout",
     "output_type": "stream",
     "text": [
      "0    0.080846\n",
      "1    0.445212\n",
      "2   -0.240558\n",
      "3    0.074536\n",
      "4   -0.240558\n",
      "Name: Sale (Dollars), dtype: float64\n"
     ]
    },
    {
     "name": "stderr",
     "output_type": "stream",
     "text": [
      "[Vectorization] Total time 0.56405 seconds.\n"
     ]
    }
   ],
   "source": [
    "with Timer(title=\"Vectorization\"):\n",
    "    print(((mydf['Sale (Dollars)'] - mydf['Sale (Dollars)'].mean())/mydf['Sale (Dollars)'].std()).iloc[0:5])"
   ]
  },
  {
   "cell_type": "markdown",
   "id": "47c6229f-35f7-400c-8366-c442baa5cf47",
   "metadata": {},
   "source": [
    "The results are exactly the same. Using Series is 5 times faster than using for loops here."
   ]
  },
  {
   "cell_type": "markdown",
   "id": "da22f29c-d245-4d2b-9fc1-ca14cb6087d9",
   "metadata": {},
   "source": [
    "## Question 4"
   ]
  },
  {
   "cell_type": "code",
   "execution_count": 3,
   "id": "8cffc767-d1c8-4d64-b7dc-f0d2ee8a80d1",
   "metadata": {},
   "outputs": [],
   "source": [
    "import pandas as pd\n",
    "from collections import defaultdict"
   ]
  },
  {
   "cell_type": "code",
   "execution_count": 5,
   "id": "d0a66295-46e5-4bf2-983b-28b23c10774c",
   "metadata": {},
   "outputs": [],
   "source": [
    "mydf = mydf.loc[:, ('Store Number', 'Volume Sold (Gallons)')]"
   ]
  },
  {
   "cell_type": "code",
   "execution_count": 9,
   "id": "3bf8e8d9-4f0c-49a0-be1c-ff40fbdb2d5c",
   "metadata": {},
   "outputs": [],
   "source": [
    "volumn_dict = defaultdict(int)"
   ]
  },
  {
   "cell_type": "code",
   "execution_count": 10,
   "id": "305f77b4-d66e-4ec8-9334-be19258f19bd",
   "metadata": {},
   "outputs": [],
   "source": [
    "for idx, val in mydf.iterrows():\n",
    "    volumn_dict[val['Store Number']] += val['Volume Sold (Gallons)']\n",
    "    "
   ]
  },
  {
   "cell_type": "markdown",
   "id": "0d552245-b4d6-474a-9cc9-fa7b8e674d55",
   "metadata": {},
   "source": [
    "The volumn dictionary is created with keys and values correspond to these 2 columns."
   ]
  },
  {
   "cell_type": "markdown",
   "id": "88c9cdac-3e92-498f-83fa-e089bfc44ac8",
   "metadata": {},
   "source": [
    "## Question 5"
   ]
  },
  {
   "cell_type": "code",
   "execution_count": 13,
   "id": "d370d7c9-06db-42b9-b75f-240481a5c491",
   "metadata": {},
   "outputs": [
    {
     "name": "stdout",
     "output_type": "stream",
     "text": [
      "Low: 2190.0\n",
      "High: 4829.0\n",
      "High: 2633.0\n",
      "High: 2512.0\n",
      "Low: 3494.0\n",
      "Low: 2625.0\n",
      "High: 3420.0\n",
      "Low: 3952.0\n",
      "High: 3385.0\n",
      "Low: 3354.0\n",
      "Low: 3814.0\n"
     ]
    }
   ],
   "source": [
    "for key in volumn_dict:\n",
    "    if volumn_dict[key] < 100000:\n",
    "        continue\n",
    "    elif volumn_dict[key] > 149999:\n",
    "        print(f'High: {key}')\n",
    "    else:\n",
    "        print(f'Low: {key}')\n",
    "    "
   ]
  },
  {
   "cell_type": "markdown",
   "id": "9fbf00fb-2418-460f-ae94-2a32b0c28952",
   "metadata": {},
   "source": [
    "As code above, we got the output we want."
   ]
  },
  {
   "cell_type": "markdown",
   "id": "f76442d6-d02e-4f26-b9d6-c3183e1d6929",
   "metadata": {},
   "source": [
    "## Pledge\n",
    "\n",
    "By submitting this work I hereby pledge that this is my own, personal work. I've acknowledged in the designated place at the top of this file all sources that I used to complete said work, including but not limited to: online resources, books, and electronic communications. I've noted all collaboration with fellow students and/or TA's. I did not copy or plagiarize another's work.\n",
    "\n",
    "> As a Boilermaker pursuing academic excellence, I pledge to be honest and true in all that I do. Accountable together – We are Purdue."
   ]
  }
 ],
 "metadata": {
  "kernelspec": {
   "display_name": "f2021-s2022",
   "language": "python",
   "name": "tdm-brown-scratch-f2021-s2022"
  },
  "language_info": {
   "codemirror_mode": {
    "name": "ipython",
    "version": 3
   },
   "file_extension": ".py",
   "mimetype": "text/x-python",
   "name": "python",
   "nbconvert_exporter": "python",
   "pygments_lexer": "ipython3",
   "version": "3.9.6"
  }
 },
 "nbformat": 4,
 "nbformat_minor": 5
}
