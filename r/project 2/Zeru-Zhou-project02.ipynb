{
 "cells": [
  {
   "cell_type": "markdown",
   "id": "be02a957-7133-4d02-818e-fedeb3cecb05",
   "metadata": {},
   "source": [
    "# Project 2 -- Zeru Zhou"
   ]
  },
  {
   "cell_type": "markdown",
   "id": "a1228853-dd19-4ab2-89e0-0394d7d72de3",
   "metadata": {},
   "source": [
    "**TA Help:** NA\n",
    "\n",
    "\n",
    "    \n",
    "**Collaboration:** NA\n",
    "    \n",
    "- get some help from piazza questions\n",
    "- get help from the videos provided by Dr. Ward"
   ]
  },
  {
   "cell_type": "markdown",
   "id": "6180e742-8e39-4698-98ff-5b00c8cf8ea0",
   "metadata": {},
   "source": [
    "## Question 1"
   ]
  },
  {
   "cell_type": "code",
   "execution_count": 3,
   "id": "49445606-d363-41b4-b479-e319a9a84c01",
   "metadata": {},
   "outputs": [],
   "source": [
    "stations <- read.csv(\"/depot/datamine/data/whin/stations.csv\")"
   ]
  },
  {
   "cell_type": "code",
   "execution_count": 2,
   "id": "ccfb977b-9f01-42bb-8695-1415e4f631f1",
   "metadata": {},
   "outputs": [],
   "source": [
    "weather <- read.csv(\"/depot/datamine/data/whin/weather.csv\")"
   ]
  },
  {
   "cell_type": "code",
   "execution_count": 2,
   "id": "4f3f4913-88ee-4d2f-aebf-8bc580052162",
   "metadata": {},
   "outputs": [
    {
     "data": {
      "text/html": [
       "<table>\n",
       "<caption>A data.frame: 6 x 4</caption>\n",
       "<thead>\n",
       "\t<tr><th scope=col>id</th><th scope=col>name</th><th scope=col>latitude</th><th scope=col>longitude</th></tr>\n",
       "\t<tr><th scope=col>&lt;int&gt;</th><th scope=col>&lt;chr&gt;</th><th scope=col>&lt;dbl&gt;</th><th scope=col>&lt;dbl&gt;</th></tr>\n",
       "</thead>\n",
       "<tbody>\n",
       "\t<tr><td>142</td><td>WHIN052-MONT004</td><td>40.10483</td><td>-86.86619</td></tr>\n",
       "\t<tr><td>143</td><td>WHIN053-PULA005</td><td>40.98224</td><td>-86.38542</td></tr>\n",
       "\t<tr><td>151</td><td>WHIN059-CASS006</td><td>40.84436</td><td>-86.18173</td></tr>\n",
       "\t<tr><td> 20</td><td>WHIN020-FOUN001</td><td>40.27096</td><td>-87.14860</td></tr>\n",
       "\t<tr><td>144</td><td>WHIN054-WHIT007</td><td>40.53722</td><td>-86.95342</td></tr>\n",
       "\t<tr><td>163</td><td>WHIN072-FOUN005</td><td>40.16179</td><td>-87.35246</td></tr>\n",
       "</tbody>\n",
       "</table>\n"
      ],
      "text/latex": [
       "A data.frame: 6 x 4\n",
       "\\begin{tabular}{r|llll}\n",
       " id & name & latitude & longitude\\\\\n",
       " <int> & <chr> & <dbl> & <dbl>\\\\\n",
       "\\hline\n",
       "\t 142 & WHIN052-MONT004 & 40.10483 & -86.86619\\\\\n",
       "\t 143 & WHIN053-PULA005 & 40.98224 & -86.38542\\\\\n",
       "\t 151 & WHIN059-CASS006 & 40.84436 & -86.18173\\\\\n",
       "\t  20 & WHIN020-FOUN001 & 40.27096 & -87.14860\\\\\n",
       "\t 144 & WHIN054-WHIT007 & 40.53722 & -86.95342\\\\\n",
       "\t 163 & WHIN072-FOUN005 & 40.16179 & -87.35246\\\\\n",
       "\\end{tabular}\n"
      ],
      "text/markdown": [
       "\n",
       "A data.frame: 6 x 4\n",
       "\n",
       "| id &lt;int&gt; | name &lt;chr&gt; | latitude &lt;dbl&gt; | longitude &lt;dbl&gt; |\n",
       "|---|---|---|---|\n",
       "| 142 | WHIN052-MONT004 | 40.10483 | -86.86619 |\n",
       "| 143 | WHIN053-PULA005 | 40.98224 | -86.38542 |\n",
       "| 151 | WHIN059-CASS006 | 40.84436 | -86.18173 |\n",
       "|  20 | WHIN020-FOUN001 | 40.27096 | -87.14860 |\n",
       "| 144 | WHIN054-WHIT007 | 40.53722 | -86.95342 |\n",
       "| 163 | WHIN072-FOUN005 | 40.16179 | -87.35246 |\n",
       "\n"
      ],
      "text/plain": [
       "  id  name            latitude longitude\n",
       "1 142 WHIN052-MONT004 40.10483 -86.86619\n",
       "2 143 WHIN053-PULA005 40.98224 -86.38542\n",
       "3 151 WHIN059-CASS006 40.84436 -86.18173\n",
       "4  20 WHIN020-FOUN001 40.27096 -87.14860\n",
       "5 144 WHIN054-WHIT007 40.53722 -86.95342\n",
       "6 163 WHIN072-FOUN005 40.16179 -87.35246"
      ]
     },
     "metadata": {},
     "output_type": "display_data"
    }
   ],
   "source": [
    "head(stations)"
   ]
  },
  {
   "cell_type": "code",
   "execution_count": 14,
   "id": "e5a72e30-9d34-49e1-9994-641ad51bf2e1",
   "metadata": {},
   "outputs": [
    {
     "data": {
      "text/html": [
       "<table>\n",
       "<caption>A data.frame: 6 x 26</caption>\n",
       "<thead>\n",
       "\t<tr><th scope=col>station_id</th><th scope=col>latitude</th><th scope=col>longitude</th><th scope=col>name</th><th scope=col>observation_time</th><th scope=col>temperature</th><th scope=col>temperature_high</th><th scope=col>temperature_low</th><th scope=col>humidity</th><th scope=col>solar_radiation</th><th scope=col>...</th><th scope=col>wind_gust_direction_degrees</th><th scope=col>pressure</th><th scope=col>soil_temp_1</th><th scope=col>soil_temp_2</th><th scope=col>soil_temp_3</th><th scope=col>soil_temp_4</th><th scope=col>soil_moist_1</th><th scope=col>soil_moist_2</th><th scope=col>soil_moist_3</th><th scope=col>soil_moist_4</th></tr>\n",
       "\t<tr><th scope=col>&lt;int&gt;</th><th scope=col>&lt;dbl&gt;</th><th scope=col>&lt;dbl&gt;</th><th scope=col>&lt;chr&gt;</th><th scope=col>&lt;chr&gt;</th><th scope=col>&lt;dbl&gt;</th><th scope=col>&lt;dbl&gt;</th><th scope=col>&lt;dbl&gt;</th><th scope=col>&lt;dbl&gt;</th><th scope=col>&lt;dbl&gt;</th><th scope=col>...</th><th scope=col>&lt;dbl&gt;</th><th scope=col>&lt;dbl&gt;</th><th scope=col>&lt;dbl&gt;</th><th scope=col>&lt;dbl&gt;</th><th scope=col>&lt;dbl&gt;</th><th scope=col>&lt;dbl&gt;</th><th scope=col>&lt;dbl&gt;</th><th scope=col>&lt;dbl&gt;</th><th scope=col>&lt;dbl&gt;</th><th scope=col>&lt;dbl&gt;</th></tr>\n",
       "</thead>\n",
       "<tbody>\n",
       "\t<tr><td>1</td><td>40.93894</td><td>-86.47418</td><td>WHIN001-PULA001</td><td>2019-07-10T04:00:00Z</td><td>70</td><td>71</td><td>70</td><td>83</td><td>NA</td><td>...</td><td>247.5</td><td>30.05</td><td>77</td><td>78</td><td>76</td><td>74</td><td>24</td><td>24</td><td>10</td><td> 9</td></tr>\n",
       "\t<tr><td>1</td><td>40.93894</td><td>-86.47418</td><td>WHIN001-PULA001</td><td>2019-07-10T04:15:00Z</td><td>69</td><td>70</td><td>69</td><td>84</td><td>NA</td><td>...</td><td>247.5</td><td>30.04</td><td>76</td><td>78</td><td>76</td><td>74</td><td>24</td><td>25</td><td>10</td><td> 9</td></tr>\n",
       "\t<tr><td>1</td><td>40.93894</td><td>-86.47418</td><td>WHIN001-PULA001</td><td>2019-07-11T04:00:00Z</td><td>76</td><td>77</td><td>76</td><td>76</td><td>NA</td><td>...</td><td>202.5</td><td>29.89</td><td>80</td><td>80</td><td>78</td><td>75</td><td>31</td><td>30</td><td>12</td><td>10</td></tr>\n",
       "\t<tr><td>1</td><td>40.93894</td><td>-86.47418</td><td>WHIN001-PULA001</td><td>2019-07-11T04:15:00Z</td><td>76</td><td>76</td><td>76</td><td>77</td><td>NA</td><td>...</td><td>202.5</td><td>29.88</td><td>80</td><td>80</td><td>78</td><td>75</td><td>31</td><td>31</td><td>12</td><td>10</td></tr>\n",
       "\t<tr><td>1</td><td>40.93894</td><td>-86.47418</td><td>WHIN001-PULA001</td><td>2019-07-11T04:30:00Z</td><td>76</td><td>76</td><td>76</td><td>77</td><td>NA</td><td>...</td><td>202.5</td><td>29.88</td><td>80</td><td>80</td><td>78</td><td>75</td><td>32</td><td>31</td><td>12</td><td>10</td></tr>\n",
       "\t<tr><td>1</td><td>40.93894</td><td>-86.47418</td><td>WHIN001-PULA001</td><td>2019-07-11T04:45:00Z</td><td>75</td><td>76</td><td>75</td><td>79</td><td>NA</td><td>...</td><td>225.0</td><td>29.89</td><td>79</td><td>80</td><td>77</td><td>75</td><td>31</td><td>31</td><td>12</td><td>10</td></tr>\n",
       "</tbody>\n",
       "</table>\n"
      ],
      "text/latex": [
       "A data.frame: 6 x 26\n",
       "\\begin{tabular}{r|llllllllllllllllllllllllll}\n",
       " station\\_id & latitude & longitude & name & observation\\_time & temperature & temperature\\_high & temperature\\_low & humidity & solar\\_radiation & solar\\_radiation\\_high & rain & rain\\_inches\\_last\\_hour & wind\\_speed\\_mph & wind\\_direction\\_degrees & wind\\_gust\\_speed\\_mph & wind\\_gust\\_direction\\_degrees & pressure & soil\\_temp\\_1 & soil\\_temp\\_2 & soil\\_temp\\_3 & soil\\_temp\\_4 & soil\\_moist\\_1 & soil\\_moist\\_2 & soil\\_moist\\_3 & soil\\_moist\\_4\\\\\n",
       " <int> & <dbl> & <dbl> & <chr> & <chr> & <dbl> & <dbl> & <dbl> & <dbl> & <dbl> & <dbl> & <dbl> & <dbl> & <dbl> & <dbl> & <dbl> & <dbl> & <dbl> & <dbl> & <dbl> & <dbl> & <dbl> & <dbl> & <dbl> & <dbl> & <dbl>\\\\\n",
       "\\hline\n",
       "\t 1 & 40.93894 & -86.47418 & WHIN001-PULA001 & 2019-07-10T04:00:00Z & 70 & 71 & 70 & 83 & NA & NA & 0 & 0 & 0 &    NA & 3 & 247.5 & 30.05 & 77 & 78 & 76 & 74 & 24 & 24 & 10 &  9\\\\\n",
       "\t 1 & 40.93894 & -86.47418 & WHIN001-PULA001 & 2019-07-10T04:15:00Z & 69 & 70 & 69 & 84 & NA & NA & 0 & 0 & 1 & 247.5 & 3 & 247.5 & 30.04 & 76 & 78 & 76 & 74 & 24 & 25 & 10 &  9\\\\\n",
       "\t 1 & 40.93894 & -86.47418 & WHIN001-PULA001 & 2019-07-11T04:00:00Z & 76 & 77 & 76 & 76 & NA & NA & 0 & 0 & 2 & 202.5 & 4 & 202.5 & 29.89 & 80 & 80 & 78 & 75 & 31 & 30 & 12 & 10\\\\\n",
       "\t 1 & 40.93894 & -86.47418 & WHIN001-PULA001 & 2019-07-11T04:15:00Z & 76 & 76 & 76 & 77 & NA & NA & 0 & 0 & 2 & 202.5 & 4 & 202.5 & 29.88 & 80 & 80 & 78 & 75 & 31 & 31 & 12 & 10\\\\\n",
       "\t 1 & 40.93894 & -86.47418 & WHIN001-PULA001 & 2019-07-11T04:30:00Z & 76 & 76 & 76 & 77 & NA & NA & 0 & 0 & 2 & 225.0 & 4 & 202.5 & 29.88 & 80 & 80 & 78 & 75 & 32 & 31 & 12 & 10\\\\\n",
       "\t 1 & 40.93894 & -86.47418 & WHIN001-PULA001 & 2019-07-11T04:45:00Z & 75 & 76 & 75 & 79 & NA & NA & 0 & 0 & 2 & 202.5 & 3 & 225.0 & 29.89 & 79 & 80 & 77 & 75 & 31 & 31 & 12 & 10\\\\\n",
       "\\end{tabular}\n"
      ],
      "text/markdown": [
       "\n",
       "A data.frame: 6 x 26\n",
       "\n",
       "| station_id &lt;int&gt; | latitude &lt;dbl&gt; | longitude &lt;dbl&gt; | name &lt;chr&gt; | observation_time &lt;chr&gt; | temperature &lt;dbl&gt; | temperature_high &lt;dbl&gt; | temperature_low &lt;dbl&gt; | humidity &lt;dbl&gt; | solar_radiation &lt;dbl&gt; | ... ... | wind_gust_direction_degrees &lt;dbl&gt; | pressure &lt;dbl&gt; | soil_temp_1 &lt;dbl&gt; | soil_temp_2 &lt;dbl&gt; | soil_temp_3 &lt;dbl&gt; | soil_temp_4 &lt;dbl&gt; | soil_moist_1 &lt;dbl&gt; | soil_moist_2 &lt;dbl&gt; | soil_moist_3 &lt;dbl&gt; | soil_moist_4 &lt;dbl&gt; |\n",
       "|---|---|---|---|---|---|---|---|---|---|---|---|---|---|---|---|---|---|---|---|---|\n",
       "| 1 | 40.93894 | -86.47418 | WHIN001-PULA001 | 2019-07-10T04:00:00Z | 70 | 71 | 70 | 83 | NA | ... | 247.5 | 30.05 | 77 | 78 | 76 | 74 | 24 | 24 | 10 |  9 |\n",
       "| 1 | 40.93894 | -86.47418 | WHIN001-PULA001 | 2019-07-10T04:15:00Z | 69 | 70 | 69 | 84 | NA | ... | 247.5 | 30.04 | 76 | 78 | 76 | 74 | 24 | 25 | 10 |  9 |\n",
       "| 1 | 40.93894 | -86.47418 | WHIN001-PULA001 | 2019-07-11T04:00:00Z | 76 | 77 | 76 | 76 | NA | ... | 202.5 | 29.89 | 80 | 80 | 78 | 75 | 31 | 30 | 12 | 10 |\n",
       "| 1 | 40.93894 | -86.47418 | WHIN001-PULA001 | 2019-07-11T04:15:00Z | 76 | 76 | 76 | 77 | NA | ... | 202.5 | 29.88 | 80 | 80 | 78 | 75 | 31 | 31 | 12 | 10 |\n",
       "| 1 | 40.93894 | -86.47418 | WHIN001-PULA001 | 2019-07-11T04:30:00Z | 76 | 76 | 76 | 77 | NA | ... | 202.5 | 29.88 | 80 | 80 | 78 | 75 | 32 | 31 | 12 | 10 |\n",
       "| 1 | 40.93894 | -86.47418 | WHIN001-PULA001 | 2019-07-11T04:45:00Z | 75 | 76 | 75 | 79 | NA | ... | 225.0 | 29.89 | 79 | 80 | 77 | 75 | 31 | 31 | 12 | 10 |\n",
       "\n"
      ],
      "text/plain": [
       "  station_id latitude longitude name            observation_time    \n",
       "1 1          40.93894 -86.47418 WHIN001-PULA001 2019-07-10T04:00:00Z\n",
       "2 1          40.93894 -86.47418 WHIN001-PULA001 2019-07-10T04:15:00Z\n",
       "3 1          40.93894 -86.47418 WHIN001-PULA001 2019-07-11T04:00:00Z\n",
       "4 1          40.93894 -86.47418 WHIN001-PULA001 2019-07-11T04:15:00Z\n",
       "5 1          40.93894 -86.47418 WHIN001-PULA001 2019-07-11T04:30:00Z\n",
       "6 1          40.93894 -86.47418 WHIN001-PULA001 2019-07-11T04:45:00Z\n",
       "  temperature temperature_high temperature_low humidity solar_radiation ...\n",
       "1 70          71               70              83       NA              ...\n",
       "2 69          70               69              84       NA              ...\n",
       "3 76          77               76              76       NA              ...\n",
       "4 76          76               76              77       NA              ...\n",
       "5 76          76               76              77       NA              ...\n",
       "6 75          76               75              79       NA              ...\n",
       "  wind_gust_direction_degrees pressure soil_temp_1 soil_temp_2 soil_temp_3\n",
       "1 247.5                       30.05    77          78          76         \n",
       "2 247.5                       30.04    76          78          76         \n",
       "3 202.5                       29.89    80          80          78         \n",
       "4 202.5                       29.88    80          80          78         \n",
       "5 202.5                       29.88    80          80          78         \n",
       "6 225.0                       29.89    79          80          77         \n",
       "  soil_temp_4 soil_moist_1 soil_moist_2 soil_moist_3 soil_moist_4\n",
       "1 74          24           24           10            9          \n",
       "2 74          24           25           10            9          \n",
       "3 75          31           30           12           10          \n",
       "4 75          31           31           12           10          \n",
       "5 75          32           31           12           10          \n",
       "6 75          31           31           12           10          "
      ]
     },
     "metadata": {},
     "output_type": "display_data"
    }
   ],
   "source": [
    "head(weather)"
   ]
  },
  {
   "cell_type": "code",
   "execution_count": 3,
   "id": "ee8ee741-7549-4330-865a-7f75bf22480e",
   "metadata": {},
   "outputs": [
    {
     "data": {
      "text/html": [
       "<table>\n",
       "<caption>A data.frame: 6 x 4</caption>\n",
       "<thead>\n",
       "\t<tr><th></th><th scope=col>id</th><th scope=col>name</th><th scope=col>latitude</th><th scope=col>longitude</th></tr>\n",
       "\t<tr><th></th><th scope=col>&lt;int&gt;</th><th scope=col>&lt;chr&gt;</th><th scope=col>&lt;dbl&gt;</th><th scope=col>&lt;dbl&gt;</th></tr>\n",
       "</thead>\n",
       "<tbody>\n",
       "\t<tr><th scope=row>173</th><td>31</td><td>WHIN031-CASS005 EXT               </td><td>40.78383</td><td>-86.33381</td></tr>\n",
       "\t<tr><th scope=row>174</th><td>35</td><td>WHIN035-CASS004 Ivy Tech          </td><td>40.73612</td><td>-86.35604</td></tr>\n",
       "\t<tr><th scope=row>175</th><td>36</td><td>WHIN036-TIPP004                   </td><td>40.29861</td><td>-86.90033</td></tr>\n",
       "\t<tr><th scope=row>176</th><td>41</td><td>WHIN041-TIPP006 Cumberland Gardens</td><td>40.46325</td><td>-86.91867</td></tr>\n",
       "\t<tr><th scope=row>177</th><td>42</td><td>WHIN042-CARR002                   </td><td>40.54233</td><td>-86.48150</td></tr>\n",
       "\t<tr><th scope=row>178</th><td>44</td><td>Pedestrian Bridge                 </td><td>40.41936</td><td>-86.89753</td></tr>\n",
       "</tbody>\n",
       "</table>\n"
      ],
      "text/latex": [
       "A data.frame: 6 x 4\n",
       "\\begin{tabular}{r|llll}\n",
       "  & id & name & latitude & longitude\\\\\n",
       "  & <int> & <chr> & <dbl> & <dbl>\\\\\n",
       "\\hline\n",
       "\t173 & 31 & WHIN031-CASS005 EXT                & 40.78383 & -86.33381\\\\\n",
       "\t174 & 35 & WHIN035-CASS004 Ivy Tech           & 40.73612 & -86.35604\\\\\n",
       "\t175 & 36 & WHIN036-TIPP004                    & 40.29861 & -86.90033\\\\\n",
       "\t176 & 41 & WHIN041-TIPP006 Cumberland Gardens & 40.46325 & -86.91867\\\\\n",
       "\t177 & 42 & WHIN042-CARR002                    & 40.54233 & -86.48150\\\\\n",
       "\t178 & 44 & Pedestrian Bridge                  & 40.41936 & -86.89753\\\\\n",
       "\\end{tabular}\n"
      ],
      "text/markdown": [
       "\n",
       "A data.frame: 6 x 4\n",
       "\n",
       "| <!--/--> | id &lt;int&gt; | name &lt;chr&gt; | latitude &lt;dbl&gt; | longitude &lt;dbl&gt; |\n",
       "|---|---|---|---|---|\n",
       "| 173 | 31 | WHIN031-CASS005 EXT                | 40.78383 | -86.33381 |\n",
       "| 174 | 35 | WHIN035-CASS004 Ivy Tech           | 40.73612 | -86.35604 |\n",
       "| 175 | 36 | WHIN036-TIPP004                    | 40.29861 | -86.90033 |\n",
       "| 176 | 41 | WHIN041-TIPP006 Cumberland Gardens | 40.46325 | -86.91867 |\n",
       "| 177 | 42 | WHIN042-CARR002                    | 40.54233 | -86.48150 |\n",
       "| 178 | 44 | Pedestrian Bridge                  | 40.41936 | -86.89753 |\n",
       "\n"
      ],
      "text/plain": [
       "    id name                               latitude longitude\n",
       "173 31 WHIN031-CASS005 EXT                40.78383 -86.33381\n",
       "174 35 WHIN035-CASS004 Ivy Tech           40.73612 -86.35604\n",
       "175 36 WHIN036-TIPP004                    40.29861 -86.90033\n",
       "176 41 WHIN041-TIPP006 Cumberland Gardens 40.46325 -86.91867\n",
       "177 42 WHIN042-CARR002                    40.54233 -86.48150\n",
       "178 44 Pedestrian Bridge                  40.41936 -86.89753"
      ]
     },
     "metadata": {},
     "output_type": "display_data"
    }
   ],
   "source": [
    "tail(stations)"
   ]
  },
  {
   "cell_type": "code",
   "execution_count": 15,
   "id": "31d00cd0-ae16-4c71-a6fc-d4d997363e21",
   "metadata": {},
   "outputs": [
    {
     "data": {
      "text/html": [
       "<table>\n",
       "<caption>A data.frame: 6 x 26</caption>\n",
       "<thead>\n",
       "\t<tr><th></th><th scope=col>station_id</th><th scope=col>latitude</th><th scope=col>longitude</th><th scope=col>name</th><th scope=col>observation_time</th><th scope=col>temperature</th><th scope=col>temperature_high</th><th scope=col>temperature_low</th><th scope=col>humidity</th><th scope=col>solar_radiation</th><th scope=col>...</th><th scope=col>wind_gust_direction_degrees</th><th scope=col>pressure</th><th scope=col>soil_temp_1</th><th scope=col>soil_temp_2</th><th scope=col>soil_temp_3</th><th scope=col>soil_temp_4</th><th scope=col>soil_moist_1</th><th scope=col>soil_moist_2</th><th scope=col>soil_moist_3</th><th scope=col>soil_moist_4</th></tr>\n",
       "\t<tr><th></th><th scope=col>&lt;int&gt;</th><th scope=col>&lt;dbl&gt;</th><th scope=col>&lt;dbl&gt;</th><th scope=col>&lt;chr&gt;</th><th scope=col>&lt;chr&gt;</th><th scope=col>&lt;dbl&gt;</th><th scope=col>&lt;dbl&gt;</th><th scope=col>&lt;dbl&gt;</th><th scope=col>&lt;dbl&gt;</th><th scope=col>&lt;dbl&gt;</th><th scope=col>...</th><th scope=col>&lt;dbl&gt;</th><th scope=col>&lt;dbl&gt;</th><th scope=col>&lt;dbl&gt;</th><th scope=col>&lt;dbl&gt;</th><th scope=col>&lt;dbl&gt;</th><th scope=col>&lt;dbl&gt;</th><th scope=col>&lt;dbl&gt;</th><th scope=col>&lt;dbl&gt;</th><th scope=col>&lt;dbl&gt;</th><th scope=col>&lt;dbl&gt;</th></tr>\n",
       "</thead>\n",
       "<tbody>\n",
       "\t<tr><th scope=row>999995</th><td>171</td><td>40.2968</td><td>-87.39029</td><td>WHIN038E-WARR004</td><td>2021-07-10T06:15:00Z</td><td>64</td><td>64</td><td>64</td><td>90</td><td>0</td><td>...</td><td>90.0</td><td>30.015</td><td>NA</td><td>NA</td><td>NA</td><td>NA</td><td>NA</td><td>NA</td><td>NA</td><td>NA</td></tr>\n",
       "\t<tr><th scope=row>999996</th><td>171</td><td>40.2968</td><td>-87.39029</td><td>WHIN038E-WARR004</td><td>2021-07-10T06:30:00Z</td><td>64</td><td>64</td><td>64</td><td>91</td><td>0</td><td>...</td><td>  NA</td><td>30.015</td><td>NA</td><td>NA</td><td>NA</td><td>NA</td><td>NA</td><td>NA</td><td>NA</td><td>NA</td></tr>\n",
       "\t<tr><th scope=row>999997</th><td>171</td><td>40.2968</td><td>-87.39029</td><td>WHIN038E-WARR004</td><td>2021-07-10T06:45:00Z</td><td>64</td><td>64</td><td>64</td><td>90</td><td>0</td><td>...</td><td>90.0</td><td>30.017</td><td>NA</td><td>NA</td><td>NA</td><td>NA</td><td>NA</td><td>NA</td><td>NA</td><td>NA</td></tr>\n",
       "\t<tr><th scope=row>999998</th><td>171</td><td>40.2968</td><td>-87.39029</td><td>WHIN038E-WARR004</td><td>2021-07-10T07:00:00Z</td><td>64</td><td>64</td><td>64</td><td>91</td><td>0</td><td>...</td><td>67.5</td><td>30.016</td><td>NA</td><td>NA</td><td>NA</td><td>NA</td><td>NA</td><td>NA</td><td>NA</td><td>NA</td></tr>\n",
       "\t<tr><th scope=row>999999</th><td>171</td><td>40.2968</td><td>-87.39029</td><td>WHIN038E-WARR004</td><td>2021-07-10T07:15:00Z</td><td>64</td><td>64</td><td>64</td><td>91</td><td>0</td><td>...</td><td>67.5</td><td>30.010</td><td>NA</td><td>NA</td><td>NA</td><td>NA</td><td>NA</td><td>NA</td><td>NA</td><td>NA</td></tr>\n",
       "\t<tr><th scope=row>1000000</th><td>171</td><td>40.2968</td><td>-87.39029</td><td>WHIN038E-WARR004</td><td>2021-07-10T07:30:00Z</td><td>64</td><td>64</td><td>63</td><td>91</td><td>0</td><td>...</td><td>67.5</td><td>29.996</td><td>NA</td><td>NA</td><td>NA</td><td>NA</td><td>NA</td><td>NA</td><td>NA</td><td>NA</td></tr>\n",
       "</tbody>\n",
       "</table>\n"
      ],
      "text/latex": [
       "A data.frame: 6 x 26\n",
       "\\begin{tabular}{r|llllllllllllllllllllllllll}\n",
       "  & station\\_id & latitude & longitude & name & observation\\_time & temperature & temperature\\_high & temperature\\_low & humidity & solar\\_radiation & solar\\_radiation\\_high & rain & rain\\_inches\\_last\\_hour & wind\\_speed\\_mph & wind\\_direction\\_degrees & wind\\_gust\\_speed\\_mph & wind\\_gust\\_direction\\_degrees & pressure & soil\\_temp\\_1 & soil\\_temp\\_2 & soil\\_temp\\_3 & soil\\_temp\\_4 & soil\\_moist\\_1 & soil\\_moist\\_2 & soil\\_moist\\_3 & soil\\_moist\\_4\\\\\n",
       "  & <int> & <dbl> & <dbl> & <chr> & <chr> & <dbl> & <dbl> & <dbl> & <dbl> & <dbl> & <dbl> & <dbl> & <dbl> & <dbl> & <dbl> & <dbl> & <dbl> & <dbl> & <dbl> & <dbl> & <dbl> & <dbl> & <dbl> & <dbl> & <dbl> & <dbl>\\\\\n",
       "\\hline\n",
       "\t999995 & 171 & 40.2968 & -87.39029 & WHIN038E-WARR004 & 2021-07-10T06:15:00Z & 64 & 64 & 64 & 90 & 0 & 0 & 0 & 0 & 1 & 67.5 & 4 & 90.0 & 30.015 & NA & NA & NA & NA & NA & NA & NA & NA\\\\\n",
       "\t999996 & 171 & 40.2968 & -87.39029 & WHIN038E-WARR004 & 2021-07-10T06:30:00Z & 64 & 64 & 64 & 91 & 0 & 0 & 0 & 0 & 2 & 90.0 & 4 &   NA & 30.015 & NA & NA & NA & NA & NA & NA & NA & NA\\\\\n",
       "\t999997 & 171 & 40.2968 & -87.39029 & WHIN038E-WARR004 & 2021-07-10T06:45:00Z & 64 & 64 & 64 & 90 & 0 & 0 & 0 & 0 & 1 & 67.5 & 4 & 90.0 & 30.017 & NA & NA & NA & NA & NA & NA & NA & NA\\\\\n",
       "\t999998 & 171 & 40.2968 & -87.39029 & WHIN038E-WARR004 & 2021-07-10T07:00:00Z & 64 & 64 & 64 & 91 & 0 & 0 & 0 & 0 & 1 & 67.5 & 3 & 67.5 & 30.016 & NA & NA & NA & NA & NA & NA & NA & NA\\\\\n",
       "\t999999 & 171 & 40.2968 & -87.39029 & WHIN038E-WARR004 & 2021-07-10T07:15:00Z & 64 & 64 & 64 & 91 & 0 & 0 & 0 & 0 & 0 & 67.5 & 3 & 67.5 & 30.010 & NA & NA & NA & NA & NA & NA & NA & NA\\\\\n",
       "\t1000000 & 171 & 40.2968 & -87.39029 & WHIN038E-WARR004 & 2021-07-10T07:30:00Z & 64 & 64 & 63 & 91 & 0 & 0 & 0 & 0 & 3 & 90.0 & 7 & 67.5 & 29.996 & NA & NA & NA & NA & NA & NA & NA & NA\\\\\n",
       "\\end{tabular}\n"
      ],
      "text/markdown": [
       "\n",
       "A data.frame: 6 x 26\n",
       "\n",
       "| <!--/--> | station_id &lt;int&gt; | latitude &lt;dbl&gt; | longitude &lt;dbl&gt; | name &lt;chr&gt; | observation_time &lt;chr&gt; | temperature &lt;dbl&gt; | temperature_high &lt;dbl&gt; | temperature_low &lt;dbl&gt; | humidity &lt;dbl&gt; | solar_radiation &lt;dbl&gt; | ... ... | wind_gust_direction_degrees &lt;dbl&gt; | pressure &lt;dbl&gt; | soil_temp_1 &lt;dbl&gt; | soil_temp_2 &lt;dbl&gt; | soil_temp_3 &lt;dbl&gt; | soil_temp_4 &lt;dbl&gt; | soil_moist_1 &lt;dbl&gt; | soil_moist_2 &lt;dbl&gt; | soil_moist_3 &lt;dbl&gt; | soil_moist_4 &lt;dbl&gt; |\n",
       "|---|---|---|---|---|---|---|---|---|---|---|---|---|---|---|---|---|---|---|---|---|---|\n",
       "| 999995 | 171 | 40.2968 | -87.39029 | WHIN038E-WARR004 | 2021-07-10T06:15:00Z | 64 | 64 | 64 | 90 | 0 | ... | 90.0 | 30.015 | NA | NA | NA | NA | NA | NA | NA | NA |\n",
       "| 999996 | 171 | 40.2968 | -87.39029 | WHIN038E-WARR004 | 2021-07-10T06:30:00Z | 64 | 64 | 64 | 91 | 0 | ... |   NA | 30.015 | NA | NA | NA | NA | NA | NA | NA | NA |\n",
       "| 999997 | 171 | 40.2968 | -87.39029 | WHIN038E-WARR004 | 2021-07-10T06:45:00Z | 64 | 64 | 64 | 90 | 0 | ... | 90.0 | 30.017 | NA | NA | NA | NA | NA | NA | NA | NA |\n",
       "| 999998 | 171 | 40.2968 | -87.39029 | WHIN038E-WARR004 | 2021-07-10T07:00:00Z | 64 | 64 | 64 | 91 | 0 | ... | 67.5 | 30.016 | NA | NA | NA | NA | NA | NA | NA | NA |\n",
       "| 999999 | 171 | 40.2968 | -87.39029 | WHIN038E-WARR004 | 2021-07-10T07:15:00Z | 64 | 64 | 64 | 91 | 0 | ... | 67.5 | 30.010 | NA | NA | NA | NA | NA | NA | NA | NA |\n",
       "| 1000000 | 171 | 40.2968 | -87.39029 | WHIN038E-WARR004 | 2021-07-10T07:30:00Z | 64 | 64 | 63 | 91 | 0 | ... | 67.5 | 29.996 | NA | NA | NA | NA | NA | NA | NA | NA |\n",
       "\n"
      ],
      "text/plain": [
       "        station_id latitude longitude name             observation_time    \n",
       "999995  171        40.2968  -87.39029 WHIN038E-WARR004 2021-07-10T06:15:00Z\n",
       "999996  171        40.2968  -87.39029 WHIN038E-WARR004 2021-07-10T06:30:00Z\n",
       "999997  171        40.2968  -87.39029 WHIN038E-WARR004 2021-07-10T06:45:00Z\n",
       "999998  171        40.2968  -87.39029 WHIN038E-WARR004 2021-07-10T07:00:00Z\n",
       "999999  171        40.2968  -87.39029 WHIN038E-WARR004 2021-07-10T07:15:00Z\n",
       "1000000 171        40.2968  -87.39029 WHIN038E-WARR004 2021-07-10T07:30:00Z\n",
       "        temperature temperature_high temperature_low humidity solar_radiation\n",
       "999995  64          64               64              90       0              \n",
       "999996  64          64               64              91       0              \n",
       "999997  64          64               64              90       0              \n",
       "999998  64          64               64              91       0              \n",
       "999999  64          64               64              91       0              \n",
       "1000000 64          64               63              91       0              \n",
       "        ... wind_gust_direction_degrees pressure soil_temp_1 soil_temp_2\n",
       "999995  ... 90.0                        30.015   NA          NA         \n",
       "999996  ...   NA                        30.015   NA          NA         \n",
       "999997  ... 90.0                        30.017   NA          NA         \n",
       "999998  ... 67.5                        30.016   NA          NA         \n",
       "999999  ... 67.5                        30.010   NA          NA         \n",
       "1000000 ... 67.5                        29.996   NA          NA         \n",
       "        soil_temp_3 soil_temp_4 soil_moist_1 soil_moist_2 soil_moist_3\n",
       "999995  NA          NA          NA           NA           NA          \n",
       "999996  NA          NA          NA           NA           NA          \n",
       "999997  NA          NA          NA           NA           NA          \n",
       "999998  NA          NA          NA           NA           NA          \n",
       "999999  NA          NA          NA           NA           NA          \n",
       "1000000 NA          NA          NA           NA           NA          \n",
       "        soil_moist_4\n",
       "999995  NA          \n",
       "999996  NA          \n",
       "999997  NA          \n",
       "999998  NA          \n",
       "999999  NA          \n",
       "1000000 NA          "
      ]
     },
     "metadata": {},
     "output_type": "display_data"
    }
   ],
   "source": [
    "tail(weather)"
   ]
  },
  {
   "cell_type": "code",
   "execution_count": 4,
   "id": "a80d610b-7938-4ad0-a69a-445c86a81d04",
   "metadata": {},
   "outputs": [
    {
     "name": "stdout",
     "output_type": "stream",
     "text": [
      "'data.frame':\t178 obs. of  4 variables:\n",
      " $ id       : int  142 143 151 20 144 163 166 145 153 164 ...\n",
      " $ name     : chr  \"WHIN052-MONT004\" \"WHIN053-PULA005\" \"WHIN059-CASS006\" \"WHIN020-FOUN001\" ...\n",
      " $ latitude : num  40.1 41 40.8 40.3 40.5 ...\n",
      " $ longitude: num  -86.9 -86.4 -86.2 -87.1 -87 ...\n"
     ]
    }
   ],
   "source": [
    "str(stations)"
   ]
  },
  {
   "cell_type": "code",
   "execution_count": 20,
   "id": "c5f1193b-3a08-4020-8aec-797f5b614830",
   "metadata": {},
   "outputs": [
    {
     "name": "stdout",
     "output_type": "stream",
     "text": [
      "'data.frame':\t1000000 obs. of  26 variables:\n",
      " $ station_id                 : int  1 1 1 1 1 1 1 1 1 1 ...\n",
      " $ latitude                   : num  40.9 40.9 40.9 40.9 40.9 ...\n",
      " $ longitude                  : num  -86.5 -86.5 -86.5 -86.5 -86.5 ...\n",
      " $ name                       : chr  \"WHIN001-PULA001\" \"WHIN001-PULA001\" \"WHIN001-PULA001\" \"WHIN001-PULA001\" ...\n",
      " $ observation_time           : chr  \"2019-07-10T04:00:00Z\" \"2019-07-10T04:15:00Z\" \"2019-07-11T04:00:00Z\" \"2019-07-11T04:15:00Z\" ...\n",
      " $ temperature                : num  70 69 76 76 76 75 75 74 74 74 ...\n",
      " $ temperature_high           : num  71 70 77 76 76 76 75 75 74 74 ...\n",
      " $ temperature_low            : num  70 69 76 76 76 75 75 74 74 74 ...\n",
      " $ humidity                   : num  83 84 76 77 77 79 80 81 81 81 ...\n",
      " $ solar_radiation            : num  NA NA NA NA NA NA NA NA NA NA ...\n",
      " $ solar_radiation_high       : num  NA NA NA NA NA NA NA NA NA NA ...\n",
      " $ rain                       : num  0 0 0 0 0 0 0 0 0 0 ...\n",
      " $ rain_inches_last_hour      : num  0 0 0 0 0 0 0 0 0 0 ...\n",
      " $ wind_speed_mph             : num  0 1 2 2 2 2 1 2 2 3 ...\n",
      " $ wind_direction_degrees     : num  NA 248 202 202 225 ...\n",
      " $ wind_gust_speed_mph        : num  3 3 4 4 4 3 3 4 4 4 ...\n",
      " $ wind_gust_direction_degrees: num  248 248 202 202 202 ...\n",
      " $ pressure                   : num  30.1 30 29.9 29.9 29.9 ...\n",
      " $ soil_temp_1                : num  77 76 80 80 80 79 79 79 79 79 ...\n",
      " $ soil_temp_2                : num  78 78 80 80 80 80 79 79 79 79 ...\n",
      " $ soil_temp_3                : num  76 76 78 78 78 77 77 77 77 77 ...\n",
      " $ soil_temp_4                : num  74 74 75 75 75 75 75 75 75 75 ...\n",
      " $ soil_moist_1               : num  24 24 31 31 32 31 32 32 32 32 ...\n",
      " $ soil_moist_2               : num  24 25 30 31 31 31 31 31 31 31 ...\n",
      " $ soil_moist_3               : num  10 10 12 12 12 12 12 12 12 12 ...\n",
      " $ soil_moist_4               : num  9 9 10 10 10 10 10 10 10 10 ...\n"
     ]
    }
   ],
   "source": [
    "str(weather)"
   ]
  },
  {
   "cell_type": "code",
   "execution_count": 5,
   "id": "0cf25bf7-e6e2-4925-ad98-8178d695f379",
   "metadata": {},
   "outputs": [
    {
     "data": {
      "text/html": [
       "<ol class=list-inline>\n",
       "\t<li>'id'</li>\n",
       "\t<li>'name'</li>\n",
       "\t<li>'latitude'</li>\n",
       "\t<li>'longitude'</li>\n",
       "</ol>\n"
      ],
      "text/latex": [
       "\\begin{enumerate*}\n",
       "\\item 'id'\n",
       "\\item 'name'\n",
       "\\item 'latitude'\n",
       "\\item 'longitude'\n",
       "\\end{enumerate*}\n"
      ],
      "text/markdown": [
       "1. 'id'\n",
       "2. 'name'\n",
       "3. 'latitude'\n",
       "4. 'longitude'\n",
       "\n",
       "\n"
      ],
      "text/plain": [
       "[1] \"id\"        \"name\"      \"latitude\"  \"longitude\""
      ]
     },
     "metadata": {},
     "output_type": "display_data"
    }
   ],
   "source": [
    "names(stations)"
   ]
  },
  {
   "cell_type": "code",
   "execution_count": 17,
   "id": "c7cd4b83-649d-4d5c-964f-71197648be19",
   "metadata": {},
   "outputs": [
    {
     "data": {
      "text/html": [
       "<ol class=list-inline>\n",
       "\t<li>'station_id'</li>\n",
       "\t<li>'latitude'</li>\n",
       "\t<li>'longitude'</li>\n",
       "\t<li>'name'</li>\n",
       "\t<li>'observation_time'</li>\n",
       "\t<li>'temperature'</li>\n",
       "\t<li>'temperature_high'</li>\n",
       "\t<li>'temperature_low'</li>\n",
       "\t<li>'humidity'</li>\n",
       "\t<li>'solar_radiation'</li>\n",
       "\t<li>'solar_radiation_high'</li>\n",
       "\t<li>'rain'</li>\n",
       "\t<li>'rain_inches_last_hour'</li>\n",
       "\t<li>'wind_speed_mph'</li>\n",
       "\t<li>'wind_direction_degrees'</li>\n",
       "\t<li>'wind_gust_speed_mph'</li>\n",
       "\t<li>'wind_gust_direction_degrees'</li>\n",
       "\t<li>'pressure'</li>\n",
       "\t<li>'soil_temp_1'</li>\n",
       "\t<li>'soil_temp_2'</li>\n",
       "\t<li>'soil_temp_3'</li>\n",
       "\t<li>'soil_temp_4'</li>\n",
       "\t<li>'soil_moist_1'</li>\n",
       "\t<li>'soil_moist_2'</li>\n",
       "\t<li>'soil_moist_3'</li>\n",
       "\t<li>'soil_moist_4'</li>\n",
       "</ol>\n"
      ],
      "text/latex": [
       "\\begin{enumerate*}\n",
       "\\item 'station\\_id'\n",
       "\\item 'latitude'\n",
       "\\item 'longitude'\n",
       "\\item 'name'\n",
       "\\item 'observation\\_time'\n",
       "\\item 'temperature'\n",
       "\\item 'temperature\\_high'\n",
       "\\item 'temperature\\_low'\n",
       "\\item 'humidity'\n",
       "\\item 'solar\\_radiation'\n",
       "\\item 'solar\\_radiation\\_high'\n",
       "\\item 'rain'\n",
       "\\item 'rain\\_inches\\_last\\_hour'\n",
       "\\item 'wind\\_speed\\_mph'\n",
       "\\item 'wind\\_direction\\_degrees'\n",
       "\\item 'wind\\_gust\\_speed\\_mph'\n",
       "\\item 'wind\\_gust\\_direction\\_degrees'\n",
       "\\item 'pressure'\n",
       "\\item 'soil\\_temp\\_1'\n",
       "\\item 'soil\\_temp\\_2'\n",
       "\\item 'soil\\_temp\\_3'\n",
       "\\item 'soil\\_temp\\_4'\n",
       "\\item 'soil\\_moist\\_1'\n",
       "\\item 'soil\\_moist\\_2'\n",
       "\\item 'soil\\_moist\\_3'\n",
       "\\item 'soil\\_moist\\_4'\n",
       "\\end{enumerate*}\n"
      ],
      "text/markdown": [
       "1. 'station_id'\n",
       "2. 'latitude'\n",
       "3. 'longitude'\n",
       "4. 'name'\n",
       "5. 'observation_time'\n",
       "6. 'temperature'\n",
       "7. 'temperature_high'\n",
       "8. 'temperature_low'\n",
       "9. 'humidity'\n",
       "10. 'solar_radiation'\n",
       "11. 'solar_radiation_high'\n",
       "12. 'rain'\n",
       "13. 'rain_inches_last_hour'\n",
       "14. 'wind_speed_mph'\n",
       "15. 'wind_direction_degrees'\n",
       "16. 'wind_gust_speed_mph'\n",
       "17. 'wind_gust_direction_degrees'\n",
       "18. 'pressure'\n",
       "19. 'soil_temp_1'\n",
       "20. 'soil_temp_2'\n",
       "21. 'soil_temp_3'\n",
       "22. 'soil_temp_4'\n",
       "23. 'soil_moist_1'\n",
       "24. 'soil_moist_2'\n",
       "25. 'soil_moist_3'\n",
       "26. 'soil_moist_4'\n",
       "\n",
       "\n"
      ],
      "text/plain": [
       " [1] \"station_id\"                  \"latitude\"                   \n",
       " [3] \"longitude\"                   \"name\"                       \n",
       " [5] \"observation_time\"            \"temperature\"                \n",
       " [7] \"temperature_high\"            \"temperature_low\"            \n",
       " [9] \"humidity\"                    \"solar_radiation\"            \n",
       "[11] \"solar_radiation_high\"        \"rain\"                       \n",
       "[13] \"rain_inches_last_hour\"       \"wind_speed_mph\"             \n",
       "[15] \"wind_direction_degrees\"      \"wind_gust_speed_mph\"        \n",
       "[17] \"wind_gust_direction_degrees\" \"pressure\"                   \n",
       "[19] \"soil_temp_1\"                 \"soil_temp_2\"                \n",
       "[21] \"soil_temp_3\"                 \"soil_temp_4\"                \n",
       "[23] \"soil_moist_1\"                \"soil_moist_2\"               \n",
       "[25] \"soil_moist_3\"                \"soil_moist_4\"               "
      ]
     },
     "metadata": {},
     "output_type": "display_data"
    }
   ],
   "source": [
    "names(weather)"
   ]
  },
  {
   "cell_type": "code",
   "execution_count": 6,
   "id": "b0ca991c-a182-4be6-8ae4-94bd714a9e81",
   "metadata": {},
   "outputs": [
    {
     "data": {
      "text/html": [
       "<ol class=list-inline>\n",
       "\t<li>178</li>\n",
       "\t<li>4</li>\n",
       "</ol>\n"
      ],
      "text/latex": [
       "\\begin{enumerate*}\n",
       "\\item 178\n",
       "\\item 4\n",
       "\\end{enumerate*}\n"
      ],
      "text/markdown": [
       "1. 178\n",
       "2. 4\n",
       "\n",
       "\n"
      ],
      "text/plain": [
       "[1] 178   4"
      ]
     },
     "metadata": {},
     "output_type": "display_data"
    }
   ],
   "source": [
    "dim(stations)"
   ]
  },
  {
   "cell_type": "code",
   "execution_count": 18,
   "id": "21977869-469e-48b2-a993-60016b8794b3",
   "metadata": {},
   "outputs": [
    {
     "data": {
      "text/html": [
       "<ol class=list-inline>\n",
       "\t<li>1000000</li>\n",
       "\t<li>26</li>\n",
       "</ol>\n"
      ],
      "text/latex": [
       "\\begin{enumerate*}\n",
       "\\item 1000000\n",
       "\\item 26\n",
       "\\end{enumerate*}\n"
      ],
      "text/markdown": [
       "1. 1000000\n",
       "2. 26\n",
       "\n",
       "\n"
      ],
      "text/plain": [
       "[1] 1000000      26"
      ]
     },
     "metadata": {},
     "output_type": "display_data"
    }
   ],
   "source": [
    "dim(weather)"
   ]
  },
  {
   "cell_type": "code",
   "execution_count": 7,
   "id": "060f1e47-b4ec-4903-b499-6b604227a003",
   "metadata": {},
   "outputs": [
    {
     "data": {
      "text/plain": [
       "   Min. 1st Qu.  Median    Mean 3rd Qu.    Max. \n",
       "   1.00   54.25   98.50   99.29  142.75  197.00 "
      ]
     },
     "metadata": {},
     "output_type": "display_data"
    }
   ],
   "source": [
    "summary(stations$id)"
   ]
  },
  {
   "cell_type": "code",
   "execution_count": 19,
   "id": "bedbc8cb-e820-4a5c-990b-f05b8503cb85",
   "metadata": {},
   "outputs": [
    {
     "data": {
      "text/plain": [
       "     Min.   1st Qu.    Median      Mean   3rd Qu.      Max. \n",
       "  0.00000   0.00000   0.00000   0.08923   0.00000 101.00000 "
      ]
     },
     "metadata": {},
     "output_type": "display_data"
    }
   ],
   "source": [
    "summary(weather$rain)"
   ]
  },
  {
   "cell_type": "markdown",
   "id": "b456e57c-4a12-464b-999a-ef2df5af80c1",
   "metadata": {},
   "source": [
    "Code and outputs are listed above, including read.csv function and some functions like head(), tail(), dim(), summary(), str(), and names(). \n",
    "Answering questions: \n",
    "The dimension of dataset \"stations\" is 178 rows and 4 columns. The dimension of dataset \"weather\" is 1000000 rows and 26 columns.\n",
    "The first 5 rows are listed above in the code: head(stations) and head(weather).\n",
    "The column names are displayed above in the code: names(stations) and names(weather)."
   ]
  },
  {
   "cell_type": "markdown",
   "id": "fc601975-35ed-4680-a4e1-0273ee3cc047",
   "metadata": {},
   "source": [
    "## Question 2"
   ]
  },
  {
   "cell_type": "code",
   "execution_count": 11,
   "id": "a16336a1-1ef0-41e8-bc7c-49387db27497",
   "metadata": {},
   "outputs": [],
   "source": [
    "temp <- weather$temperature"
   ]
  },
  {
   "cell_type": "code",
   "execution_count": 12,
   "id": "2f719e86-f95b-4dcd-9324-abc33be05f0a",
   "metadata": {},
   "outputs": [
    {
     "data": {
      "text/html": [
       "<ol class=list-inline>\n",
       "\t<li>70</li>\n",
       "\t<li>69</li>\n",
       "\t<li>76</li>\n",
       "\t<li>76</li>\n",
       "\t<li>76</li>\n",
       "\t<li>75</li>\n",
       "</ol>\n"
      ],
      "text/latex": [
       "\\begin{enumerate*}\n",
       "\\item 70\n",
       "\\item 69\n",
       "\\item 76\n",
       "\\item 76\n",
       "\\item 76\n",
       "\\item 75\n",
       "\\end{enumerate*}\n"
      ],
      "text/markdown": [
       "1. 70\n",
       "2. 69\n",
       "3. 76\n",
       "4. 76\n",
       "5. 76\n",
       "6. 75\n",
       "\n",
       "\n"
      ],
      "text/plain": [
       "[1] 70 69 76 76 76 75"
      ]
     },
     "metadata": {},
     "output_type": "display_data"
    }
   ],
   "source": [
    "head(temp)"
   ]
  },
  {
   "cell_type": "code",
   "execution_count": 13,
   "id": "7eb2ca3a-aa58-4b4b-87e7-4ecaed8ba201",
   "metadata": {},
   "outputs": [
    {
     "data": {
      "text/html": [
       "63"
      ],
      "text/latex": [
       "63"
      ],
      "text/markdown": [
       "63"
      ],
      "text/plain": [
       "[1] 63"
      ]
     },
     "metadata": {},
     "output_type": "display_data"
    }
   ],
   "source": [
    "temp[100]"
   ]
  },
  {
   "cell_type": "code",
   "execution_count": 14,
   "id": "76bd2966-f839-4aa4-89fc-eacacdf40003",
   "metadata": {},
   "outputs": [
    {
     "data": {
      "text/html": [
       "<ol class=list-inline>\n",
       "\t<li>64</li>\n",
       "\t<li>64</li>\n",
       "\t<li>64</li>\n",
       "\t<li>64</li>\n",
       "\t<li>64</li>\n",
       "\t<li>64</li>\n",
       "</ol>\n"
      ],
      "text/latex": [
       "\\begin{enumerate*}\n",
       "\\item 64\n",
       "\\item 64\n",
       "\\item 64\n",
       "\\item 64\n",
       "\\item 64\n",
       "\\item 64\n",
       "\\end{enumerate*}\n"
      ],
      "text/markdown": [
       "1. 64\n",
       "2. 64\n",
       "3. 64\n",
       "4. 64\n",
       "5. 64\n",
       "6. 64\n",
       "\n",
       "\n"
      ],
      "text/plain": [
       "[1] 64 64 64 64 64 64"
      ]
     },
     "metadata": {},
     "output_type": "display_data"
    }
   ],
   "source": [
    "tail(temp)"
   ]
  },
  {
   "cell_type": "code",
   "execution_count": 15,
   "id": "c27917e3-7779-4c47-b125-30ea5ee0e7f9",
   "metadata": {},
   "outputs": [
    {
     "data": {
      "text/html": [
       "'double'"
      ],
      "text/latex": [
       "'double'"
      ],
      "text/markdown": [
       "'double'"
      ],
      "text/plain": [
       "[1] \"double\""
      ]
     },
     "metadata": {},
     "output_type": "display_data"
    }
   ],
   "source": [
    "typeof(temp)"
   ]
  },
  {
   "cell_type": "code",
   "execution_count": 16,
   "id": "42be393b-7795-48dd-a331-0fd7be838047",
   "metadata": {},
   "outputs": [
    {
     "data": {
      "text/html": [
       "'numeric'"
      ],
      "text/latex": [
       "'numeric'"
      ],
      "text/markdown": [
       "'numeric'"
      ],
      "text/plain": [
       "[1] \"numeric\""
      ]
     },
     "metadata": {},
     "output_type": "display_data"
    }
   ],
   "source": [
    "class(temp)"
   ]
  },
  {
   "cell_type": "markdown",
   "id": "14dc22d4-ddc3-41cc-a91a-cb0025bc0c80",
   "metadata": {},
   "source": [
    "Code and output are displayed above. The first value in the vector temp is 70; the 100th value is 63; the last value is 64. The type of data in the vector is Double data type. The class of data is numeric."
   ]
  },
  {
   "cell_type": "markdown",
   "id": "8e586edd-ff26-4ce2-8f6b-2424b26f2929",
   "metadata": {},
   "source": [
    "## Question 3"
   ]
  },
  {
   "cell_type": "code",
   "execution_count": 6,
   "id": "bbe0f40d-9655-4653-9ca8-886bdb61cb91",
   "metadata": {},
   "outputs": [],
   "source": [
    "temp100 <- head(weather$rain_inches_last_hour,n=100)+tail(weather$rain_inches_last_hour,n=100)"
   ]
  },
  {
   "cell_type": "markdown",
   "id": "47c6229f-35f7-400c-8366-c442baa5cf47",
   "metadata": {},
   "source": [
    "One line code is above code, since I see we do not need to print temp100 on piazza, we do not have output through this one line code. It only add them together and form a new vector."
   ]
  },
  {
   "cell_type": "markdown",
   "id": "da22f29c-d245-4d2b-9fc1-ca14cb6087d9",
   "metadata": {},
   "source": [
    "## Question 4"
   ]
  },
  {
   "cell_type": "code",
   "execution_count": 5,
   "id": "8cffc767-d1c8-4d64-b7dc-f0d2ee8a80d1",
   "metadata": {},
   "outputs": [],
   "source": [
    "Sub <- subset(weather, station_id == 20)"
   ]
  },
  {
   "cell_type": "code",
   "execution_count": 6,
   "id": "8369f38f-4f39-449e-8687-0b93076a2ba6",
   "metadata": {},
   "outputs": [],
   "source": [
    "hot_temps <- Sub$temperature[Sub$temperature >= 85]"
   ]
  },
  {
   "cell_type": "code",
   "execution_count": 7,
   "id": "5abb1139-5d76-436f-88c6-88ab1cff17ac",
   "metadata": {},
   "outputs": [
    {
     "data": {
      "text/html": [
       "909"
      ],
      "text/latex": [
       "909"
      ],
      "text/markdown": [
       "909"
      ],
      "text/plain": [
       "[1] 909"
      ]
     },
     "metadata": {},
     "output_type": "display_data"
    }
   ],
   "source": [
    "length(hot_temps)"
   ]
  },
  {
   "cell_type": "code",
   "execution_count": 8,
   "id": "969da8e1-56e4-487c-8967-7b84a6934a09",
   "metadata": {},
   "outputs": [
    {
     "data": {
      "text/html": [
       "<ol class=list-inline>\n",
       "\t<li>&lt;NA&gt;</li>\n",
       "\t<li>85</li>\n",
       "\t<li>85</li>\n",
       "\t<li>86</li>\n",
       "\t<li>87</li>\n",
       "\t<li>87</li>\n",
       "</ol>\n"
      ],
      "text/latex": [
       "\\begin{enumerate*}\n",
       "\\item <NA>\n",
       "\\item 85\n",
       "\\item 85\n",
       "\\item 86\n",
       "\\item 87\n",
       "\\item 87\n",
       "\\end{enumerate*}\n"
      ],
      "text/markdown": [
       "1. &lt;NA&gt;\n",
       "2. 85\n",
       "3. 85\n",
       "4. 86\n",
       "5. 87\n",
       "6. 87\n",
       "\n",
       "\n"
      ],
      "text/plain": [
       "[1] NA 85 85 86 87 87"
      ]
     },
     "metadata": {},
     "output_type": "display_data"
    }
   ],
   "source": [
    "head(hot_temps)"
   ]
  },
  {
   "cell_type": "code",
   "execution_count": 9,
   "id": "4b3ea621-7a95-40a1-b28a-a04aba4bc254",
   "metadata": {},
   "outputs": [],
   "source": [
    "cold_temps <- Sub$temperature[Sub$temperature <= 40]"
   ]
  },
  {
   "cell_type": "code",
   "execution_count": 10,
   "id": "39046969-6882-43f4-81ea-23203046e0e3",
   "metadata": {},
   "outputs": [
    {
     "data": {
      "text/html": [
       "20627"
      ],
      "text/latex": [
       "20627"
      ],
      "text/markdown": [
       "20627"
      ],
      "text/plain": [
       "[1] 20627"
      ]
     },
     "metadata": {},
     "output_type": "display_data"
    }
   ],
   "source": [
    "length(cold_temps)"
   ]
  },
  {
   "cell_type": "code",
   "execution_count": 11,
   "id": "1300d060-b39f-46b9-aed7-1b34250a4923",
   "metadata": {},
   "outputs": [
    {
     "data": {
      "text/html": [
       "<ol class=list-inline>\n",
       "\t<li>&lt;NA&gt;</li>\n",
       "\t<li>40</li>\n",
       "\t<li>39</li>\n",
       "\t<li>39</li>\n",
       "\t<li>38</li>\n",
       "\t<li>38</li>\n",
       "</ol>\n"
      ],
      "text/latex": [
       "\\begin{enumerate*}\n",
       "\\item <NA>\n",
       "\\item 40\n",
       "\\item 39\n",
       "\\item 39\n",
       "\\item 38\n",
       "\\item 38\n",
       "\\end{enumerate*}\n"
      ],
      "text/markdown": [
       "1. &lt;NA&gt;\n",
       "2. 40\n",
       "3. 39\n",
       "4. 39\n",
       "5. 38\n",
       "6. 38\n",
       "\n",
       "\n"
      ],
      "text/plain": [
       "[1] NA 40 39 39 38 38"
      ]
     },
     "metadata": {},
     "output_type": "display_data"
    }
   ],
   "source": [
    "head(cold_temps)"
   ]
  },
  {
   "cell_type": "code",
   "execution_count": 13,
   "id": "834fca51-8dc9-48ca-bb43-90bd90e6d9c0",
   "metadata": {},
   "outputs": [
    {
     "name": "stderr",
     "output_type": "stream",
     "text": [
      "Warning message in hot_temps + cold_temps:\n",
      "“longer object length is not a multiple of shorter object length”\n"
     ]
    },
    {
     "data": {
      "text/html": [
       "<ol class=list-inline>\n",
       "\t<li>&lt;NA&gt;</li>\n",
       "\t<li>125</li>\n",
       "\t<li>124</li>\n",
       "\t<li>125</li>\n",
       "\t<li>125</li>\n",
       "\t<li>125</li>\n",
       "</ol>\n"
      ],
      "text/latex": [
       "\\begin{enumerate*}\n",
       "\\item <NA>\n",
       "\\item 125\n",
       "\\item 124\n",
       "\\item 125\n",
       "\\item 125\n",
       "\\item 125\n",
       "\\end{enumerate*}\n"
      ],
      "text/markdown": [
       "1. &lt;NA&gt;\n",
       "2. 125\n",
       "3. 124\n",
       "4. 125\n",
       "5. 125\n",
       "6. 125\n",
       "\n",
       "\n"
      ],
      "text/plain": [
       "[1]  NA 125 124 125 125 125"
      ]
     },
     "metadata": {},
     "output_type": "display_data"
    }
   ],
   "source": [
    "head(hot_temps+cold_temps)"
   ]
  },
  {
   "cell_type": "markdown",
   "id": "0d552245-b4d6-474a-9cc9-fa7b8e674d55",
   "metadata": {},
   "source": [
    "Hot_temps and cold_temps are created above. There are 909 elements in hot_temps and 20627 elements in cold_temps. If I add them together, an error occurs : “longer object length is not a multiple of shorter object length”. This is because when two vector are added, the shorter one would be recycled until it matches to the length of the longer vector."
   ]
  },
  {
   "cell_type": "markdown",
   "id": "88c9cdac-3e92-498f-83fa-e089bfc44ac8",
   "metadata": {},
   "source": [
    "## Question 5"
   ]
  },
  {
   "cell_type": "code",
   "execution_count": 14,
   "id": "d370d7c9-06db-42b9-b75f-240481a5c491",
   "metadata": {},
   "outputs": [],
   "source": [
    "myRain <- weather$rain[weather$station_id == 20]"
   ]
  },
  {
   "cell_type": "code",
   "execution_count": 23,
   "id": "86dc8956-1e1c-4f4d-8de3-2c91c04ac016",
   "metadata": {},
   "outputs": [
    {
     "data": {
      "image/png": "[encoded data removed]",
      "text/plain": [
       "plot without title"
      ]
     },
     "metadata": {
      "image/png": {
       "height": 420,
       "width": 420
      }
     },
     "output_type": "display_data"
    }
   ],
   "source": [
    "plot(head(myRain,300))"
   ]
  },
  {
   "cell_type": "code",
   "execution_count": 20,
   "id": "5283304e-2012-4d11-ab98-a39ed82767e6",
   "metadata": {},
   "outputs": [],
   "source": [
    "mySolar <- weather$solar_radiation[weather$station_id == 20]"
   ]
  },
  {
   "cell_type": "code",
   "execution_count": 22,
   "id": "f15275e3-699b-444e-bd76-11bb2e4ff0b8",
   "metadata": {},
   "outputs": [
    {
     "data": {
      "image/png": "[encoded data removed]",
      "text/plain": [
       "plot without title"
      ]
     },
     "metadata": {
      "image/png": {
       "height": 420,
       "width": 420
      }
     },
     "output_type": "display_data"
    }
   ],
   "source": [
    "plot(head(mySolar,300))"
   ]
  },
  {
   "cell_type": "markdown",
   "id": "9fbf00fb-2418-460f-ae94-2a32b0c28952",
   "metadata": {},
   "source": [
    "I tried to plot on station_id=20 and column rain and solar_radiation seperately. \n",
    "For plot for column rain, the pattern is that rain does not deviate from 0 with the change in index. There are only few cases that rain is not 0, and I think they could be outliers. \n",
    "For plot for column solar_radiation, the pattern is fluctuating with index. Going down first, and remain at solar_radiation=0 for around 50 indexs, then going up and repeat this procedure for many times as index move forward."
   ]
  },
  {
   "cell_type": "markdown",
   "id": "c104afec-53e2-457a-926a-8b9aaa001bc3",
   "metadata": {},
   "source": [
    "## Question 6"
   ]
  },
  {
   "cell_type": "markdown",
   "id": "3d6be76b-8653-4594-b876-1194d030df05",
   "metadata": {},
   "source": [
    "Plot 3 is my favorite graphic. This is because it is easily to discern the trend of each station ID seperately and not getting confounded like the dot plot with color above(plot 2). \n",
    "I think one way to improve the graphic 3 is to let it describe more data. This graphic only include data from 2019-07 to 2020-12 but we can definitely include more! \n",
    "One thing interesting is that I find that the graphic messed up at Date 2020-03 to 2020-07. Maybe there are someway to avoid this phenomenon."
   ]
  },
  {
   "cell_type": "markdown",
   "id": "f76442d6-d02e-4f26-b9d6-c3183e1d6929",
   "metadata": {},
   "source": [
    "## Pledge\n",
    "\n",
    "By submitting this work I hereby pledge that this is my own, personal work. I've acknowledged in the designated place at the top of this file all sources that I used to complete said work, including but not limited to: online resources, books, and electronic communications. I've noted all collaboration with fellow students and/or TA's. I did not copy or plagiarize another's work.\n",
    "\n",
    "> As a Boilermaker pursuing academic excellence, I pledge to be honest and true in all that I do. Accountable together – We are Purdue."
   ]
  }
 ],
 "metadata": {
  "kernelspec": {
   "display_name": "f2021-s2022-r",
   "language": "R",
   "name": "tdm-brown-scratch-f2021-s2022-r"
  },
  "language_info": {
   "codemirror_mode": "r",
   "file_extension": ".r",
   "mimetype": "text/x-r-source",
   "name": "R",
   "pygments_lexer": "r",
   "version": "4.0.0"
  }
 },
 "nbformat": 4,
 "nbformat_minor": 5
}
