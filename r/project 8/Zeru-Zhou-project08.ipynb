{
 "cells": [
  {
   "cell_type": "markdown",
   "id": "be02a957-7133-4d02-818e-fedeb3cecb05",
   "metadata": {},
   "source": [
    "# Project 8 -- Zeru Zhou"
   ]
  },
  {
   "cell_type": "markdown",
   "id": "a1228853-dd19-4ab2-89e0-0394d7d72de3",
   "metadata": {},
   "source": [
    "**TA Help:** NA\n",
    "\n",
    "\n",
    "    \n",
    "**Collaboration:** NA\n",
    "    \n",
    "- get help from Dr. Ward's video"
   ]
  },
  {
   "cell_type": "markdown",
   "id": "6180e742-8e39-4698-98ff-5b00c8cf8ea0",
   "metadata": {},
   "source": [
    "## Question 1"
   ]
  },
  {
   "cell_type": "code",
   "execution_count": 1,
   "id": "49445606-d363-41b4-b479-e319a9a84c01",
   "metadata": {},
   "outputs": [],
   "source": [
    "library(data.table)"
   ]
  },
  {
   "cell_type": "code",
   "execution_count": 2,
   "id": "a2b246cf-b1af-4644-9958-1d10c5a12f09",
   "metadata": {},
   "outputs": [],
   "source": [
    "interactions <- fread(\"/depot/datamine/data/goodreads/csv/interactions_subset.csv\")"
   ]
  },
  {
   "cell_type": "code",
   "execution_count": 3,
   "id": "90b6a2be-ff53-40a2-8484-093ed2a62079",
   "metadata": {},
   "outputs": [
    {
     "data": {
      "text/html": [
       "0.0707964601769911"
      ],
      "text/latex": [
       "0.0707964601769911"
      ],
      "text/markdown": [
       "0.0707964601769911"
      ],
      "text/plain": [
       "[1] 0.07079646"
      ]
     },
     "metadata": {},
     "output_type": "display_data"
    }
   ],
   "source": [
    "# A function that, given a string (userID) and a value (min_rating) returns a value (probability_of_reviewing).\n",
    "get_probability_of_review <- function(interactions_dataset, userID, min_rating) {\n",
    "        # Filtering the dataset and keep data that has user_id equals to the given userID. Name the filtered dataset user_data.\n",
    "        user_data <- subset(interactions_dataset, user_id == userID)\n",
    "\n",
    "        # Filtering the dataset once more to keep data that has is_read column equals to 1. Name the filtered dataset read_user_data.\n",
    "        read_user_data <- subset(user_data, is_read == 1)\n",
    "\n",
    "        # Filtering the dataset once more to keep data that has rating column more than the given min_rating. Name the filtered dataset read_user_min_rating_data.\n",
    "        read_user_min_rating_data <- subset(read_user_data, rating >= min_rating)\n",
    "\n",
    "        # Define probability_of_reviewing as the mean of the is_reviewed column in dataset read_user_min_rating_data.\n",
    "        probability_of_reviewing <- mean(read_user_min_rating_data$is_reviewed)\n",
    "\n",
    "        # Return the result\n",
    "        return(probability_of_reviewing)\n",
    "}\n",
    "\n",
    "get_probability_of_review(interactions_dataset = interactions, userID = 5000, min_rating = 3)"
   ]
  },
  {
   "cell_type": "markdown",
   "id": "b456e57c-4a12-464b-999a-ef2df5af80c1",
   "metadata": {},
   "source": [
    "This function takes interactions_dataset, userID, and min_rating as inputs, and probability of reviewing as output. It uses userID, and min_rating to filter the dataset, then calculating the mean of is_reviewed column of the filtered dataset. It has 3 arguments: interactions_dataset, userID, and min_rating."
   ]
  },
  {
   "cell_type": "markdown",
   "id": "fc601975-35ed-4680-a4e1-0273ee3cc047",
   "metadata": {},
   "source": [
    "## Question 2"
   ]
  },
  {
   "cell_type": "code",
   "execution_count": 4,
   "id": "a16336a1-1ef0-41e8-bc7c-49387db27497",
   "metadata": {},
   "outputs": [],
   "source": [
    "get_probability_of_review <- function(interactions_dataset, userID, min_rating=0) {\n",
    "        # Filtering the dataset and keep data that has user_id equals to the given userID. Name the filtered dataset user_data.\n",
    "        user_data <- subset(interactions_dataset, user_id == userID)\n",
    "\n",
    "        # Filtering the dataset once more to keep data that has is_read column equals to 1. Name the filtered dataset read_user_data.\n",
    "        read_user_data <- subset(user_data, is_read == 1)\n",
    "\n",
    "        # Filtering the dataset once more to keep data that has rating column more than the given min_rating. Name the filtered dataset read_user_min_rating_data.\n",
    "        read_user_min_rating_data <- subset(read_user_data, rating >= min_rating)\n",
    "\n",
    "        # Define probability_of_reviewing as the mean of the is_reviewed column in dataset read_user_min_rating_data.\n",
    "        probability_of_reviewing <- mean(read_user_min_rating_data$is_reviewed)\n",
    "\n",
    "        # Return the result\n",
    "        return(probability_of_reviewing)\n",
    "}"
   ]
  },
  {
   "cell_type": "code",
   "execution_count": 5,
   "id": "a08aeec0-7170-4e89-bc44-18c550ec6e30",
   "metadata": {},
   "outputs": [
    {
     "data": {
      "text/html": [
       "0.0816326530612245"
      ],
      "text/latex": [
       "0.0816326530612245"
      ],
      "text/markdown": [
       "0.0816326530612245"
      ],
      "text/plain": [
       "[1] 0.08163265"
      ]
     },
     "metadata": {},
     "output_type": "display_data"
    }
   ],
   "source": [
    "get_probability_of_review(interactions_dataset = interactions, userID = 5000)"
   ]
  },
  {
   "cell_type": "code",
   "execution_count": 6,
   "id": "f3e1ff2c-2087-4419-adfe-5f2ecf2fbe1e",
   "metadata": {},
   "outputs": [
    {
     "data": {
      "text/html": [
       "0.0816326530612245"
      ],
      "text/latex": [
       "0.0816326530612245"
      ],
      "text/markdown": [
       "0.0816326530612245"
      ],
      "text/plain": [
       "[1] 0.08163265"
      ]
     },
     "metadata": {},
     "output_type": "display_data"
    }
   ],
   "source": [
    "get_probability_of_review(userID = 5000,interactions_dataset = interactions)"
   ]
  },
  {
   "cell_type": "code",
   "execution_count": 7,
   "id": "fbbcc2fd-aff8-4c97-9539-7fcbd76d0d7a",
   "metadata": {},
   "outputs": [
    {
     "data": {
      "text/html": [
       "0.0816326530612245"
      ],
      "text/latex": [
       "0.0816326530612245"
      ],
      "text/markdown": [
       "0.0816326530612245"
      ],
      "text/plain": [
       "[1] 0.08163265"
      ]
     },
     "metadata": {},
     "output_type": "display_data"
    }
   ],
   "source": [
    "get_probability_of_review(interactions, 5000)"
   ]
  },
  {
   "cell_type": "markdown",
   "id": "14dc22d4-ddc3-41cc-a91a-cb0025bc0c80",
   "metadata": {},
   "source": [
    "Here is modified: min_rating=0 at the start of the function. "
   ]
  },
  {
   "cell_type": "markdown",
   "id": "8e586edd-ff26-4ce2-8f6b-2424b26f2929",
   "metadata": {},
   "source": [
    "## Question 3"
   ]
  },
  {
   "cell_type": "code",
   "execution_count": 5,
   "id": "bbe0f40d-9655-4653-9ca8-886bdb61cb91",
   "metadata": {},
   "outputs": [],
   "source": [
    "get_probability_of_review <- function(interactions_dataset, userID, min_rating=0) {\n",
    "        # Filtering the dataset \n",
    "        read_user_min_rating_data <- subset(interactions_dataset, (user_id == userID) & (is_read == 1) & (rating >= min_rating))\n",
    "\n",
    "        # Define probability_of_reviewing as the mean of the is_reviewed column in dataset read_user_min_rating_data.\n",
    "        probability_of_reviewing <- mean(read_user_min_rating_data$is_reviewed)\n",
    "\n",
    "        # Return the result\n",
    "        return(probability_of_reviewing)\n",
    "}"
   ]
  },
  {
   "cell_type": "code",
   "execution_count": 9,
   "id": "94e6fc09-3731-40b1-a32d-fdeee2a1d2ce",
   "metadata": {},
   "outputs": [
    {
     "data": {
      "text/html": [
       "0.0816326530612245"
      ],
      "text/latex": [
       "0.0816326530612245"
      ],
      "text/markdown": [
       "0.0816326530612245"
      ],
      "text/plain": [
       "[1] 0.08163265"
      ]
     },
     "metadata": {},
     "output_type": "display_data"
    }
   ],
   "source": [
    "get_probability_of_review(interactions, 5000)"
   ]
  },
  {
   "cell_type": "markdown",
   "id": "47c6229f-35f7-400c-8366-c442baa5cf47",
   "metadata": {},
   "source": [
    "Code is reduced above. Now we only use 1 subset."
   ]
  },
  {
   "cell_type": "markdown",
   "id": "da22f29c-d245-4d2b-9fc1-ca14cb6087d9",
   "metadata": {},
   "source": [
    "## Question 4"
   ]
  },
  {
   "cell_type": "code",
   "execution_count": 10,
   "id": "8cffc767-d1c8-4d64-b7dc-f0d2ee8a80d1",
   "metadata": {},
   "outputs": [
    {
     "ename": "ERROR",
     "evalue": "Error in head(read_user_min_rating_data): object 'read_user_min_rating_data' not found\n",
     "output_type": "error",
     "traceback": [
      "Error in head(read_user_min_rating_data): object 'read_user_min_rating_data' not found\nTraceback:\n",
      "1. head(read_user_min_rating_data)"
     ]
    }
   ],
   "source": [
    "head(read_user_min_rating_data)"
   ]
  },
  {
   "cell_type": "markdown",
   "id": "0d552245-b4d6-474a-9cc9-fa7b8e674d55",
   "metadata": {},
   "source": [
    "There is an error that there do not exist something called \"read_user_min_rating_data\", so there comes an error when running head function on it. This is because \"read_user_min_rating_data\" is an dataset we defined that only make sense inside our \"get_probability_of_review\" function. That is, it could not be used or detected outside \"get_probability_of_review\" function, so there is an error when directly use it outside the function \"get_probability_of_review\"."
   ]
  },
  {
   "cell_type": "markdown",
   "id": "88c9cdac-3e92-498f-83fa-e089bfc44ac8",
   "metadata": {},
   "source": [
    "## Question 5"
   ]
  },
  {
   "cell_type": "code",
   "execution_count": 16,
   "id": "d370d7c9-06db-42b9-b75f-240481a5c491",
   "metadata": {},
   "outputs": [
    {
     "data": {
      "image/png": "[encoded data removed]",
      "text/plain": [
       "plot without title"
      ]
     },
     "metadata": {
      "image/png": {
       "height": 420,
       "width": 420
      }
     },
     "output_type": "display_data"
    }
   ],
   "source": [
    "boxplot(interactions$rating)"
   ]
  },
  {
   "cell_type": "code",
   "execution_count": 4,
   "id": "08f9b4ae-442c-427e-9cdc-f457521977a2",
   "metadata": {},
   "outputs": [],
   "source": [
    "users <- sample(interactions$user_id, 10)"
   ]
  },
  {
   "cell_type": "code",
   "execution_count": 5,
   "id": "e684b505-b36c-4b83-b216-a270f7edcec9",
   "metadata": {},
   "outputs": [
    {
     "data": {
      "text/html": [
       "<ol class=list-inline>\n",
       "\t<li>115826</li>\n",
       "\t<li>72191</li>\n",
       "\t<li>198769</li>\n",
       "\t<li>51969</li>\n",
       "\t<li>141041</li>\n",
       "\t<li>89743</li>\n",
       "\t<li>102417</li>\n",
       "\t<li>56922</li>\n",
       "\t<li>133891</li>\n",
       "\t<li>71596</li>\n",
       "</ol>\n"
      ],
      "text/latex": [
       "\\begin{enumerate*}\n",
       "\\item 115826\n",
       "\\item 72191\n",
       "\\item 198769\n",
       "\\item 51969\n",
       "\\item 141041\n",
       "\\item 89743\n",
       "\\item 102417\n",
       "\\item 56922\n",
       "\\item 133891\n",
       "\\item 71596\n",
       "\\end{enumerate*}\n"
      ],
      "text/markdown": [
       "1. 115826\n",
       "2. 72191\n",
       "3. 198769\n",
       "4. 51969\n",
       "5. 141041\n",
       "6. 89743\n",
       "7. 102417\n",
       "8. 56922\n",
       "9. 133891\n",
       "10. 71596\n",
       "\n",
       "\n"
      ],
      "text/plain": [
       " [1] 115826  72191 198769  51969 141041  89743 102417  56922 133891  71596"
      ]
     },
     "metadata": {},
     "output_type": "display_data"
    }
   ],
   "source": [
    "users"
   ]
  },
  {
   "cell_type": "code",
   "execution_count": 10,
   "id": "63659cd1-a16d-42e6-a6fa-66174b76fc31",
   "metadata": {},
   "outputs": [],
   "source": [
    "prob_review <- sapply(users, function(m) get_probability_of_review(interactions_dataset=interactions, userID=m, min_rating=0))"
   ]
  },
  {
   "cell_type": "code",
   "execution_count": 11,
   "id": "7a3609ec-3c94-4756-ba1d-b705cc0d6753",
   "metadata": {},
   "outputs": [
    {
     "data": {
      "text/html": [
       "<ol class=list-inline>\n",
       "\t<li>0.365384615384615</li>\n",
       "\t<li>0.165584415584416</li>\n",
       "\t<li>0.255952380952381</li>\n",
       "\t<li>0.00581395348837209</li>\n",
       "\t<li>0.0259179265658747</li>\n",
       "\t<li>0.303225806451613</li>\n",
       "\t<li>0.0994897959183673</li>\n",
       "\t<li>0.0541237113402062</li>\n",
       "\t<li>0.61106426041491</li>\n",
       "\t<li>0.038961038961039</li>\n",
       "</ol>\n"
      ],
      "text/latex": [
       "\\begin{enumerate*}\n",
       "\\item 0.365384615384615\n",
       "\\item 0.165584415584416\n",
       "\\item 0.255952380952381\n",
       "\\item 0.00581395348837209\n",
       "\\item 0.0259179265658747\n",
       "\\item 0.303225806451613\n",
       "\\item 0.0994897959183673\n",
       "\\item 0.0541237113402062\n",
       "\\item 0.61106426041491\n",
       "\\item 0.038961038961039\n",
       "\\end{enumerate*}\n"
      ],
      "text/markdown": [
       "1. 0.365384615384615\n",
       "2. 0.165584415584416\n",
       "3. 0.255952380952381\n",
       "4. 0.00581395348837209\n",
       "5. 0.0259179265658747\n",
       "6. 0.303225806451613\n",
       "7. 0.0994897959183673\n",
       "8. 0.0541237113402062\n",
       "9. 0.61106426041491\n",
       "10. 0.038961038961039\n",
       "\n",
       "\n"
      ],
      "text/plain": [
       " [1] 0.365384615 0.165584416 0.255952381 0.005813953 0.025917927 0.303225806\n",
       " [7] 0.099489796 0.054123711 0.611064260 0.038961039"
      ]
     },
     "metadata": {},
     "output_type": "display_data"
    }
   ],
   "source": [
    "prob_review"
   ]
  },
  {
   "cell_type": "markdown",
   "id": "9fbf00fb-2418-460f-ae94-2a32b0c28952",
   "metadata": {},
   "source": [
    "The results are listed above. I pick 0 as the specific minimum rating value because according to boxplot I drew, there are many data that has rating value of 0. If we choose another number greater than 0 then it should not be called \"minimum\" rating value."
   ]
  },
  {
   "cell_type": "markdown",
   "id": "d282d17c-6296-4702-baa5-f9689c24fde6",
   "metadata": {},
   "source": [
    "## Question 6"
   ]
  },
  {
   "cell_type": "code",
   "execution_count": 12,
   "id": "908e986f-1aaa-4c79-a4dc-b043c9cda829",
   "metadata": {},
   "outputs": [],
   "source": [
    "prob_review1 <- sapply(users, function(m) get_probability_of_review(interactions_dataset=interactions, userID=m, min_rating=1))"
   ]
  },
  {
   "cell_type": "code",
   "execution_count": 13,
   "id": "2a550110-5cd9-4f60-8412-d26ea8eb02ca",
   "metadata": {},
   "outputs": [
    {
     "data": {
      "text/html": [
       "<ol class=list-inline>\n",
       "\t<li>0.428571428571429</li>\n",
       "\t<li>0.168316831683168</li>\n",
       "\t<li>0.260869565217391</li>\n",
       "\t<li>0.00588235294117647</li>\n",
       "\t<li>0.0272108843537415</li>\n",
       "\t<li>0.350746268656716</li>\n",
       "\t<li>0.101167315175097</li>\n",
       "\t<li>0.0589970501474926</li>\n",
       "\t<li>0.615397688647179</li>\n",
       "\t<li>0.0401785714285714</li>\n",
       "</ol>\n"
      ],
      "text/latex": [
       "\\begin{enumerate*}\n",
       "\\item 0.428571428571429\n",
       "\\item 0.168316831683168\n",
       "\\item 0.260869565217391\n",
       "\\item 0.00588235294117647\n",
       "\\item 0.0272108843537415\n",
       "\\item 0.350746268656716\n",
       "\\item 0.101167315175097\n",
       "\\item 0.0589970501474926\n",
       "\\item 0.615397688647179\n",
       "\\item 0.0401785714285714\n",
       "\\end{enumerate*}\n"
      ],
      "text/markdown": [
       "1. 0.428571428571429\n",
       "2. 0.168316831683168\n",
       "3. 0.260869565217391\n",
       "4. 0.00588235294117647\n",
       "5. 0.0272108843537415\n",
       "6. 0.350746268656716\n",
       "7. 0.101167315175097\n",
       "8. 0.0589970501474926\n",
       "9. 0.615397688647179\n",
       "10. 0.0401785714285714\n",
       "\n",
       "\n"
      ],
      "text/plain": [
       " [1] 0.428571429 0.168316832 0.260869565 0.005882353 0.027210884 0.350746269\n",
       " [7] 0.101167315 0.058997050 0.615397689 0.040178571"
      ]
     },
     "metadata": {},
     "output_type": "display_data"
    }
   ],
   "source": [
    "prob_review1"
   ]
  },
  {
   "cell_type": "code",
   "execution_count": 14,
   "id": "181c1898-d19e-4b08-b243-185c8beef4ef",
   "metadata": {},
   "outputs": [
    {
     "data": {
      "image/png": "[encoded data removed]",
      "text/plain": [
       "plot without title"
      ]
     },
     "metadata": {
      "image/png": {
       "height": 420,
       "width": 420
      }
     },
     "output_type": "display_data"
    }
   ],
   "source": [
    "plot(prob_review, prob_review1)"
   ]
  },
  {
   "cell_type": "markdown",
   "id": "5c3ed220-ee45-4a51-85b4-fd8db4f19696",
   "metadata": {},
   "source": [
    "For each of the 10 users, the horizontal axis represents probability when min_rating is 0. The vertical axis represents the probability when min_rating is 1. As we can see, the value of probability is almost the same except for a couple of users with probability between 0.3 and 0.5. Hence, changing the value of min_rating affects the outcome of probability, but maybe slightly as my result above."
   ]
  },
  {
   "cell_type": "markdown",
   "id": "f76442d6-d02e-4f26-b9d6-c3183e1d6929",
   "metadata": {},
   "source": [
    "## Pledge\n",
    "\n",
    "By submitting this work I hereby pledge that this is my own, personal work. I've acknowledged in the designated place at the top of this file all sources that I used to complete said work, including but not limited to: online resources, books, and electronic communications. I've noted all collaboration with fellow students and/or TA's. I did not copy or plagiarize another's work.\n",
    "\n",
    "> As a Boilermaker pursuing academic excellence, I pledge to be honest and true in all that I do. Accountable together – We are Purdue."
   ]
  }
 ],
 "metadata": {
  "kernelspec": {
   "display_name": "f2021-s2022-r",
   "language": "R",
   "name": "tdm-brown-scratch-f2021-s2022-r"
  },
  "language_info": {
   "codemirror_mode": "r",
   "file_extension": ".r",
   "mimetype": "text/x-r-source",
   "name": "R",
   "pygments_lexer": "r",
   "version": "4.0.0"
  }
 },
 "nbformat": 4,
 "nbformat_minor": 5
}
