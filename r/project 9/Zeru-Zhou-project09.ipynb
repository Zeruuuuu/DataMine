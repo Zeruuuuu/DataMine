{
 "cells": [
  {
   "cell_type": "markdown",
   "id": "be02a957-7133-4d02-818e-fedeb3cecb05",
   "metadata": {},
   "source": [
    "# Project 9 -- Zeru Zhou"
   ]
  },
  {
   "cell_type": "markdown",
   "id": "a1228853-dd19-4ab2-89e0-0394d7d72de3",
   "metadata": {},
   "source": [
    "**TA Help:** NA\n",
    "\n",
    "\n",
    "    \n",
    "**Collaboration:** NA\n",
    "    \n",
    "- Get help from Dr. Ward's video"
   ]
  },
  {
   "cell_type": "markdown",
   "id": "6180e742-8e39-4698-98ff-5b00c8cf8ea0",
   "metadata": {},
   "source": [
    "## Question 1"
   ]
  },
  {
   "cell_type": "code",
   "execution_count": 5,
   "id": "49445606-d363-41b4-b479-e319a9a84c01",
   "metadata": {},
   "outputs": [],
   "source": [
    "benfords_law <- function(digit) {log((digit+1)/digit)/log(10)}"
   ]
  },
  {
   "cell_type": "code",
   "execution_count": 6,
   "id": "a997f47b-c10e-46ee-a4aa-0177cc37dfd4",
   "metadata": {},
   "outputs": [
    {
     "data": {
      "text/html": [
       "<ol class=list-inline>\n",
       "\t<li>0.301029995663981</li>\n",
       "\t<li>0.176091259055681</li>\n",
       "\t<li>0.1249387366083</li>\n",
       "\t<li>0.0969100130080564</li>\n",
       "\t<li>0.0791812460476248</li>\n",
       "\t<li>0.0669467896306132</li>\n",
       "\t<li>0.0579919469776867</li>\n",
       "\t<li>0.0511525224473813</li>\n",
       "\t<li>0.0457574905606751</li>\n",
       "</ol>\n"
      ],
      "text/latex": [
       "\\begin{enumerate*}\n",
       "\\item 0.301029995663981\n",
       "\\item 0.176091259055681\n",
       "\\item 0.1249387366083\n",
       "\\item 0.0969100130080564\n",
       "\\item 0.0791812460476248\n",
       "\\item 0.0669467896306132\n",
       "\\item 0.0579919469776867\n",
       "\\item 0.0511525224473813\n",
       "\\item 0.0457574905606751\n",
       "\\end{enumerate*}\n"
      ],
      "text/markdown": [
       "1. 0.301029995663981\n",
       "2. 0.176091259055681\n",
       "3. 0.1249387366083\n",
       "4. 0.0969100130080564\n",
       "5. 0.0791812460476248\n",
       "6. 0.0669467896306132\n",
       "7. 0.0579919469776867\n",
       "8. 0.0511525224473813\n",
       "9. 0.0457574905606751\n",
       "\n",
       "\n"
      ],
      "text/plain": [
       "[1] 0.30103000 0.17609126 0.12493874 0.09691001 0.07918125 0.06694679 0.05799195\n",
       "[8] 0.05115252 0.04575749"
      ]
     },
     "metadata": {},
     "output_type": "display_data"
    }
   ],
   "source": [
    "sapply(1:9, benfords_law)"
   ]
  },
  {
   "cell_type": "code",
   "execution_count": 7,
   "id": "0da07d85-898c-4546-be55-e76bc3b952d1",
   "metadata": {},
   "outputs": [
    {
     "data": {
      "text/html": [
       "0.0579919469776867"
      ],
      "text/latex": [
       "0.0579919469776867"
      ],
      "text/markdown": [
       "0.0579919469776867"
      ],
      "text/plain": [
       "[1] 0.05799195"
      ]
     },
     "metadata": {},
     "output_type": "display_data"
    }
   ],
   "source": [
    "benfords_law(7)"
   ]
  },
  {
   "cell_type": "markdown",
   "id": "b456e57c-4a12-464b-999a-ef2df5af80c1",
   "metadata": {},
   "source": [
    "Benfords_law is created as a function. When digit is 7, the value returned is 0.05799."
   ]
  },
  {
   "cell_type": "markdown",
   "id": "fc601975-35ed-4680-a4e1-0273ee3cc047",
   "metadata": {},
   "source": [
    "## Question 2"
   ]
  },
  {
   "cell_type": "code",
   "execution_count": 8,
   "id": "a16336a1-1ef0-41e8-bc7c-49387db27497",
   "metadata": {},
   "outputs": [],
   "source": [
    "benfords_law <- function(digit) {\n",
    "    if ((digit < 1) | (digit > 9)) {stop(\"digit is out of range\")}\n",
    "    log((digit+1)/digit)/log(10)\n",
    "\n",
    "}"
   ]
  },
  {
   "cell_type": "code",
   "execution_count": 10,
   "id": "e3d1bd80-0c9f-43de-b040-1dfe5d1e8c2f",
   "metadata": {},
   "outputs": [
    {
     "ename": "ERROR",
     "evalue": "Error in benfords_law(0): digit is out of range\n",
     "output_type": "error",
     "traceback": [
      "Error in benfords_law(0): digit is out of range\nTraceback:\n",
      "1. benfords_law(0)",
      "2. stop(\"digit is out of range\")   # at line 2 of file <text>"
     ]
    }
   ],
   "source": [
    "benfords_law(0)"
   ]
  },
  {
   "cell_type": "markdown",
   "id": "14dc22d4-ddc3-41cc-a91a-cb0025bc0c80",
   "metadata": {},
   "source": [
    "Error catching statement is added. When running benfords_law(0), the error message shows up."
   ]
  },
  {
   "cell_type": "markdown",
   "id": "8e586edd-ff26-4ce2-8f6b-2424b26f2929",
   "metadata": {},
   "source": [
    "## Question 3"
   ]
  },
  {
   "cell_type": "code",
   "execution_count": 11,
   "id": "bbe0f40d-9655-4653-9ca8-886bdb61cb91",
   "metadata": {},
   "outputs": [],
   "source": [
    "benfords_law_old <- function(digit) {\n",
    "    if ((digit < 1) | (digit > 9)) {stop(\"digit is out of range\")}\n",
    "    log((digit+1)/digit)/log(10)\n",
    "\n",
    "}"
   ]
  },
  {
   "cell_type": "code",
   "execution_count": 12,
   "id": "cc7777e5-55af-4f76-a492-503d02726f03",
   "metadata": {},
   "outputs": [],
   "source": [
    "benfords_law <- function(v) {\n",
    "    sapply(v, benfords_law_old)\n",
    "}"
   ]
  },
  {
   "cell_type": "code",
   "execution_count": 13,
   "id": "6235cb52-6c7c-48b8-be3e-6dc57cb7515c",
   "metadata": {},
   "outputs": [
    {
     "ename": "ERROR",
     "evalue": "Error in FUN(X[[i]], ...): digit is out of range\n",
     "output_type": "error",
     "traceback": [
      "Error in FUN(X[[i]], ...): digit is out of range\nTraceback:\n",
      "1. benfords_law(0:5)",
      "2. sapply(v, benfords_law_old)   # at line 2 of file <text>",
      "3. lapply(X = X, FUN = FUN, ...)",
      "4. FUN(X[[i]], ...)",
      "5. stop(\"digit is out of range\")   # at line 2 of file <text>"
     ]
    }
   ],
   "source": [
    "benfords_law(0:5)"
   ]
  },
  {
   "cell_type": "code",
   "execution_count": 14,
   "id": "16fb4b5a-9af5-4d8d-9ae7-46101cbfe4d0",
   "metadata": {},
   "outputs": [
    {
     "data": {
      "text/html": [
       "<ol class=list-inline>\n",
       "\t<li>0.301029995663981</li>\n",
       "\t<li>0.176091259055681</li>\n",
       "\t<li>0.1249387366083</li>\n",
       "\t<li>0.0969100130080564</li>\n",
       "\t<li>0.0791812460476248</li>\n",
       "\t<li>0.0669467896306132</li>\n",
       "</ol>\n"
      ],
      "text/latex": [
       "\\begin{enumerate*}\n",
       "\\item 0.301029995663981\n",
       "\\item 0.176091259055681\n",
       "\\item 0.1249387366083\n",
       "\\item 0.0969100130080564\n",
       "\\item 0.0791812460476248\n",
       "\\item 0.0669467896306132\n",
       "\\end{enumerate*}\n"
      ],
      "text/markdown": [
       "1. 0.301029995663981\n",
       "2. 0.176091259055681\n",
       "3. 0.1249387366083\n",
       "4. 0.0969100130080564\n",
       "5. 0.0791812460476248\n",
       "6. 0.0669467896306132\n",
       "\n",
       "\n"
      ],
      "text/plain": [
       "[1] 0.30103000 0.17609126 0.12493874 0.09691001 0.07918125 0.06694679"
      ]
     },
     "metadata": {},
     "output_type": "display_data"
    }
   ],
   "source": [
    "benfords_law(1:6)"
   ]
  },
  {
   "cell_type": "markdown",
   "id": "47c6229f-35f7-400c-8366-c442baa5cf47",
   "metadata": {},
   "source": [
    "Here we see we vectorized the function by sapply function. Results are listed above."
   ]
  },
  {
   "cell_type": "markdown",
   "id": "da22f29c-d245-4d2b-9fc1-ca14cb6087d9",
   "metadata": {},
   "source": [
    "## Question 4"
   ]
  },
  {
   "cell_type": "code",
   "execution_count": 19,
   "id": "8cffc767-d1c8-4d64-b7dc-f0d2ee8a80d1",
   "metadata": {},
   "outputs": [
    {
     "data": {
      "text/html": [
       "<ol class=list-inline>\n",
       "\t<li>0.301029995663981</li>\n",
       "\t<li>0.176091259055681</li>\n",
       "\t<li>0.1249387366083</li>\n",
       "\t<li>0.0969100130080564</li>\n",
       "\t<li>0.0791812460476248</li>\n",
       "\t<li>0.0669467896306132</li>\n",
       "\t<li>0.0579919469776867</li>\n",
       "\t<li>0.0511525224473813</li>\n",
       "\t<li>0.0457574905606751</li>\n",
       "</ol>\n"
      ],
      "text/latex": [
       "\\begin{enumerate*}\n",
       "\\item 0.301029995663981\n",
       "\\item 0.176091259055681\n",
       "\\item 0.1249387366083\n",
       "\\item 0.0969100130080564\n",
       "\\item 0.0791812460476248\n",
       "\\item 0.0669467896306132\n",
       "\\item 0.0579919469776867\n",
       "\\item 0.0511525224473813\n",
       "\\item 0.0457574905606751\n",
       "\\end{enumerate*}\n"
      ],
      "text/markdown": [
       "1. 0.301029995663981\n",
       "2. 0.176091259055681\n",
       "3. 0.1249387366083\n",
       "4. 0.0969100130080564\n",
       "5. 0.0791812460476248\n",
       "6. 0.0669467896306132\n",
       "7. 0.0579919469776867\n",
       "8. 0.0511525224473813\n",
       "9. 0.0457574905606751\n",
       "\n",
       "\n"
      ],
      "text/plain": [
       "[1] 0.30103000 0.17609126 0.12493874 0.09691001 0.07918125 0.06694679 0.05799195\n",
       "[8] 0.05115252 0.04575749"
      ]
     },
     "metadata": {},
     "output_type": "display_data"
    }
   ],
   "source": [
    "benfords_law(1:9)"
   ]
  },
  {
   "cell_type": "code",
   "execution_count": 31,
   "id": "4058400b-b293-45c2-b432-85629b5eb0b1",
   "metadata": {},
   "outputs": [
    {
     "data": {
      "image/png": "[encoded data removed]",
      "text/plain": [
       "Plot with title “Benford’s law in lineplot”"
      ]
     },
     "metadata": {
      "image/png": {
       "height": 420,
       "width": 420
      }
     },
     "output_type": "display_data"
    }
   ],
   "source": [
    "plot(benfords_law(1:9), xlab=\"digits\", main=\"Benford’s law in lineplot\", type=\"b\")"
   ]
  },
  {
   "cell_type": "code",
   "execution_count": 30,
   "id": "63338038-c80c-41fa-8150-38bfbe4c9e78",
   "metadata": {},
   "outputs": [
    {
     "data": {
      "image/png": "[encoded data removed]",
      "text/plain": [
       "Plot with title “Benford’s law in Barplot”"
      ]
     },
     "metadata": {
      "image/png": {
       "height": 420,
       "width": 420
      }
     },
     "output_type": "display_data"
    }
   ],
   "source": [
    "barplot(benfords_law(1:9), main=\"Benford’s law in Barplot\", xlab=\"digits\", names.arg=c(\"1\",\"2\",\"3\",\"4\",\"5\",\"6\",\"7\",\"8\",\"9\"))"
   ]
  },
  {
   "cell_type": "markdown",
   "id": "0d552245-b4d6-474a-9cc9-fa7b8e674d55",
   "metadata": {},
   "source": [
    "Here are the lineplot and barplot of the benford's law of all digits."
   ]
  },
  {
   "cell_type": "markdown",
   "id": "88c9cdac-3e92-498f-83fa-e089bfc44ac8",
   "metadata": {},
   "source": [
    "## Question 5"
   ]
  },
  {
   "cell_type": "code",
   "execution_count": 1,
   "id": "d370d7c9-06db-42b9-b75f-240481a5c491",
   "metadata": {},
   "outputs": [],
   "source": [
    "get_starting_digit <- function(transaction_vector) {\n",
    "    as.numeric(substr(transaction_vector,1,1))\n",
    "}"
   ]
  },
  {
   "cell_type": "code",
   "execution_count": 2,
   "id": "53bbfd07-98c6-4240-9f71-c2fb20dbe7d4",
   "metadata": {},
   "outputs": [
    {
     "data": {
      "text/html": [
       "<ol class=list-inline>\n",
       "\t<li>1</li>\n",
       "\t<li>4</li>\n",
       "\t<li>5</li>\n",
       "</ol>\n"
      ],
      "text/latex": [
       "\\begin{enumerate*}\n",
       "\\item 1\n",
       "\\item 4\n",
       "\\item 5\n",
       "\\end{enumerate*}\n"
      ],
      "text/markdown": [
       "1. 1\n",
       "2. 4\n",
       "3. 5\n",
       "\n",
       "\n"
      ],
      "text/plain": [
       "[1] 1 4 5"
      ]
     },
     "metadata": {},
     "output_type": "display_data"
    }
   ],
   "source": [
    "get_starting_digit(c(10,400,535))"
   ]
  },
  {
   "cell_type": "code",
   "execution_count": 3,
   "id": "ed32d232-03e1-4861-bfba-1811b7ef4e13",
   "metadata": {},
   "outputs": [
    {
     "name": "stdout",
     "output_type": "stream",
     "text": [
      " num [1:5] 1 2 5 6 1\n"
     ]
    }
   ],
   "source": [
    "str(get_starting_digit(c(100,2,50,689,1)))"
   ]
  },
  {
   "cell_type": "markdown",
   "id": "9fbf00fb-2418-460f-ae94-2a32b0c28952",
   "metadata": {},
   "source": [
    "Here I use substr function to get the first digit and as.numeric function to convert it as numeric value. "
   ]
  },
  {
   "cell_type": "markdown",
   "id": "f76442d6-d02e-4f26-b9d6-c3183e1d6929",
   "metadata": {},
   "source": [
    "## Pledge\n",
    "\n",
    "By submitting this work I hereby pledge that this is my own, personal work. I've acknowledged in the designated place at the top of this file all sources that I used to complete said work, including but not limited to: online resources, books, and electronic communications. I've noted all collaboration with fellow students and/or TA's. I did not copy or plagiarize another's work.\n",
    "\n",
    "> As a Boilermaker pursuing academic excellence, I pledge to be honest and true in all that I do. Accountable together – We are Purdue."
   ]
  }
 ],
 "metadata": {
  "kernelspec": {
   "display_name": "f2021-s2022-r",
   "language": "R",
   "name": "tdm-brown-scratch-f2021-s2022-r"
  },
  "language_info": {
   "codemirror_mode": "r",
   "file_extension": ".r",
   "mimetype": "text/x-r-source",
   "name": "R",
   "pygments_lexer": "r",
   "version": "4.0.0"
  }
 },
 "nbformat": 4,
 "nbformat_minor": 5
}
