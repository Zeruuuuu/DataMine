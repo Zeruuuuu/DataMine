{
 "cells": [
  {
   "cell_type": "markdown",
   "id": "be02a957-7133-4d02-818e-fedeb3cecb05",
   "metadata": {},
   "source": [
    "# Project 3 -- Zeru Zhou"
   ]
  },
  {
   "cell_type": "markdown",
   "id": "a1228853-dd19-4ab2-89e0-0394d7d72de3",
   "metadata": {},
   "source": [
    "**TA Help:** NA\n",
    "\n",
    "\n",
    "    \n",
    "**Collaboration:** NA\n",
    "    \n",
    "- Get help at piazza\n",
    "- Get help from videos posted by Dr. Ward"
   ]
  },
  {
   "cell_type": "markdown",
   "id": "6180e742-8e39-4698-98ff-5b00c8cf8ea0",
   "metadata": {},
   "source": [
    "## Question 1"
   ]
  },
  {
   "cell_type": "code",
   "execution_count": 1,
   "id": "49445606-d363-41b4-b479-e319a9a84c01",
   "metadata": {},
   "outputs": [
    {
     "data": {
      "text/html": [
       "<ol class=list-inline>\n",
       "\t<li>'athlete_events.csv'</li>\n",
       "\t<li>'regions.csv'</li>\n",
       "</ol>\n"
      ],
      "text/latex": [
       "\\begin{enumerate*}\n",
       "\\item 'athlete\\_events.csv'\n",
       "\\item 'regions.csv'\n",
       "\\end{enumerate*}\n"
      ],
      "text/markdown": [
       "1. 'athlete_events.csv'\n",
       "2. 'regions.csv'\n",
       "\n",
       "\n"
      ],
      "text/plain": [
       "[1] \"athlete_events.csv\" \"regions.csv\"       "
      ]
     },
     "metadata": {},
     "output_type": "display_data"
    }
   ],
   "source": [
    "list.files(\"/depot/datamine/data/olympics\")"
   ]
  },
  {
   "cell_type": "code",
   "execution_count": 3,
   "id": "5bb13df3-c591-4b31-b775-5cef87cda5f7",
   "metadata": {},
   "outputs": [
    {
     "data": {
      "text/html": [
       "<ol class=list-inline>\n",
       "\t<li>271116</li>\n",
       "\t<li>15</li>\n",
       "</ol>\n"
      ],
      "text/latex": [
       "\\begin{enumerate*}\n",
       "\\item 271116\n",
       "\\item 15\n",
       "\\end{enumerate*}\n"
      ],
      "text/markdown": [
       "1. 271116\n",
       "2. 15\n",
       "\n",
       "\n"
      ],
      "text/plain": [
       "[1] 271116     15"
      ]
     },
     "metadata": {},
     "output_type": "display_data"
    }
   ],
   "source": [
    "dim(read.csv(\"/depot/datamine/data/olympics/athlete_events.csv\"))"
   ]
  },
  {
   "cell_type": "code",
   "execution_count": 4,
   "id": "992f4f36-de7f-4186-bdf6-2a7d0250b57c",
   "metadata": {},
   "outputs": [
    {
     "data": {
      "text/html": [
       "<ol class=list-inline>\n",
       "\t<li>230</li>\n",
       "\t<li>3</li>\n",
       "</ol>\n"
      ],
      "text/latex": [
       "\\begin{enumerate*}\n",
       "\\item 230\n",
       "\\item 3\n",
       "\\end{enumerate*}\n"
      ],
      "text/markdown": [
       "1. 230\n",
       "2. 3\n",
       "\n",
       "\n"
      ],
      "text/plain": [
       "[1] 230   3"
      ]
     },
     "metadata": {},
     "output_type": "display_data"
    }
   ],
   "source": [
    "dim(read.csv(\"/depot/datamine/data/olympics/regions.csv\"))"
   ]
  },
  {
   "cell_type": "code",
   "execution_count": 1,
   "id": "82559c27-7f14-457b-9a8d-bd902f734d3d",
   "metadata": {},
   "outputs": [],
   "source": [
    "olympics <- read.csv(\"/depot/datamine/data/olympics/athlete_events.csv\")"
   ]
  },
  {
   "cell_type": "code",
   "execution_count": 8,
   "id": "4115b1c0-d8b1-45b4-8610-a4823c2c1c53",
   "metadata": {},
   "outputs": [
    {
     "data": {
      "text/html": [
       "<ol class=list-inline>\n",
       "\t<li>271116</li>\n",
       "\t<li>15</li>\n",
       "</ol>\n"
      ],
      "text/latex": [
       "\\begin{enumerate*}\n",
       "\\item 271116\n",
       "\\item 15\n",
       "\\end{enumerate*}\n"
      ],
      "text/markdown": [
       "1. 271116\n",
       "2. 15\n",
       "\n",
       "\n"
      ],
      "text/plain": [
       "[1] 271116     15"
      ]
     },
     "metadata": {},
     "output_type": "display_data"
    }
   ],
   "source": [
    "dim(olympics)"
   ]
  },
  {
   "cell_type": "code",
   "execution_count": 6,
   "id": "4aef0706-7690-4429-8fb4-8b80aee2bc47",
   "metadata": {},
   "outputs": [
    {
     "data": {
      "text/html": [
       "<table>\n",
       "<caption>A data.frame: 6 x 15</caption>\n",
       "<thead>\n",
       "\t<tr><th scope=col>ID</th><th scope=col>Name</th><th scope=col>Sex</th><th scope=col>Age</th><th scope=col>Height</th><th scope=col>Weight</th><th scope=col>Team</th><th scope=col>NOC</th><th scope=col>Games</th><th scope=col>Year</th><th scope=col>Season</th><th scope=col>City</th><th scope=col>Sport</th><th scope=col>Event</th><th scope=col>Medal</th></tr>\n",
       "\t<tr><th scope=col>&lt;int&gt;</th><th scope=col>&lt;chr&gt;</th><th scope=col>&lt;chr&gt;</th><th scope=col>&lt;int&gt;</th><th scope=col>&lt;int&gt;</th><th scope=col>&lt;dbl&gt;</th><th scope=col>&lt;chr&gt;</th><th scope=col>&lt;chr&gt;</th><th scope=col>&lt;chr&gt;</th><th scope=col>&lt;int&gt;</th><th scope=col>&lt;chr&gt;</th><th scope=col>&lt;chr&gt;</th><th scope=col>&lt;chr&gt;</th><th scope=col>&lt;chr&gt;</th><th scope=col>&lt;chr&gt;</th></tr>\n",
       "</thead>\n",
       "<tbody>\n",
       "\t<tr><td>1</td><td>A Dijiang               </td><td>M</td><td>24</td><td>180</td><td>80</td><td>China         </td><td>CHN</td><td>1992 Summer</td><td>1992</td><td>Summer</td><td>Barcelona</td><td>Basketball   </td><td>Basketball Men's Basketball       </td><td>NA  </td></tr>\n",
       "\t<tr><td>2</td><td>A Lamusi                </td><td>M</td><td>23</td><td>170</td><td>60</td><td>China         </td><td>CHN</td><td>2012 Summer</td><td>2012</td><td>Summer</td><td>London   </td><td>Judo         </td><td>Judo Men's Extra-Lightweight      </td><td>NA  </td></tr>\n",
       "\t<tr><td>3</td><td>Gunnar Nielsen Aaby     </td><td>M</td><td>24</td><td> NA</td><td>NA</td><td>Denmark       </td><td>DEN</td><td>1920 Summer</td><td>1920</td><td>Summer</td><td>Antwerpen</td><td>Football     </td><td>Football Men's Football           </td><td>NA  </td></tr>\n",
       "\t<tr><td>4</td><td>Edgar Lindenau Aabye    </td><td>M</td><td>34</td><td> NA</td><td>NA</td><td>Denmark/Sweden</td><td>DEN</td><td>1900 Summer</td><td>1900</td><td>Summer</td><td>Paris    </td><td>Tug-Of-War   </td><td>Tug-Of-War Men's Tug-Of-War       </td><td>Gold</td></tr>\n",
       "\t<tr><td>5</td><td>Christine Jacoba Aaftink</td><td>F</td><td>21</td><td>185</td><td>82</td><td>Netherlands   </td><td>NED</td><td>1988 Winter</td><td>1988</td><td>Winter</td><td>Calgary  </td><td>Speed Skating</td><td>Speed Skating Women's 500 metres  </td><td>NA  </td></tr>\n",
       "\t<tr><td>5</td><td>Christine Jacoba Aaftink</td><td>F</td><td>21</td><td>185</td><td>82</td><td>Netherlands   </td><td>NED</td><td>1988 Winter</td><td>1988</td><td>Winter</td><td>Calgary  </td><td>Speed Skating</td><td>Speed Skating Women's 1,000 metres</td><td>NA  </td></tr>\n",
       "</tbody>\n",
       "</table>\n"
      ],
      "text/latex": [
       "A data.frame: 6 x 15\n",
       "\\begin{tabular}{r|lllllllllllllll}\n",
       " ID & Name & Sex & Age & Height & Weight & Team & NOC & Games & Year & Season & City & Sport & Event & Medal\\\\\n",
       " <int> & <chr> & <chr> & <int> & <int> & <dbl> & <chr> & <chr> & <chr> & <int> & <chr> & <chr> & <chr> & <chr> & <chr>\\\\\n",
       "\\hline\n",
       "\t 1 & A Dijiang                & M & 24 & 180 & 80 & China          & CHN & 1992 Summer & 1992 & Summer & Barcelona & Basketball    & Basketball Men's Basketball        & NA  \\\\\n",
       "\t 2 & A Lamusi                 & M & 23 & 170 & 60 & China          & CHN & 2012 Summer & 2012 & Summer & London    & Judo          & Judo Men's Extra-Lightweight       & NA  \\\\\n",
       "\t 3 & Gunnar Nielsen Aaby      & M & 24 &  NA & NA & Denmark        & DEN & 1920 Summer & 1920 & Summer & Antwerpen & Football      & Football Men's Football            & NA  \\\\\n",
       "\t 4 & Edgar Lindenau Aabye     & M & 34 &  NA & NA & Denmark/Sweden & DEN & 1900 Summer & 1900 & Summer & Paris     & Tug-Of-War    & Tug-Of-War Men's Tug-Of-War        & Gold\\\\\n",
       "\t 5 & Christine Jacoba Aaftink & F & 21 & 185 & 82 & Netherlands    & NED & 1988 Winter & 1988 & Winter & Calgary   & Speed Skating & Speed Skating Women's 500 metres   & NA  \\\\\n",
       "\t 5 & Christine Jacoba Aaftink & F & 21 & 185 & 82 & Netherlands    & NED & 1988 Winter & 1988 & Winter & Calgary   & Speed Skating & Speed Skating Women's 1,000 metres & NA  \\\\\n",
       "\\end{tabular}\n"
      ],
      "text/markdown": [
       "\n",
       "A data.frame: 6 x 15\n",
       "\n",
       "| ID &lt;int&gt; | Name &lt;chr&gt; | Sex &lt;chr&gt; | Age &lt;int&gt; | Height &lt;int&gt; | Weight &lt;dbl&gt; | Team &lt;chr&gt; | NOC &lt;chr&gt; | Games &lt;chr&gt; | Year &lt;int&gt; | Season &lt;chr&gt; | City &lt;chr&gt; | Sport &lt;chr&gt; | Event &lt;chr&gt; | Medal &lt;chr&gt; |\n",
       "|---|---|---|---|---|---|---|---|---|---|---|---|---|---|---|\n",
       "| 1 | A Dijiang                | M | 24 | 180 | 80 | China          | CHN | 1992 Summer | 1992 | Summer | Barcelona | Basketball    | Basketball Men's Basketball        | NA   |\n",
       "| 2 | A Lamusi                 | M | 23 | 170 | 60 | China          | CHN | 2012 Summer | 2012 | Summer | London    | Judo          | Judo Men's Extra-Lightweight       | NA   |\n",
       "| 3 | Gunnar Nielsen Aaby      | M | 24 |  NA | NA | Denmark        | DEN | 1920 Summer | 1920 | Summer | Antwerpen | Football      | Football Men's Football            | NA   |\n",
       "| 4 | Edgar Lindenau Aabye     | M | 34 |  NA | NA | Denmark/Sweden | DEN | 1900 Summer | 1900 | Summer | Paris     | Tug-Of-War    | Tug-Of-War Men's Tug-Of-War        | Gold |\n",
       "| 5 | Christine Jacoba Aaftink | F | 21 | 185 | 82 | Netherlands    | NED | 1988 Winter | 1988 | Winter | Calgary   | Speed Skating | Speed Skating Women's 500 metres   | NA   |\n",
       "| 5 | Christine Jacoba Aaftink | F | 21 | 185 | 82 | Netherlands    | NED | 1988 Winter | 1988 | Winter | Calgary   | Speed Skating | Speed Skating Women's 1,000 metres | NA   |\n",
       "\n"
      ],
      "text/plain": [
       "  ID Name                     Sex Age Height Weight Team           NOC\n",
       "1 1  A Dijiang                M   24  180    80     China          CHN\n",
       "2 2  A Lamusi                 M   23  170    60     China          CHN\n",
       "3 3  Gunnar Nielsen Aaby      M   24   NA    NA     Denmark        DEN\n",
       "4 4  Edgar Lindenau Aabye     M   34   NA    NA     Denmark/Sweden DEN\n",
       "5 5  Christine Jacoba Aaftink F   21  185    82     Netherlands    NED\n",
       "6 5  Christine Jacoba Aaftink F   21  185    82     Netherlands    NED\n",
       "  Games       Year Season City      Sport        \n",
       "1 1992 Summer 1992 Summer Barcelona Basketball   \n",
       "2 2012 Summer 2012 Summer London    Judo         \n",
       "3 1920 Summer 1920 Summer Antwerpen Football     \n",
       "4 1900 Summer 1900 Summer Paris     Tug-Of-War   \n",
       "5 1988 Winter 1988 Winter Calgary   Speed Skating\n",
       "6 1988 Winter 1988 Winter Calgary   Speed Skating\n",
       "  Event                              Medal\n",
       "1 Basketball Men's Basketball        NA   \n",
       "2 Judo Men's Extra-Lightweight       NA   \n",
       "3 Football Men's Football            NA   \n",
       "4 Tug-Of-War Men's Tug-Of-War        Gold \n",
       "5 Speed Skating Women's 500 metres   NA   \n",
       "6 Speed Skating Women's 1,000 metres NA   "
      ]
     },
     "metadata": {},
     "output_type": "display_data"
    }
   ],
   "source": [
    "head(olympics)"
   ]
  },
  {
   "cell_type": "code",
   "execution_count": 7,
   "id": "99bf77d7-e5cf-4fcd-a7a5-c50e0866b66c",
   "metadata": {},
   "outputs": [
    {
     "name": "stdout",
     "output_type": "stream",
     "text": [
      "'data.frame':\t271116 obs. of  15 variables:\n",
      " $ ID    : int  1 2 3 4 5 5 5 5 5 5 ...\n",
      " $ Name  : chr  \"A Dijiang\" \"A Lamusi\" \"Gunnar Nielsen Aaby\" \"Edgar Lindenau Aabye\" ...\n",
      " $ Sex   : chr  \"M\" \"M\" \"M\" \"M\" ...\n",
      " $ Age   : int  24 23 24 34 21 21 25 25 27 27 ...\n",
      " $ Height: int  180 170 NA NA 185 185 185 185 185 185 ...\n",
      " $ Weight: num  80 60 NA NA 82 82 82 82 82 82 ...\n",
      " $ Team  : chr  \"China\" \"China\" \"Denmark\" \"Denmark/Sweden\" ...\n",
      " $ NOC   : chr  \"CHN\" \"CHN\" \"DEN\" \"DEN\" ...\n",
      " $ Games : chr  \"1992 Summer\" \"2012 Summer\" \"1920 Summer\" \"1900 Summer\" ...\n",
      " $ Year  : int  1992 2012 1920 1900 1988 1988 1992 1992 1994 1994 ...\n",
      " $ Season: chr  \"Summer\" \"Summer\" \"Summer\" \"Summer\" ...\n",
      " $ City  : chr  \"Barcelona\" \"London\" \"Antwerpen\" \"Paris\" ...\n",
      " $ Sport : chr  \"Basketball\" \"Judo\" \"Football\" \"Tug-Of-War\" ...\n",
      " $ Event : chr  \"Basketball Men's Basketball\" \"Judo Men's Extra-Lightweight\" \"Football Men's Football\" \"Tug-Of-War Men's Tug-Of-War\" ...\n",
      " $ Medal : chr  NA NA NA \"Gold\" ...\n"
     ]
    }
   ],
   "source": [
    "str(olympics)"
   ]
  },
  {
   "cell_type": "markdown",
   "id": "b456e57c-4a12-464b-999a-ef2df5af80c1",
   "metadata": {},
   "source": [
    "Olympics has 271116 rows and 15 columns, and there are 3 types of data: integer, numeric and character. Each row contains basic information about a specific athlete."
   ]
  },
  {
   "cell_type": "markdown",
   "id": "fc601975-35ed-4680-a4e1-0273ee3cc047",
   "metadata": {},
   "source": [
    "## Question 2"
   ]
  },
  {
   "cell_type": "code",
   "execution_count": 10,
   "id": "a16336a1-1ef0-41e8-bc7c-49387db27497",
   "metadata": {},
   "outputs": [
    {
     "data": {
      "text/html": [
       "66"
      ],
      "text/latex": [
       "66"
      ],
      "text/markdown": [
       "66"
      ],
      "text/plain": [
       "[1] 66"
      ]
     },
     "metadata": {},
     "output_type": "display_data"
    }
   ],
   "source": [
    "length(unique(olympics$Sport))"
   ]
  },
  {
   "cell_type": "code",
   "execution_count": 13,
   "id": "fb29b48a-4ee3-43fe-b1b8-f9134960bd82",
   "metadata": {},
   "outputs": [
    {
     "data": {
      "text/html": [
       "<ol class=list-inline>\n",
       "\t<li>'Basketball'</li>\n",
       "\t<li>'Judo'</li>\n",
       "\t<li>'Football'</li>\n",
       "\t<li>'Tug-Of-War'</li>\n",
       "\t<li>'Speed Skating'</li>\n",
       "\t<li>'Cross Country Skiing'</li>\n",
       "\t<li>'Athletics'</li>\n",
       "\t<li>'Ice Hockey'</li>\n",
       "\t<li>'Swimming'</li>\n",
       "\t<li>'Badminton'</li>\n",
       "\t<li>'Sailing'</li>\n",
       "\t<li>'Biathlon'</li>\n",
       "\t<li>'Gymnastics'</li>\n",
       "\t<li>'Art Competitions'</li>\n",
       "\t<li>'Alpine Skiing'</li>\n",
       "\t<li>'Handball'</li>\n",
       "\t<li>'Weightlifting'</li>\n",
       "\t<li>'Wrestling'</li>\n",
       "\t<li>'Luge'</li>\n",
       "\t<li>'Water Polo'</li>\n",
       "\t<li>'Hockey'</li>\n",
       "\t<li>'Rowing'</li>\n",
       "\t<li>'Bobsleigh'</li>\n",
       "\t<li>'Fencing'</li>\n",
       "\t<li>'Equestrianism'</li>\n",
       "\t<li>'Shooting'</li>\n",
       "\t<li>'Boxing'</li>\n",
       "\t<li>'Taekwondo'</li>\n",
       "\t<li>'Cycling'</li>\n",
       "\t<li>'Diving'</li>\n",
       "\t<li>'Canoeing'</li>\n",
       "\t<li>'Tennis'</li>\n",
       "\t<li>'Modern Pentathlon'</li>\n",
       "\t<li>'Figure Skating'</li>\n",
       "\t<li>'Golf'</li>\n",
       "\t<li>'Softball'</li>\n",
       "\t<li>'Archery'</li>\n",
       "\t<li>'Volleyball'</li>\n",
       "\t<li>'Synchronized Swimming'</li>\n",
       "\t<li>'Table Tennis'</li>\n",
       "\t<li>'Nordic Combined'</li>\n",
       "\t<li>'Baseball'</li>\n",
       "\t<li>'Rhythmic Gymnastics'</li>\n",
       "\t<li>'Freestyle Skiing'</li>\n",
       "\t<li>'Rugby Sevens'</li>\n",
       "\t<li>'Trampolining'</li>\n",
       "\t<li>'Beach Volleyball'</li>\n",
       "\t<li>'Triathlon'</li>\n",
       "\t<li>'Ski Jumping'</li>\n",
       "\t<li>'Curling'</li>\n",
       "\t<li>'Snowboarding'</li>\n",
       "\t<li>'Rugby'</li>\n",
       "\t<li>'Short Track Speed Skating'</li>\n",
       "\t<li>'Skeleton'</li>\n",
       "\t<li>'Lacrosse'</li>\n",
       "\t<li>'Polo'</li>\n",
       "\t<li>'Cricket'</li>\n",
       "\t<li>'Racquets'</li>\n",
       "\t<li>'Motorboating'</li>\n",
       "\t<li>'Military Ski Patrol'</li>\n",
       "\t<li>'Croquet'</li>\n",
       "\t<li>'Jeu De Paume'</li>\n",
       "\t<li>'Roque'</li>\n",
       "\t<li>'Alpinism'</li>\n",
       "\t<li>'Basque Pelota'</li>\n",
       "\t<li>'Aeronautics'</li>\n",
       "</ol>\n"
      ],
      "text/latex": [
       "\\begin{enumerate*}\n",
       "\\item 'Basketball'\n",
       "\\item 'Judo'\n",
       "\\item 'Football'\n",
       "\\item 'Tug-Of-War'\n",
       "\\item 'Speed Skating'\n",
       "\\item 'Cross Country Skiing'\n",
       "\\item 'Athletics'\n",
       "\\item 'Ice Hockey'\n",
       "\\item 'Swimming'\n",
       "\\item 'Badminton'\n",
       "\\item 'Sailing'\n",
       "\\item 'Biathlon'\n",
       "\\item 'Gymnastics'\n",
       "\\item 'Art Competitions'\n",
       "\\item 'Alpine Skiing'\n",
       "\\item 'Handball'\n",
       "\\item 'Weightlifting'\n",
       "\\item 'Wrestling'\n",
       "\\item 'Luge'\n",
       "\\item 'Water Polo'\n",
       "\\item 'Hockey'\n",
       "\\item 'Rowing'\n",
       "\\item 'Bobsleigh'\n",
       "\\item 'Fencing'\n",
       "\\item 'Equestrianism'\n",
       "\\item 'Shooting'\n",
       "\\item 'Boxing'\n",
       "\\item 'Taekwondo'\n",
       "\\item 'Cycling'\n",
       "\\item 'Diving'\n",
       "\\item 'Canoeing'\n",
       "\\item 'Tennis'\n",
       "\\item 'Modern Pentathlon'\n",
       "\\item 'Figure Skating'\n",
       "\\item 'Golf'\n",
       "\\item 'Softball'\n",
       "\\item 'Archery'\n",
       "\\item 'Volleyball'\n",
       "\\item 'Synchronized Swimming'\n",
       "\\item 'Table Tennis'\n",
       "\\item 'Nordic Combined'\n",
       "\\item 'Baseball'\n",
       "\\item 'Rhythmic Gymnastics'\n",
       "\\item 'Freestyle Skiing'\n",
       "\\item 'Rugby Sevens'\n",
       "\\item 'Trampolining'\n",
       "\\item 'Beach Volleyball'\n",
       "\\item 'Triathlon'\n",
       "\\item 'Ski Jumping'\n",
       "\\item 'Curling'\n",
       "\\item 'Snowboarding'\n",
       "\\item 'Rugby'\n",
       "\\item 'Short Track Speed Skating'\n",
       "\\item 'Skeleton'\n",
       "\\item 'Lacrosse'\n",
       "\\item 'Polo'\n",
       "\\item 'Cricket'\n",
       "\\item 'Racquets'\n",
       "\\item 'Motorboating'\n",
       "\\item 'Military Ski Patrol'\n",
       "\\item 'Croquet'\n",
       "\\item 'Jeu De Paume'\n",
       "\\item 'Roque'\n",
       "\\item 'Alpinism'\n",
       "\\item 'Basque Pelota'\n",
       "\\item 'Aeronautics'\n",
       "\\end{enumerate*}\n"
      ],
      "text/markdown": [
       "1. 'Basketball'\n",
       "2. 'Judo'\n",
       "3. 'Football'\n",
       "4. 'Tug-Of-War'\n",
       "5. 'Speed Skating'\n",
       "6. 'Cross Country Skiing'\n",
       "7. 'Athletics'\n",
       "8. 'Ice Hockey'\n",
       "9. 'Swimming'\n",
       "10. 'Badminton'\n",
       "11. 'Sailing'\n",
       "12. 'Biathlon'\n",
       "13. 'Gymnastics'\n",
       "14. 'Art Competitions'\n",
       "15. 'Alpine Skiing'\n",
       "16. 'Handball'\n",
       "17. 'Weightlifting'\n",
       "18. 'Wrestling'\n",
       "19. 'Luge'\n",
       "20. 'Water Polo'\n",
       "21. 'Hockey'\n",
       "22. 'Rowing'\n",
       "23. 'Bobsleigh'\n",
       "24. 'Fencing'\n",
       "25. 'Equestrianism'\n",
       "26. 'Shooting'\n",
       "27. 'Boxing'\n",
       "28. 'Taekwondo'\n",
       "29. 'Cycling'\n",
       "30. 'Diving'\n",
       "31. 'Canoeing'\n",
       "32. 'Tennis'\n",
       "33. 'Modern Pentathlon'\n",
       "34. 'Figure Skating'\n",
       "35. 'Golf'\n",
       "36. 'Softball'\n",
       "37. 'Archery'\n",
       "38. 'Volleyball'\n",
       "39. 'Synchronized Swimming'\n",
       "40. 'Table Tennis'\n",
       "41. 'Nordic Combined'\n",
       "42. 'Baseball'\n",
       "43. 'Rhythmic Gymnastics'\n",
       "44. 'Freestyle Skiing'\n",
       "45. 'Rugby Sevens'\n",
       "46. 'Trampolining'\n",
       "47. 'Beach Volleyball'\n",
       "48. 'Triathlon'\n",
       "49. 'Ski Jumping'\n",
       "50. 'Curling'\n",
       "51. 'Snowboarding'\n",
       "52. 'Rugby'\n",
       "53. 'Short Track Speed Skating'\n",
       "54. 'Skeleton'\n",
       "55. 'Lacrosse'\n",
       "56. 'Polo'\n",
       "57. 'Cricket'\n",
       "58. 'Racquets'\n",
       "59. 'Motorboating'\n",
       "60. 'Military Ski Patrol'\n",
       "61. 'Croquet'\n",
       "62. 'Jeu De Paume'\n",
       "63. 'Roque'\n",
       "64. 'Alpinism'\n",
       "65. 'Basque Pelota'\n",
       "66. 'Aeronautics'\n",
       "\n",
       "\n"
      ],
      "text/plain": [
       " [1] \"Basketball\"                \"Judo\"                     \n",
       " [3] \"Football\"                  \"Tug-Of-War\"               \n",
       " [5] \"Speed Skating\"             \"Cross Country Skiing\"     \n",
       " [7] \"Athletics\"                 \"Ice Hockey\"               \n",
       " [9] \"Swimming\"                  \"Badminton\"                \n",
       "[11] \"Sailing\"                   \"Biathlon\"                 \n",
       "[13] \"Gymnastics\"                \"Art Competitions\"         \n",
       "[15] \"Alpine Skiing\"             \"Handball\"                 \n",
       "[17] \"Weightlifting\"             \"Wrestling\"                \n",
       "[19] \"Luge\"                      \"Water Polo\"               \n",
       "[21] \"Hockey\"                    \"Rowing\"                   \n",
       "[23] \"Bobsleigh\"                 \"Fencing\"                  \n",
       "[25] \"Equestrianism\"             \"Shooting\"                 \n",
       "[27] \"Boxing\"                    \"Taekwondo\"                \n",
       "[29] \"Cycling\"                   \"Diving\"                   \n",
       "[31] \"Canoeing\"                  \"Tennis\"                   \n",
       "[33] \"Modern Pentathlon\"         \"Figure Skating\"           \n",
       "[35] \"Golf\"                      \"Softball\"                 \n",
       "[37] \"Archery\"                   \"Volleyball\"               \n",
       "[39] \"Synchronized Swimming\"     \"Table Tennis\"             \n",
       "[41] \"Nordic Combined\"           \"Baseball\"                 \n",
       "[43] \"Rhythmic Gymnastics\"       \"Freestyle Skiing\"         \n",
       "[45] \"Rugby Sevens\"              \"Trampolining\"             \n",
       "[47] \"Beach Volleyball\"          \"Triathlon\"                \n",
       "[49] \"Ski Jumping\"               \"Curling\"                  \n",
       "[51] \"Snowboarding\"              \"Rugby\"                    \n",
       "[53] \"Short Track Speed Skating\" \"Skeleton\"                 \n",
       "[55] \"Lacrosse\"                  \"Polo\"                     \n",
       "[57] \"Cricket\"                   \"Racquets\"                 \n",
       "[59] \"Motorboating\"              \"Military Ski Patrol\"      \n",
       "[61] \"Croquet\"                   \"Jeu De Paume\"             \n",
       "[63] \"Roque\"                     \"Alpinism\"                 \n",
       "[65] \"Basque Pelota\"             \"Aeronautics\"              "
      ]
     },
     "metadata": {},
     "output_type": "display_data"
    }
   ],
   "source": [
    "unique(olympics$Sport)"
   ]
  },
  {
   "cell_type": "markdown",
   "id": "14dc22d4-ddc3-41cc-a91a-cb0025bc0c80",
   "metadata": {},
   "source": [
    "There are 66 unique sports in the dataset olympics. I use 'unique' function to show unique individual sports included in the dataset. There are some sports I never expected like 'Motorboating' since I thought it is more like a hobby and just for fun. Never expected it is on olympics."
   ]
  },
  {
   "cell_type": "markdown",
   "id": "8e586edd-ff26-4ce2-8f6b-2424b26f2929",
   "metadata": {},
   "source": [
    "## Question 3"
   ]
  },
  {
   "cell_type": "code",
   "execution_count": 3,
   "id": "bbe0f40d-9655-4653-9ca8-886bdb61cb91",
   "metadata": {},
   "outputs": [],
   "source": [
    "us_athletes <- subset(olympics, NOC=='USA')"
   ]
  },
  {
   "cell_type": "code",
   "execution_count": 4,
   "id": "8be4e024-f897-42ef-ae77-5cd34b24c5cd",
   "metadata": {},
   "outputs": [
    {
     "data": {
      "text/html": [
       "<ol class=list-inline>\n",
       "\t<li>18853</li>\n",
       "\t<li>15</li>\n",
       "</ol>\n"
      ],
      "text/latex": [
       "\\begin{enumerate*}\n",
       "\\item 18853\n",
       "\\item 15\n",
       "\\end{enumerate*}\n"
      ],
      "text/markdown": [
       "1. 18853\n",
       "2. 15\n",
       "\n",
       "\n"
      ],
      "text/plain": [
       "[1] 18853    15"
      ]
     },
     "metadata": {},
     "output_type": "display_data"
    }
   ],
   "source": [
    "dim(us_athletes)"
   ]
  },
  {
   "cell_type": "code",
   "execution_count": 5,
   "id": "2494f61f-64ec-4564-a3d1-c435b5605c3d",
   "metadata": {},
   "outputs": [],
   "source": [
    "china_athletes <- subset(olympics, NOC=='CHN')"
   ]
  },
  {
   "cell_type": "code",
   "execution_count": 6,
   "id": "d09b5527-f16b-4982-97a8-c56a8fea1d91",
   "metadata": {},
   "outputs": [
    {
     "data": {
      "text/html": [
       "<ol class=list-inline>\n",
       "\t<li>5141</li>\n",
       "\t<li>15</li>\n",
       "</ol>\n"
      ],
      "text/latex": [
       "\\begin{enumerate*}\n",
       "\\item 5141\n",
       "\\item 15\n",
       "\\end{enumerate*}\n"
      ],
      "text/markdown": [
       "1. 5141\n",
       "2. 15\n",
       "\n",
       "\n"
      ],
      "text/plain": [
       "[1] 5141   15"
      ]
     },
     "metadata": {},
     "output_type": "display_data"
    }
   ],
   "source": [
    "dim(china_athletes)"
   ]
  },
  {
   "cell_type": "code",
   "execution_count": 7,
   "id": "2e030d83-8985-4f73-b695-e389f07ef3b7",
   "metadata": {},
   "outputs": [],
   "source": [
    "both <- subset(olympics, NOC=='USA'| NOC=='CHN')"
   ]
  },
  {
   "cell_type": "code",
   "execution_count": 8,
   "id": "9c69fd93-7ec5-4bef-b122-329fb8ee518c",
   "metadata": {},
   "outputs": [
    {
     "data": {
      "text/html": [
       "<ol class=list-inline>\n",
       "\t<li>23994</li>\n",
       "\t<li>15</li>\n",
       "</ol>\n"
      ],
      "text/latex": [
       "\\begin{enumerate*}\n",
       "\\item 23994\n",
       "\\item 15\n",
       "\\end{enumerate*}\n"
      ],
      "text/markdown": [
       "1. 23994\n",
       "2. 15\n",
       "\n",
       "\n"
      ],
      "text/plain": [
       "[1] 23994    15"
      ]
     },
     "metadata": {},
     "output_type": "display_data"
    }
   ],
   "source": [
    "dim(both)"
   ]
  },
  {
   "cell_type": "markdown",
   "id": "47c6229f-35f7-400c-8366-c442baa5cf47",
   "metadata": {},
   "source": [
    "There are 18853 rows in 'us_athletes' dataset; There are 5154 rows in dataset contains athletes from China named 'china_athletes'; There are 23994 rows in 'both' dataset."
   ]
  },
  {
   "cell_type": "markdown",
   "id": "da22f29c-d245-4d2b-9fc1-ca14cb6087d9",
   "metadata": {},
   "source": [
    "## Question 4"
   ]
  },
  {
   "cell_type": "code",
   "execution_count": 9,
   "id": "8cffc767-d1c8-4d64-b7dc-f0d2ee8a80d1",
   "metadata": {},
   "outputs": [
    {
     "data": {
      "text/plain": [
       "\n",
       "        F         M \n",
       "0.2934811 0.7065189 "
      ]
     },
     "metadata": {},
     "output_type": "display_data"
    }
   ],
   "source": [
    "prop.table(table(olympics$Sex[olympics$NOC=='USA']))"
   ]
  },
  {
   "cell_type": "code",
   "execution_count": 8,
   "id": "de3e9215-4137-400e-b35a-bcc110a24a70",
   "metadata": {},
   "outputs": [
    {
     "data": {
      "text/plain": [
       "\n",
       "        F         M \n",
       "0.3229719 0.6770281 "
      ]
     },
     "metadata": {},
     "output_type": "display_data"
    }
   ],
   "source": [
    "prop.table(table(olympics$Sex[(olympics$NOC=='USA') & (olympics$Medal=='Gold')]))"
   ]
  },
  {
   "cell_type": "code",
   "execution_count": 11,
   "id": "948df716-428b-4c01-91d2-6c6c47effaad",
   "metadata": {},
   "outputs": [
    {
     "data": {
      "text/plain": [
       "\n",
       "        F         M \n",
       "0.5388057 0.4611943 "
      ]
     },
     "metadata": {},
     "output_type": "display_data"
    }
   ],
   "source": [
    "prop.table(table(olympics$Sex[olympics$NOC=='CHN']))"
   ]
  },
  {
   "cell_type": "code",
   "execution_count": 9,
   "id": "db043a28-f16a-4a0e-916a-a63c8f4591d4",
   "metadata": {},
   "outputs": [
    {
     "data": {
      "text/plain": [
       "\n",
       "  F   M \n",
       "0.6 0.4 "
      ]
     },
     "metadata": {},
     "output_type": "display_data"
    }
   ],
   "source": [
    "prop.table(table(olympics$Sex[(olympics$NOC=='CHN') & (olympics$Medal=='Gold')]))"
   ]
  },
  {
   "cell_type": "markdown",
   "id": "0d552245-b4d6-474a-9cc9-fa7b8e674d55",
   "metadata": {},
   "source": [
    "29.35% athletes in the US are women; 32.30% athletes in the US with gold medals are women. 53.88% athletes in China are women; 60% athletes in China with gold medals are women."
   ]
  },
  {
   "cell_type": "markdown",
   "id": "88c9cdac-3e92-498f-83fa-e089bfc44ac8",
   "metadata": {},
   "source": [
    "## Question 5"
   ]
  },
  {
   "cell_type": "code",
   "execution_count": 2,
   "id": "d370d7c9-06db-42b9-b75f-240481a5c491",
   "metadata": {},
   "outputs": [],
   "source": [
    "us_athletes <- subset(olympics, NOC=='USA')"
   ]
  },
  {
   "cell_type": "code",
   "execution_count": 16,
   "id": "6f8b2671-ef61-45fa-84c2-fa584d4b7eb9",
   "metadata": {},
   "outputs": [],
   "source": [
    "us_age <- us_athletes$Age"
   ]
  },
  {
   "cell_type": "code",
   "execution_count": 12,
   "id": "82168a60-9aa5-4805-b2b6-325575aef077",
   "metadata": {},
   "outputs": [
    {
     "data": {
      "text/html": [
       "17647"
      ],
      "text/latex": [
       "17647"
      ],
      "text/markdown": [
       "17647"
      ],
      "text/plain": [
       "[1] 17647"
      ]
     },
     "metadata": {},
     "output_type": "display_data"
    }
   ],
   "source": [
    "which.max(us_age)"
   ]
  },
  {
   "cell_type": "code",
   "execution_count": 14,
   "id": "3fad4dde-bb77-4e4a-a9f1-150081c63b6c",
   "metadata": {},
   "outputs": [
    {
     "data": {
      "text/html": [
       "<table>\n",
       "<caption>A data.frame: 1 x 3</caption>\n",
       "<thead>\n",
       "\t<tr><th></th><th scope=col>Age</th><th scope=col>Sport</th><th scope=col>Year</th></tr>\n",
       "\t<tr><th></th><th scope=col>&lt;int&gt;</th><th scope=col>&lt;chr&gt;</th><th scope=col>&lt;int&gt;</th></tr>\n",
       "</thead>\n",
       "<tbody>\n",
       "\t<tr><th scope=row>257055</th><td>97</td><td>Art Competitions</td><td>1928</td></tr>\n",
       "</tbody>\n",
       "</table>\n"
      ],
      "text/latex": [
       "A data.frame: 1 x 3\n",
       "\\begin{tabular}{r|lll}\n",
       "  & Age & Sport & Year\\\\\n",
       "  & <int> & <chr> & <int>\\\\\n",
       "\\hline\n",
       "\t257055 & 97 & Art Competitions & 1928\\\\\n",
       "\\end{tabular}\n"
      ],
      "text/markdown": [
       "\n",
       "A data.frame: 1 x 3\n",
       "\n",
       "| <!--/--> | Age &lt;int&gt; | Sport &lt;chr&gt; | Year &lt;int&gt; |\n",
       "|---|---|---|---|\n",
       "| 257055 | 97 | Art Competitions | 1928 |\n",
       "\n"
      ],
      "text/plain": [
       "       Age Sport            Year\n",
       "257055 97  Art Competitions 1928"
      ]
     },
     "metadata": {},
     "output_type": "display_data"
    }
   ],
   "source": [
    "us_athletes[which.max(us_age), c('Age', 'Sport', 'Year')]"
   ]
  },
  {
   "cell_type": "code",
   "execution_count": 18,
   "id": "48b65961-93c7-4049-b7ed-994c30674b88",
   "metadata": {},
   "outputs": [],
   "source": [
    "china_athletes <- subset(olympics, NOC=='CHN')"
   ]
  },
  {
   "cell_type": "code",
   "execution_count": 20,
   "id": "19406419-5d4c-4733-8941-ba5d5c375db3",
   "metadata": {},
   "outputs": [],
   "source": [
    "ch_age <- china_athletes$Age"
   ]
  },
  {
   "cell_type": "code",
   "execution_count": 21,
   "id": "1ed86e98-d5bc-4f2b-a935-87604f4eca08",
   "metadata": {},
   "outputs": [
    {
     "data": {
      "text/html": [
       "1130"
      ],
      "text/latex": [
       "1130"
      ],
      "text/markdown": [
       "1130"
      ],
      "text/plain": [
       "[1] 1130"
      ]
     },
     "metadata": {},
     "output_type": "display_data"
    }
   ],
   "source": [
    "which.max(ch_age)"
   ]
  },
  {
   "cell_type": "code",
   "execution_count": 22,
   "id": "fe300d23-c05c-4f33-ac6d-8754df9a5752",
   "metadata": {},
   "outputs": [
    {
     "data": {
      "text/html": [
       "<table>\n",
       "<caption>A data.frame: 1 x 3</caption>\n",
       "<thead>\n",
       "\t<tr><th></th><th scope=col>Age</th><th scope=col>Sport</th><th scope=col>Year</th></tr>\n",
       "\t<tr><th></th><th scope=col>&lt;int&gt;</th><th scope=col>&lt;chr&gt;</th><th scope=col>&lt;int&gt;</th></tr>\n",
       "</thead>\n",
       "<tbody>\n",
       "\t<tr><th scope=row>100160</th><td>45</td><td>Equestrianism</td><td>2008</td></tr>\n",
       "</tbody>\n",
       "</table>\n"
      ],
      "text/latex": [
       "A data.frame: 1 x 3\n",
       "\\begin{tabular}{r|lll}\n",
       "  & Age & Sport & Year\\\\\n",
       "  & <int> & <chr> & <int>\\\\\n",
       "\\hline\n",
       "\t100160 & 45 & Equestrianism & 2008\\\\\n",
       "\\end{tabular}\n"
      ],
      "text/markdown": [
       "\n",
       "A data.frame: 1 x 3\n",
       "\n",
       "| <!--/--> | Age &lt;int&gt; | Sport &lt;chr&gt; | Year &lt;int&gt; |\n",
       "|---|---|---|---|\n",
       "| 100160 | 45 | Equestrianism | 2008 |\n",
       "\n"
      ],
      "text/plain": [
       "       Age Sport         Year\n",
       "100160 45  Equestrianism 2008"
      ]
     },
     "metadata": {},
     "output_type": "display_data"
    }
   ],
   "source": [
    "china_athletes[which.max(ch_age), c('Age', 'Sport', 'Year')]"
   ]
  },
  {
   "cell_type": "markdown",
   "id": "9fbf00fb-2418-460f-ae94-2a32b0c28952",
   "metadata": {},
   "source": [
    "For the US, the oldest athlete is 97 years old, the sport is 'Art Competitions', and the olympics year is 1928. For China, the oldest athlete is 45 years old, the sport is 'Equestrianism', and the olympics year is 2008."
   ]
  },
  {
   "cell_type": "markdown",
   "id": "f76442d6-d02e-4f26-b9d6-c3183e1d6929",
   "metadata": {},
   "source": [
    "## Pledge\n",
    "\n",
    "By submitting this work I hereby pledge that this is my own, personal work. I've acknowledged in the designated place at the top of this file all sources that I used to complete said work, including but not limited to: online resources, books, and electronic communications. I've noted all collaboration with fellow students and/or TA's. I did not copy or plagiarize another's work.\n",
    "\n",
    "> As a Boilermaker pursuing academic excellence, I pledge to be honest and true in all that I do. Accountable together – We are Purdue."
   ]
  }
 ],
 "metadata": {
  "kernelspec": {
   "display_name": "f2021-s2022-r",
   "language": "R",
   "name": "tdm-brown-scratch-f2021-s2022-r"
  },
  "language_info": {
   "codemirror_mode": "r",
   "file_extension": ".r",
   "mimetype": "text/x-r-source",
   "name": "R",
   "pygments_lexer": "r",
   "version": "4.0.0"
  }
 },
 "nbformat": 4,
 "nbformat_minor": 5
}
