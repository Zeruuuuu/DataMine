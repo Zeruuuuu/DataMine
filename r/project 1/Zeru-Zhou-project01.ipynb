{
 "cells": [
  {
   "cell_type": "markdown",
   "id": "be02a957-7133-4d02-818e-fedeb3cecb05",
   "metadata": {},
   "source": [
    "# Project 1 -- Zeru Zhou"
   ]
  },
  {
   "cell_type": "markdown",
   "id": "a1228853-dd19-4ab2-89e0-0394d7d72de3",
   "metadata": {},
   "source": [
    "**TA Help:** NA\n",
    "\n",
    "- Questions on piazza helps me a lot in this project.\n",
    "    \n",
    "**Collaboration:** NA\n",
    "    \n",
    "- Individual work and no classmate worked together."
   ]
  },
  {
   "cell_type": "markdown",
   "id": "6180e742-8e39-4698-98ff-5b00c8cf8ea0",
   "metadata": {},
   "source": [
    "## Question 1"
   ]
  },
  {
   "cell_type": "code",
   "execution_count": 1,
   "id": "49445606-d363-41b4-b479-e319a9a84c01",
   "metadata": {},
   "outputs": [
    {
     "data": {
      "text/plain": [
       "13200"
      ]
     },
     "execution_count": 1,
     "metadata": {},
     "output_type": "execute_result"
    }
   ],
   "source": [
    "550*24"
   ]
  },
  {
   "cell_type": "code",
   "execution_count": 2,
   "id": "15191a80-14a8-4532-a265-5642788a5422",
   "metadata": {},
   "outputs": [
    {
     "data": {
      "text/plain": [
       "52800"
      ]
     },
     "execution_count": 2,
     "metadata": {},
     "output_type": "execute_result"
    }
   ],
   "source": [
    "550*96"
   ]
  },
  {
   "cell_type": "markdown",
   "id": "b456e57c-4a12-464b-999a-ef2df5af80c1",
   "metadata": {},
   "source": [
    "There are 13200 cores, and there is 52800 GB = 52.8 TB of Memory on Brown. Here is link: https://www.rcac.purdue.edu/compute/brown.\n",
    "For my own computer, there is 16 GB of Memory and 6 cores. It is a desktop I assembled on my own. I'll provide the links of CPU and Memory: cpu: https://www.amd.com/en/products/cpu/amd-ryzen-5-3600x 6 cores; Memory: https://www.gskill.com/product/165/362/1623029679/F4-4000C14D-16GTES 2*8 GB"
   ]
  },
  {
   "cell_type": "markdown",
   "id": "fc601975-35ed-4680-a4e1-0273ee3cc047",
   "metadata": {},
   "source": [
    "## Question 2"
   ]
  },
  {
   "cell_type": "code",
   "execution_count": 1,
   "id": "a16336a1-1ef0-41e8-bc7c-49387db27497",
   "metadata": {},
   "outputs": [
    {
     "data": {
      "text/html": [
       "'brown-a008.rcac.purdue.edu'"
      ],
      "text/latex": [
       "'brown-a008.rcac.purdue.edu'"
      ],
      "text/markdown": [
       "'brown-a008.rcac.purdue.edu'"
      ],
      "text/plain": [
       "[1] \"brown-a008.rcac.purdue.edu\""
      ]
     },
     "metadata": {},
     "output_type": "display_data"
    }
   ],
   "source": [
    "system(\"hostname\", intern = TRUE )"
   ]
  },
  {
   "cell_type": "markdown",
   "id": "14dc22d4-ddc3-41cc-a91a-cb0025bc0c80",
   "metadata": {},
   "source": [
    "I'm running on the node brown-a008.rcac.purdue.edu"
   ]
  },
  {
   "cell_type": "markdown",
   "id": "8e586edd-ff26-4ce2-8f6b-2424b26f2929",
   "metadata": {},
   "source": [
    "## Question 3"
   ]
  },
  {
   "cell_type": "code",
   "execution_count": 1,
   "id": "bbe0f40d-9655-4653-9ca8-886bdb61cb91",
   "metadata": {},
   "outputs": [
    {
     "name": "stdout",
     "output_type": "stream",
     "text": [
      "My list is: [1, 2, 3]\n"
     ]
    }
   ],
   "source": [
    "my_list = [1, 2, 3]\n",
    "print(f'My list is: {my_list}')"
   ]
  },
  {
   "cell_type": "code",
   "execution_count": 2,
   "id": "4bb6aac8-787f-4b78-8adc-ac8ed0928c7c",
   "metadata": {},
   "outputs": [],
   "source": [
    "%load_ext sql"
   ]
  },
  {
   "cell_type": "code",
   "execution_count": 3,
   "id": "9303d973-65b6-4def-afdd-ee44b01a71ee",
   "metadata": {},
   "outputs": [
    {
     "name": "stdout",
     "output_type": "stream",
     "text": [
      "Done.\n"
     ]
    },
    {
     "data": {
      "text/html": [
       "<table>\n",
       "    <tr>\n",
       "        <th>title_id</th>\n",
       "        <th>type</th>\n",
       "        <th>primary_title</th>\n",
       "        <th>original_title</th>\n",
       "        <th>is_adult</th>\n",
       "        <th>premiered</th>\n",
       "        <th>ended</th>\n",
       "        <th>runtime_minutes</th>\n",
       "        <th>genres</th>\n",
       "    </tr>\n",
       "    <tr>\n",
       "        <td>tt0000001</td>\n",
       "        <td>short</td>\n",
       "        <td>Carmencita</td>\n",
       "        <td>Carmencita</td>\n",
       "        <td>0</td>\n",
       "        <td>1894</td>\n",
       "        <td>None</td>\n",
       "        <td>1</td>\n",
       "        <td>Documentary,Short</td>\n",
       "    </tr>\n",
       "    <tr>\n",
       "        <td>tt0000002</td>\n",
       "        <td>short</td>\n",
       "        <td>Le clown et ses chiens</td>\n",
       "        <td>Le clown et ses chiens</td>\n",
       "        <td>0</td>\n",
       "        <td>1892</td>\n",
       "        <td>None</td>\n",
       "        <td>5</td>\n",
       "        <td>Animation,Short</td>\n",
       "    </tr>\n",
       "    <tr>\n",
       "        <td>tt0000003</td>\n",
       "        <td>short</td>\n",
       "        <td>Pauvre Pierrot</td>\n",
       "        <td>Pauvre Pierrot</td>\n",
       "        <td>0</td>\n",
       "        <td>1892</td>\n",
       "        <td>None</td>\n",
       "        <td>4</td>\n",
       "        <td>Animation,Comedy,Romance</td>\n",
       "    </tr>\n",
       "    <tr>\n",
       "        <td>tt0000004</td>\n",
       "        <td>short</td>\n",
       "        <td>Un bon bock</td>\n",
       "        <td>Un bon bock</td>\n",
       "        <td>0</td>\n",
       "        <td>1892</td>\n",
       "        <td>None</td>\n",
       "        <td>12</td>\n",
       "        <td>Animation,Short</td>\n",
       "    </tr>\n",
       "    <tr>\n",
       "        <td>tt0000005</td>\n",
       "        <td>short</td>\n",
       "        <td>Blacksmith Scene</td>\n",
       "        <td>Blacksmith Scene</td>\n",
       "        <td>0</td>\n",
       "        <td>1893</td>\n",
       "        <td>None</td>\n",
       "        <td>1</td>\n",
       "        <td>Comedy,Short</td>\n",
       "    </tr>\n",
       "</table>"
      ],
      "text/plain": [
       "[('tt0000001', 'short', 'Carmencita', 'Carmencita', 0, 1894, None, 1, 'Documentary,Short'),\n",
       " ('tt0000002', 'short', 'Le clown et ses chiens', 'Le clown et ses chiens', 0, 1892, None, 5, 'Animation,Short'),\n",
       " ('tt0000003', 'short', 'Pauvre Pierrot', 'Pauvre Pierrot', 0, 1892, None, 4, 'Animation,Comedy,Romance'),\n",
       " ('tt0000004', 'short', 'Un bon bock', 'Un bon bock', 0, 1892, None, 12, 'Animation,Short'),\n",
       " ('tt0000005', 'short', 'Blacksmith Scene', 'Blacksmith Scene', 0, 1893, None, 1, 'Comedy,Short')]"
      ]
     },
     "execution_count": 3,
     "metadata": {},
     "output_type": "execute_result"
    }
   ],
   "source": [
    "%%sql\n",
    "sqlite:////depot/datamine/data/movies_and_tv/imdb.db\n",
    "SELECT * FROM titles LIMIT 5;"
   ]
  },
  {
   "cell_type": "code",
   "execution_count": 6,
   "id": "b6daeeac-3903-4d21-b2fe-adb4736731f2",
   "metadata": {},
   "outputs": [
    {
     "name": "stdout",
     "output_type": "stream",
     "text": [
      "Miles: 3274877170 \n",
      "Kilometers:5.2704e+09\n"
     ]
    }
   ],
   "source": [
    "%%bash\n",
    "awk -F, '{miles=miles+$19}END{print \"Miles: \" miles, \"\\nKilometers:\" miles*1.609344}' /depot/datamine/data/flights/subset/1990.csv"
   ]
  },
  {
   "cell_type": "markdown",
   "id": "47c6229f-35f7-400c-8366-c442baa5cf47",
   "metadata": {},
   "source": [
    "These are examples of how to run python, sql, and bash. The output for python is the printed my_list; for sql, the output is the first 5 rows of the given data; for bash, the output is the number of miles and converted number in kilometers."
   ]
  },
  {
   "cell_type": "markdown",
   "id": "da22f29c-d245-4d2b-9fc1-ca14cb6087d9",
   "metadata": {
    "tags": []
   },
   "source": [
    "## Question 4"
   ]
  },
  {
   "cell_type": "markdown",
   "id": "0d552245-b4d6-474a-9cc9-fa7b8e674d55",
   "metadata": {},
   "source": [
    "There are 13 markdown cells, including the title \"Project X\", \"TA help\", \"Questions\", markdown explainations below each code cells, and the ending \"Pledge\". There are 5 code cells, with respect to 5 default \"Questions\"."
   ]
  },
  {
   "cell_type": "markdown",
   "id": "88c9cdac-3e92-498f-83fa-e089bfc44ac8",
   "metadata": {},
   "source": [
    "## Question 5"
   ]
  },
  {
   "cell_type": "code",
   "execution_count": 3,
   "id": "d370d7c9-06db-42b9-b75f-240481a5c491",
   "metadata": {},
   "outputs": [
    {
     "data": {
      "text/html": [
       "13200"
      ],
      "text/latex": [
       "13200"
      ],
      "text/markdown": [
       "13200"
      ],
      "text/plain": [
       "[1] 13200"
      ]
     },
     "metadata": {},
     "output_type": "display_data"
    }
   ],
   "source": [
    "550*24"
   ]
  },
  {
   "cell_type": "code",
   "execution_count": 4,
   "id": "79d3e3d8-f091-40f6-b11f-51637cbb00cc",
   "metadata": {},
   "outputs": [
    {
     "data": {
      "text/html": [
       "52800"
      ],
      "text/latex": [
       "52800"
      ],
      "text/markdown": [
       "52800"
      ],
      "text/plain": [
       "[1] 52800"
      ]
     },
     "metadata": {},
     "output_type": "display_data"
    }
   ],
   "source": [
    "550*96"
   ]
  },
  {
   "cell_type": "code",
   "execution_count": 1,
   "id": "3c0f592b-d4ce-45a1-8839-07b5c45d28fa",
   "metadata": {},
   "outputs": [
    {
     "data": {
      "text/plain": [
       "13200"
      ]
     },
     "execution_count": 1,
     "metadata": {},
     "output_type": "execute_result"
    }
   ],
   "source": [
    "550*24"
   ]
  },
  {
   "cell_type": "code",
   "execution_count": 2,
   "id": "12e379dc-09cb-42eb-801a-3144668cd8fe",
   "metadata": {},
   "outputs": [
    {
     "data": {
      "text/plain": [
       "52800"
      ]
     },
     "execution_count": 2,
     "metadata": {},
     "output_type": "execute_result"
    }
   ],
   "source": [
    "550*96"
   ]
  },
  {
   "cell_type": "markdown",
   "id": "9fbf00fb-2418-460f-ae94-2a32b0c28952",
   "metadata": {},
   "source": [
    "The first 2 rows are run by R; the 3rd and 4th rows are run by python. The derive in the same result: There are 13200 cores, and there is 52800 GB = 52.8 TB of Memory on Brown."
   ]
  },
  {
   "cell_type": "markdown",
   "id": "3e153be7-f762-45b4-8038-89dfbeac5569",
   "metadata": {},
   "source": [
    "## Question 6"
   ]
  },
  {
   "cell_type": "code",
   "execution_count": 1,
   "id": "703d2348-a27a-49fc-96ee-aada86d9377c",
   "metadata": {},
   "outputs": [
    {
     "data": {
      "text/html": [
       "<table>\n",
       "<caption>A data.frame: 6 x 4</caption>\n",
       "<thead>\n",
       "\t<tr><th scope=col>date</th><th scope=col>datetime</th><th scope=col>SACTMIN</th><th scope=col>SPOSTMIN</th></tr>\n",
       "\t<tr><th scope=col>&lt;chr&gt;</th><th scope=col>&lt;chr&gt;</th><th scope=col>&lt;int&gt;</th><th scope=col>&lt;int&gt;</th></tr>\n",
       "</thead>\n",
       "<tbody>\n",
       "\t<tr><td>01/01/2015</td><td>2015-01-01 07:51:12</td><td>NA</td><td>5</td></tr>\n",
       "\t<tr><td>01/01/2015</td><td>2015-01-01 08:02:13</td><td>NA</td><td>5</td></tr>\n",
       "\t<tr><td>01/01/2015</td><td>2015-01-01 08:09:12</td><td>NA</td><td>5</td></tr>\n",
       "\t<tr><td>01/01/2015</td><td>2015-01-01 08:16:12</td><td>NA</td><td>5</td></tr>\n",
       "\t<tr><td>01/01/2015</td><td>2015-01-01 08:23:12</td><td>NA</td><td>5</td></tr>\n",
       "\t<tr><td>01/01/2015</td><td>2015-01-01 08:29:12</td><td>NA</td><td>5</td></tr>\n",
       "</tbody>\n",
       "</table>\n"
      ],
      "text/latex": [
       "A data.frame: 6 x 4\n",
       "\\begin{tabular}{r|llll}\n",
       " date & datetime & SACTMIN & SPOSTMIN\\\\\n",
       " <chr> & <chr> & <int> & <int>\\\\\n",
       "\\hline\n",
       "\t 01/01/2015 & 2015-01-01 07:51:12 & NA & 5\\\\\n",
       "\t 01/01/2015 & 2015-01-01 08:02:13 & NA & 5\\\\\n",
       "\t 01/01/2015 & 2015-01-01 08:09:12 & NA & 5\\\\\n",
       "\t 01/01/2015 & 2015-01-01 08:16:12 & NA & 5\\\\\n",
       "\t 01/01/2015 & 2015-01-01 08:23:12 & NA & 5\\\\\n",
       "\t 01/01/2015 & 2015-01-01 08:29:12 & NA & 5\\\\\n",
       "\\end{tabular}\n"
      ],
      "text/markdown": [
       "\n",
       "A data.frame: 6 x 4\n",
       "\n",
       "| date &lt;chr&gt; | datetime &lt;chr&gt; | SACTMIN &lt;int&gt; | SPOSTMIN &lt;int&gt; |\n",
       "|---|---|---|---|\n",
       "| 01/01/2015 | 2015-01-01 07:51:12 | NA | 5 |\n",
       "| 01/01/2015 | 2015-01-01 08:02:13 | NA | 5 |\n",
       "| 01/01/2015 | 2015-01-01 08:09:12 | NA | 5 |\n",
       "| 01/01/2015 | 2015-01-01 08:16:12 | NA | 5 |\n",
       "| 01/01/2015 | 2015-01-01 08:23:12 | NA | 5 |\n",
       "| 01/01/2015 | 2015-01-01 08:29:12 | NA | 5 |\n",
       "\n"
      ],
      "text/plain": [
       "  date       datetime            SACTMIN SPOSTMIN\n",
       "1 01/01/2015 2015-01-01 07:51:12 NA      5       \n",
       "2 01/01/2015 2015-01-01 08:02:13 NA      5       \n",
       "3 01/01/2015 2015-01-01 08:09:12 NA      5       \n",
       "4 01/01/2015 2015-01-01 08:16:12 NA      5       \n",
       "5 01/01/2015 2015-01-01 08:23:12 NA      5       \n",
       "6 01/01/2015 2015-01-01 08:29:12 NA      5       "
      ]
     },
     "metadata": {},
     "output_type": "display_data"
    }
   ],
   "source": [
    "dat <- read.csv(\"/depot/datamine/data/disney/splash_mountain.csv\")\n",
    "head(dat)"
   ]
  },
  {
   "cell_type": "code",
   "execution_count": 2,
   "id": "15bf7377-4cde-4b1c-a9a8-9fef49cffbb6",
   "metadata": {},
   "outputs": [],
   "source": [
    "splash_mountain <- dat\n",
    "rm(dat)"
   ]
  },
  {
   "cell_type": "markdown",
   "id": "6f433a84-43be-46fc-ac62-968f3abd724c",
   "metadata": {},
   "source": [
    "I run the given code and read the dataset. The output includes date, datetime, SACTMIN, and SPOSTMIN 4 columns as total. After renaming, the dataset \"dat\" has its new name as \"splash_mountain\"."
   ]
  },
  {
   "cell_type": "markdown",
   "id": "bad5d083-c254-483e-b2a5-a90e39dfd2ae",
   "metadata": {
    "tags": []
   },
   "source": [
    "## Question 7"
   ]
  },
  {
   "cell_type": "code",
   "execution_count": null,
   "id": "09191d60-db76-4692-bdec-344020345df5",
   "metadata": {},
   "outputs": [],
   "source": [
    "# I'm done now and ready to submit."
   ]
  },
  {
   "cell_type": "markdown",
   "id": "f76442d6-d02e-4f26-b9d6-c3183e1d6929",
   "metadata": {},
   "source": [
    "## Pledge\n",
    "\n",
    "By submitting this work I hereby pledge that this is my own, personal work. I've acknowledged in the designated place at the top of this file all sources that I used to complete said work, including but not limited to: online resources, books, and electronic communications. I've noted all collaboration with fellow students and/or TA's. I did not copy or plagiarize another's work.\n",
    "\n",
    "> As a Boilermaker pursuing academic excellence, I pledge to be honest and true in all that I do. Accountable together – We are Purdue."
   ]
  }
 ],
 "metadata": {
  "kernelspec": {
   "display_name": "f2021-s2022",
   "language": "python",
   "name": "tdm-brown-scratch-f2021-s2022"
  },
  "language_info": {
   "codemirror_mode": {
    "name": "ipython",
    "version": 3
   },
   "file_extension": ".py",
   "mimetype": "text/x-python",
   "name": "python",
   "nbconvert_exporter": "python",
   "pygments_lexer": "ipython3",
   "version": "3.9.6"
  }
 },
 "nbformat": 4,
 "nbformat_minor": 5
}
