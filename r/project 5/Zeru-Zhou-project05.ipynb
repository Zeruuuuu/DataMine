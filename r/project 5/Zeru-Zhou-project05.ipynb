{
 "cells": [
  {
   "cell_type": "markdown",
   "id": "be02a957-7133-4d02-818e-fedeb3cecb05",
   "metadata": {},
   "source": [
    "# Project 5 -- Zeru Zhou"
   ]
  },
  {
   "cell_type": "markdown",
   "id": "a1228853-dd19-4ab2-89e0-0394d7d72de3",
   "metadata": {},
   "source": [
    "**TA Help:** NA\n",
    "\n",
    "\n",
    "    \n",
    "**Collaboration:** NA\n",
    "    \n",
    "- Get help from piazza\n",
    "- Get help from Dr. Ward's video"
   ]
  },
  {
   "cell_type": "markdown",
   "id": "6180e742-8e39-4698-98ff-5b00c8cf8ea0",
   "metadata": {},
   "source": [
    "## Question 1"
   ]
  },
  {
   "cell_type": "code",
   "execution_count": 74,
   "id": "49445606-d363-41b4-b479-e319a9a84c01",
   "metadata": {},
   "outputs": [],
   "source": [
    "us_youtube <- read.csv(\"/depot/datamine/data/youtube/USvideos.csv\")"
   ]
  },
  {
   "cell_type": "code",
   "execution_count": 3,
   "id": "c1bf8b8e-0585-4edc-9696-e69305cfdc97",
   "metadata": {},
   "outputs": [
    {
     "data": {
      "text/html": [
       "<ol class=list-inline>\n",
       "\t<li>40949</li>\n",
       "\t<li>16</li>\n",
       "</ol>\n"
      ],
      "text/latex": [
       "\\begin{enumerate*}\n",
       "\\item 40949\n",
       "\\item 16\n",
       "\\end{enumerate*}\n"
      ],
      "text/markdown": [
       "1. 40949\n",
       "2. 16\n",
       "\n",
       "\n"
      ],
      "text/plain": [
       "[1] 40949    16"
      ]
     },
     "metadata": {},
     "output_type": "display_data"
    }
   ],
   "source": [
    "dim(us_youtube)"
   ]
  },
  {
   "cell_type": "code",
   "execution_count": 4,
   "id": "4cd23dce-f6cb-4af8-829e-0450154e9762",
   "metadata": {},
   "outputs": [
    {
     "data": {
      "text/html": [
       "<ol class=list-inline>\n",
       "\t<li>'17.14.11'</li>\n",
       "\t<li>'17.14.11'</li>\n",
       "\t<li>'17.14.11'</li>\n",
       "\t<li>'17.14.11'</li>\n",
       "\t<li>'17.14.11'</li>\n",
       "\t<li>'17.14.11'</li>\n",
       "</ol>\n"
      ],
      "text/latex": [
       "\\begin{enumerate*}\n",
       "\\item '17.14.11'\n",
       "\\item '17.14.11'\n",
       "\\item '17.14.11'\n",
       "\\item '17.14.11'\n",
       "\\item '17.14.11'\n",
       "\\item '17.14.11'\n",
       "\\end{enumerate*}\n"
      ],
      "text/markdown": [
       "1. '17.14.11'\n",
       "2. '17.14.11'\n",
       "3. '17.14.11'\n",
       "4. '17.14.11'\n",
       "5. '17.14.11'\n",
       "6. '17.14.11'\n",
       "\n",
       "\n"
      ],
      "text/plain": [
       "[1] \"17.14.11\" \"17.14.11\" \"17.14.11\" \"17.14.11\" \"17.14.11\" \"17.14.11\""
      ]
     },
     "metadata": {},
     "output_type": "display_data"
    }
   ],
   "source": [
    "head(us_youtube$trending_date)"
   ]
  },
  {
   "cell_type": "code",
   "execution_count": 75,
   "id": "8b0679d8-7a33-4df4-ad40-c778ea3950f9",
   "metadata": {},
   "outputs": [],
   "source": [
    "library(lubridate)"
   ]
  },
  {
   "cell_type": "code",
   "execution_count": null,
   "id": "3bdeecfc-709b-4bb0-b7f8-f3f850d2d8cf",
   "metadata": {},
   "outputs": [],
   "source": [
    "# First, change the format of those columns to date."
   ]
  },
  {
   "cell_type": "code",
   "execution_count": 76,
   "id": "b20aa323-49db-4eb9-b16c-9309b1ba6310",
   "metadata": {},
   "outputs": [],
   "source": [
    "us_youtube$trending_date <- ydm(us_youtube$trending_date)"
   ]
  },
  {
   "cell_type": "code",
   "execution_count": 77,
   "id": "a6ee8000-01f7-4702-97e1-2af2424e6edc",
   "metadata": {
    "tags": []
   },
   "outputs": [],
   "source": [
    "us_youtube$publish_time <- ymd_hms(us_youtube$publish_time)"
   ]
  },
  {
   "cell_type": "code",
   "execution_count": null,
   "id": "efe24468-6690-453d-9c54-4c973cad77bf",
   "metadata": {},
   "outputs": [],
   "source": [
    "# Second, extract the year from the columns."
   ]
  },
  {
   "cell_type": "code",
   "execution_count": 78,
   "id": "caf89235-52ab-454e-8361-02d6530ec2de",
   "metadata": {},
   "outputs": [],
   "source": [
    "us_youtube$trending_year <- year(us_youtube$trending_date)"
   ]
  },
  {
   "cell_type": "code",
   "execution_count": 79,
   "id": "7a393335-37a7-4a2f-a33c-df06df68897f",
   "metadata": {},
   "outputs": [],
   "source": [
    "us_youtube$publish_year <- year(us_youtube$publish_time)"
   ]
  },
  {
   "cell_type": "code",
   "execution_count": 80,
   "id": "f0654b18-4c98-4eff-b3c6-8e7afe0f8151",
   "metadata": {},
   "outputs": [
    {
     "data": {
      "text/html": [
       "<ol class=list-inline>\n",
       "\t<li>2017</li>\n",
       "\t<li>2018</li>\n",
       "</ol>\n"
      ],
      "text/latex": [
       "\\begin{enumerate*}\n",
       "\\item 2017\n",
       "\\item 2018\n",
       "\\end{enumerate*}\n"
      ],
      "text/markdown": [
       "1. 2017\n",
       "2. 2018\n",
       "\n",
       "\n"
      ],
      "text/plain": [
       "[1] 2017 2018"
      ]
     },
     "metadata": {},
     "output_type": "display_data"
    }
   ],
   "source": [
    "unique(us_youtube$trending_year)"
   ]
  },
  {
   "cell_type": "code",
   "execution_count": 81,
   "id": "f9a5f863-8c64-4028-96f6-98ce82c417b9",
   "metadata": {},
   "outputs": [
    {
     "data": {
      "text/html": [
       "<ol class=list-inline>\n",
       "\t<li>2017</li>\n",
       "\t<li>2011</li>\n",
       "\t<li>2015</li>\n",
       "\t<li>2012</li>\n",
       "\t<li>2010</li>\n",
       "\t<li>2016</li>\n",
       "\t<li>2009</li>\n",
       "\t<li>2013</li>\n",
       "\t<li>2008</li>\n",
       "\t<li>2014</li>\n",
       "\t<li>2018</li>\n",
       "\t<li>2006</li>\n",
       "</ol>\n"
      ],
      "text/latex": [
       "\\begin{enumerate*}\n",
       "\\item 2017\n",
       "\\item 2011\n",
       "\\item 2015\n",
       "\\item 2012\n",
       "\\item 2010\n",
       "\\item 2016\n",
       "\\item 2009\n",
       "\\item 2013\n",
       "\\item 2008\n",
       "\\item 2014\n",
       "\\item 2018\n",
       "\\item 2006\n",
       "\\end{enumerate*}\n"
      ],
      "text/markdown": [
       "1. 2017\n",
       "2. 2011\n",
       "3. 2015\n",
       "4. 2012\n",
       "5. 2010\n",
       "6. 2016\n",
       "7. 2009\n",
       "8. 2013\n",
       "9. 2008\n",
       "10. 2014\n",
       "11. 2018\n",
       "12. 2006\n",
       "\n",
       "\n"
      ],
      "text/plain": [
       " [1] 2017 2011 2015 2012 2010 2016 2009 2013 2008 2014 2018 2006"
      ]
     },
     "metadata": {},
     "output_type": "display_data"
    }
   ],
   "source": [
    "unique(us_youtube$publish_year)"
   ]
  },
  {
   "cell_type": "code",
   "execution_count": 82,
   "id": "8f201408-bda7-426f-8755-febae381a6f3",
   "metadata": {},
   "outputs": [
    {
     "data": {
      "text/plain": [
       "\n",
       " 2017  2018 \n",
       " 9600 31349 "
      ]
     },
     "metadata": {},
     "output_type": "display_data"
    }
   ],
   "source": [
    "table(us_youtube$trending_year)"
   ]
  },
  {
   "cell_type": "code",
   "execution_count": 83,
   "id": "13726a3a-7514-4488-9065-0a67077cd932",
   "metadata": {},
   "outputs": [
    {
     "data": {
      "text/plain": [
       "\n",
       " 2006  2008  2009  2010  2011  2012  2013  2014  2015  2016  2017  2018 \n",
       "    1    11    14    19    27    24    44    32    35    35 10428 30279 "
      ]
     },
     "metadata": {},
     "output_type": "display_data"
    }
   ],
   "source": [
    "table(us_youtube$publish_year)"
   ]
  },
  {
   "cell_type": "code",
   "execution_count": 84,
   "id": "f1a09cc9-6741-4928-a4cf-6f42ac3ce00a",
   "metadata": {},
   "outputs": [
    {
     "data": {
      "text/html": [
       "'numeric'"
      ],
      "text/latex": [
       "'numeric'"
      ],
      "text/markdown": [
       "'numeric'"
      ],
      "text/plain": [
       "[1] \"numeric\""
      ]
     },
     "metadata": {},
     "output_type": "display_data"
    }
   ],
   "source": [
    "class(us_youtube$trending_year)"
   ]
  },
  {
   "cell_type": "code",
   "execution_count": 85,
   "id": "625c82bc-6c42-478b-bc7a-d4236e3b7b01",
   "metadata": {},
   "outputs": [
    {
     "data": {
      "text/html": [
       "'double'"
      ],
      "text/latex": [
       "'double'"
      ],
      "text/markdown": [
       "'double'"
      ],
      "text/plain": [
       "[1] \"double\""
      ]
     },
     "metadata": {},
     "output_type": "display_data"
    }
   ],
   "source": [
    "typeof(us_youtube$trending_year)"
   ]
  },
  {
   "cell_type": "code",
   "execution_count": 86,
   "id": "c139b4fa-27e5-407b-b279-0bf450156000",
   "metadata": {},
   "outputs": [
    {
     "data": {
      "text/html": [
       "'numeric'"
      ],
      "text/latex": [
       "'numeric'"
      ],
      "text/markdown": [
       "'numeric'"
      ],
      "text/plain": [
       "[1] \"numeric\""
      ]
     },
     "metadata": {},
     "output_type": "display_data"
    }
   ],
   "source": [
    "class(us_youtube$publish_year)"
   ]
  },
  {
   "cell_type": "code",
   "execution_count": 87,
   "id": "1f35a2bf-2d75-48c7-a1b7-584b076f63d6",
   "metadata": {},
   "outputs": [
    {
     "data": {
      "text/html": [
       "'double'"
      ],
      "text/latex": [
       "'double'"
      ],
      "text/markdown": [
       "'double'"
      ],
      "text/plain": [
       "[1] \"double\""
      ]
     },
     "metadata": {},
     "output_type": "display_data"
    }
   ],
   "source": [
    "typeof(us_youtube$publish_year)"
   ]
  },
  {
   "cell_type": "code",
   "execution_count": null,
   "id": "60b0df66-78b4-42cf-a6d7-359243d38f20",
   "metadata": {},
   "outputs": [],
   "source": [
    "# Test vectorized (They are all vectorized since they are all run on full vector of data.) "
   ]
  },
  {
   "cell_type": "code",
   "execution_count": 20,
   "id": "76f00bcd-8cb1-480a-978a-35cb9d5e3e7a",
   "metadata": {},
   "outputs": [
    {
     "data": {
      "text/html": [
       "<ol class=list-inline>\n",
       "\t<li><time datetime=\"2017-11-14\">2017-11-14</time></li>\n",
       "\t<li><time datetime=\"2017-11-14\">2017-11-14</time></li>\n",
       "\t<li><time datetime=\"2017-11-14\">2017-11-14</time></li>\n",
       "\t<li><time datetime=\"2017-11-14\">2017-11-14</time></li>\n",
       "\t<li><time datetime=\"2017-11-14\">2017-11-14</time></li>\n",
       "\t<li><time datetime=\"2017-11-14\">2017-11-14</time></li>\n",
       "</ol>\n"
      ],
      "text/latex": [
       "\\begin{enumerate*}\n",
       "\\item 2017-11-14\n",
       "\\item 2017-11-14\n",
       "\\item 2017-11-14\n",
       "\\item 2017-11-14\n",
       "\\item 2017-11-14\n",
       "\\item 2017-11-14\n",
       "\\end{enumerate*}\n"
      ],
      "text/markdown": [
       "1. 2017-11-14\n",
       "2. 2017-11-14\n",
       "3. 2017-11-14\n",
       "4. 2017-11-14\n",
       "5. 2017-11-14\n",
       "6. 2017-11-14\n",
       "\n",
       "\n"
      ],
      "text/plain": [
       "[1] \"2017-11-14\" \"2017-11-14\" \"2017-11-14\" \"2017-11-14\" \"2017-11-14\"\n",
       "[6] \"2017-11-14\""
      ]
     },
     "metadata": {},
     "output_type": "display_data"
    }
   ],
   "source": [
    "head(us_youtube$trending_date)"
   ]
  },
  {
   "cell_type": "code",
   "execution_count": 14,
   "id": "799b4f5e-0652-4197-aa2b-d1bc3073cfa1",
   "metadata": {},
   "outputs": [
    {
     "data": {
      "text/html": [
       "<ol class=list-inline>\n",
       "\t<li>2017</li>\n",
       "\t<li>2017</li>\n",
       "\t<li>2017</li>\n",
       "\t<li>2017</li>\n",
       "\t<li>2017</li>\n",
       "\t<li>2017</li>\n",
       "</ol>\n"
      ],
      "text/latex": [
       "\\begin{enumerate*}\n",
       "\\item 2017\n",
       "\\item 2017\n",
       "\\item 2017\n",
       "\\item 2017\n",
       "\\item 2017\n",
       "\\item 2017\n",
       "\\end{enumerate*}\n"
      ],
      "text/markdown": [
       "1. 2017\n",
       "2. 2017\n",
       "3. 2017\n",
       "4. 2017\n",
       "5. 2017\n",
       "6. 2017\n",
       "\n",
       "\n"
      ],
      "text/plain": [
       "[1] 2017 2017 2017 2017 2017 2017"
      ]
     },
     "metadata": {},
     "output_type": "display_data"
    }
   ],
   "source": [
    "head(year(us_youtube$trending_date))"
   ]
  },
  {
   "cell_type": "code",
   "execution_count": null,
   "id": "69d7653e-be0d-4c75-9e1d-290bd3b54fc5",
   "metadata": {},
   "outputs": [],
   "source": [
    "# Without using functions above"
   ]
  },
  {
   "cell_type": "code",
   "execution_count": 67,
   "id": "df625206-cb2b-45f1-af3e-3fd0b928d9cc",
   "metadata": {},
   "outputs": [],
   "source": [
    "us_youtube <- read.csv(\"/depot/datamine/data/youtube/USvideos.csv\")"
   ]
  },
  {
   "cell_type": "code",
   "execution_count": 68,
   "id": "25e8149b-523a-44be-b625-6be1d39aeb6c",
   "metadata": {},
   "outputs": [],
   "source": [
    "us_youtube$trending_year <- as.numeric(paste0(\"20\", substr(us_youtube$trending_date, 1, 2)))"
   ]
  },
  {
   "cell_type": "code",
   "execution_count": 69,
   "id": "aa7c1648-c4c2-4b3e-836d-3a7d26cac7db",
   "metadata": {},
   "outputs": [
    {
     "data": {
      "text/plain": [
       "\n",
       " 2017  2018 \n",
       " 9600 31349 "
      ]
     },
     "metadata": {},
     "output_type": "display_data"
    }
   ],
   "source": [
    "table(us_youtube$trending_year)"
   ]
  },
  {
   "cell_type": "code",
   "execution_count": 70,
   "id": "88e715b0-55d8-44dd-a9d6-a69ef4e27daa",
   "metadata": {},
   "outputs": [
    {
     "data": {
      "text/html": [
       "<ol class=list-inline>\n",
       "\t<li>2017</li>\n",
       "\t<li>2017</li>\n",
       "\t<li>2017</li>\n",
       "\t<li>2017</li>\n",
       "\t<li>2017</li>\n",
       "\t<li>2017</li>\n",
       "</ol>\n"
      ],
      "text/latex": [
       "\\begin{enumerate*}\n",
       "\\item 2017\n",
       "\\item 2017\n",
       "\\item 2017\n",
       "\\item 2017\n",
       "\\item 2017\n",
       "\\item 2017\n",
       "\\end{enumerate*}\n"
      ],
      "text/markdown": [
       "1. 2017\n",
       "2. 2017\n",
       "3. 2017\n",
       "4. 2017\n",
       "5. 2017\n",
       "6. 2017\n",
       "\n",
       "\n"
      ],
      "text/plain": [
       "[1] 2017 2017 2017 2017 2017 2017"
      ]
     },
     "metadata": {},
     "output_type": "display_data"
    }
   ],
   "source": [
    "head(us_youtube$trending_year)"
   ]
  },
  {
   "cell_type": "code",
   "execution_count": 64,
   "id": "c50e38b6-11c4-4ad5-a878-124988e56fda",
   "metadata": {},
   "outputs": [],
   "source": [
    "us_youtube$publish_year <- as.numeric(substr(us_youtube$publish_time, 1, 4))"
   ]
  },
  {
   "cell_type": "code",
   "execution_count": 65,
   "id": "f6f0e68f-df5a-4bf6-b347-da1f20997c76",
   "metadata": {},
   "outputs": [
    {
     "data": {
      "text/plain": [
       "\n",
       " 2006  2008  2009  2010  2011  2012  2013  2014  2015  2016  2017  2018 \n",
       "    1    11    14    19    27    24    44    32    35    35 10428 30279 "
      ]
     },
     "metadata": {},
     "output_type": "display_data"
    }
   ],
   "source": [
    "table(us_youtube$publish_year)"
   ]
  },
  {
   "cell_type": "code",
   "execution_count": 66,
   "id": "3d3dd3a4-dccd-470f-a3dd-888d256a7ed7",
   "metadata": {},
   "outputs": [
    {
     "data": {
      "text/html": [
       "<ol class=list-inline>\n",
       "\t<li>2017</li>\n",
       "\t<li>2017</li>\n",
       "\t<li>2017</li>\n",
       "\t<li>2017</li>\n",
       "\t<li>2017</li>\n",
       "\t<li>2017</li>\n",
       "</ol>\n"
      ],
      "text/latex": [
       "\\begin{enumerate*}\n",
       "\\item 2017\n",
       "\\item 2017\n",
       "\\item 2017\n",
       "\\item 2017\n",
       "\\item 2017\n",
       "\\item 2017\n",
       "\\end{enumerate*}\n"
      ],
      "text/markdown": [
       "1. 2017\n",
       "2. 2017\n",
       "3. 2017\n",
       "4. 2017\n",
       "5. 2017\n",
       "6. 2017\n",
       "\n",
       "\n"
      ],
      "text/plain": [
       "[1] 2017 2017 2017 2017 2017 2017"
      ]
     },
     "metadata": {},
     "output_type": "display_data"
    }
   ],
   "source": [
    "head(us_youtube$publish_year)"
   ]
  },
  {
   "cell_type": "markdown",
   "id": "b456e57c-4a12-464b-999a-ef2df5af80c1",
   "metadata": {},
   "source": [
    "All the results are expanded above. The new columns are double type and numeric class. In the provided code, all the functions are vectorized since they all run on full vector data. I got exactly the same results without using functions like \"ydm\", \"year\", \"ymd_hms\", and \"unique\", and I found that those functions such as \"ydm\" and \"year\" builds a much easier way."
   ]
  },
  {
   "cell_type": "markdown",
   "id": "fc601975-35ed-4680-a4e1-0273ee3cc047",
   "metadata": {},
   "source": [
    "## Question 2"
   ]
  },
  {
   "cell_type": "code",
   "execution_count": 7,
   "id": "a16336a1-1ef0-41e8-bc7c-49387db27497",
   "metadata": {},
   "outputs": [],
   "source": [
    "dataframe <- function(mycountry) {\n",
    "    DF <- read.csv(paste0(\"/depot/datamine/data/youtube/\", mycountry, \"videos.csv\"))\n",
    "    DF$country_code <- mycountry\n",
    "    return(DF)\n",
    "    }"
   ]
  },
  {
   "cell_type": "code",
   "execution_count": 9,
   "id": "03c65dee-98aa-42e0-aea7-424e5fff908f",
   "metadata": {},
   "outputs": [],
   "source": [
    "Countries <- c('CA', 'DE', 'FR', 'GB', 'IN', 'JP', 'KR', 'MX', 'RU', 'US')"
   ]
  },
  {
   "cell_type": "code",
   "execution_count": 10,
   "id": "6a6c7de0-3654-4b83-af58-8305aa00b0d1",
   "metadata": {},
   "outputs": [],
   "source": [
    "Applied_results <- lapply(Countries, dataframe)"
   ]
  },
  {
   "cell_type": "code",
   "execution_count": 11,
   "id": "afc8fc6c-7ed8-4859-b1f8-d23134047a29",
   "metadata": {},
   "outputs": [],
   "source": [
    "yt <- do.call(rbind, Applied_results)"
   ]
  },
  {
   "cell_type": "code",
   "execution_count": 12,
   "id": "9ffb8576-c347-4a26-9067-d8b21e551ffe",
   "metadata": {},
   "outputs": [
    {
     "data": {
      "text/html": [
       "<ol class=list-inline>\n",
       "\t<li>375942</li>\n",
       "\t<li>17</li>\n",
       "</ol>\n"
      ],
      "text/latex": [
       "\\begin{enumerate*}\n",
       "\\item 375942\n",
       "\\item 17\n",
       "\\end{enumerate*}\n"
      ],
      "text/markdown": [
       "1. 375942\n",
       "2. 17\n",
       "\n",
       "\n"
      ],
      "text/plain": [
       "[1] 375942     17"
      ]
     },
     "metadata": {},
     "output_type": "display_data"
    }
   ],
   "source": [
    "dim(yt)"
   ]
  },
  {
   "cell_type": "code",
   "execution_count": 13,
   "id": "c3c547d8-6bfa-4c9b-a54d-04ad7842180d",
   "metadata": {},
   "outputs": [
    {
     "data": {
      "text/html": [
       "<ol class=list-inline>\n",
       "\t<li>'video_id'</li>\n",
       "\t<li>'trending_date'</li>\n",
       "\t<li>'title'</li>\n",
       "\t<li>'channel_title'</li>\n",
       "\t<li>'category_id'</li>\n",
       "\t<li>'publish_time'</li>\n",
       "\t<li>'tags'</li>\n",
       "\t<li>'views'</li>\n",
       "\t<li>'likes'</li>\n",
       "\t<li>'dislikes'</li>\n",
       "\t<li>'comment_count'</li>\n",
       "\t<li>'thumbnail_link'</li>\n",
       "\t<li>'comments_disabled'</li>\n",
       "\t<li>'ratings_disabled'</li>\n",
       "\t<li>'video_error_or_removed'</li>\n",
       "\t<li>'description'</li>\n",
       "\t<li>'country_code'</li>\n",
       "</ol>\n"
      ],
      "text/latex": [
       "\\begin{enumerate*}\n",
       "\\item 'video\\_id'\n",
       "\\item 'trending\\_date'\n",
       "\\item 'title'\n",
       "\\item 'channel\\_title'\n",
       "\\item 'category\\_id'\n",
       "\\item 'publish\\_time'\n",
       "\\item 'tags'\n",
       "\\item 'views'\n",
       "\\item 'likes'\n",
       "\\item 'dislikes'\n",
       "\\item 'comment\\_count'\n",
       "\\item 'thumbnail\\_link'\n",
       "\\item 'comments\\_disabled'\n",
       "\\item 'ratings\\_disabled'\n",
       "\\item 'video\\_error\\_or\\_removed'\n",
       "\\item 'description'\n",
       "\\item 'country\\_code'\n",
       "\\end{enumerate*}\n"
      ],
      "text/markdown": [
       "1. 'video_id'\n",
       "2. 'trending_date'\n",
       "3. 'title'\n",
       "4. 'channel_title'\n",
       "5. 'category_id'\n",
       "6. 'publish_time'\n",
       "7. 'tags'\n",
       "8. 'views'\n",
       "9. 'likes'\n",
       "10. 'dislikes'\n",
       "11. 'comment_count'\n",
       "12. 'thumbnail_link'\n",
       "13. 'comments_disabled'\n",
       "14. 'ratings_disabled'\n",
       "15. 'video_error_or_removed'\n",
       "16. 'description'\n",
       "17. 'country_code'\n",
       "\n",
       "\n"
      ],
      "text/plain": [
       " [1] \"video_id\"               \"trending_date\"          \"title\"                 \n",
       " [4] \"channel_title\"          \"category_id\"            \"publish_time\"          \n",
       " [7] \"tags\"                   \"views\"                  \"likes\"                 \n",
       "[10] \"dislikes\"               \"comment_count\"          \"thumbnail_link\"        \n",
       "[13] \"comments_disabled\"      \"ratings_disabled\"       \"video_error_or_removed\"\n",
       "[16] \"description\"            \"country_code\"          "
      ]
     },
     "metadata": {},
     "output_type": "display_data"
    }
   ],
   "source": [
    "colnames(yt)"
   ]
  },
  {
   "cell_type": "code",
   "execution_count": 14,
   "id": "b5eeae9f-0857-448b-be03-6b9d70554fd1",
   "metadata": {},
   "outputs": [
    {
     "name": "stderr",
     "output_type": "stream",
     "text": [
      "\n",
      "Attaching package: ‘lubridate’\n",
      "\n",
      "\n",
      "The following objects are masked from ‘package:base’:\n",
      "\n",
      "    date, intersect, setdiff, union\n",
      "\n",
      "\n"
     ]
    }
   ],
   "source": [
    "library(lubridate)"
   ]
  },
  {
   "cell_type": "code",
   "execution_count": 15,
   "id": "68f725d3-7001-4624-a325-0b2f69b3d1a8",
   "metadata": {},
   "outputs": [],
   "source": [
    "yt$trending_year <- year(ydm(yt$trending_date))"
   ]
  },
  {
   "cell_type": "code",
   "execution_count": 16,
   "id": "674e9401-0e3c-4444-82be-b0dd6f0d18b6",
   "metadata": {},
   "outputs": [],
   "source": [
    "yt$publish_year <- year(ymd_hms(yt$publish_time))"
   ]
  },
  {
   "cell_type": "markdown",
   "id": "14dc22d4-ddc3-41cc-a91a-cb0025bc0c80",
   "metadata": {},
   "source": [
    "Column \"country code\" is added. Columns of yt is printed, and yt has 375942 rows and 17 columns. Columns trending_year and publish_year is created."
   ]
  },
  {
   "cell_type": "markdown",
   "id": "8e586edd-ff26-4ce2-8f6b-2424b26f2929",
   "metadata": {
    "tags": []
   },
   "source": [
    "## Question 3"
   ]
  },
  {
   "cell_type": "code",
   "execution_count": 17,
   "id": "bbe0f40d-9655-4653-9ca8-886bdb61cb91",
   "metadata": {},
   "outputs": [
    {
     "data": {
      "text/plain": [
       "\n",
       "  2006   2007   2008   2009   2010   2011   2012   2013   2014   2015   2016 \n",
       "     1     37     59     32     62    117     43    127    121    159    153 \n",
       "  2017   2018 \n",
       " 88865 286166 "
      ]
     },
     "metadata": {},
     "output_type": "display_data"
    }
   ],
   "source": [
    "table(yt$publish_year)"
   ]
  },
  {
   "cell_type": "code",
   "execution_count": 21,
   "id": "6f08fb6a-7cbc-4ee5-bd8a-7fb16d2f44cd",
   "metadata": {},
   "outputs": [],
   "source": [
    "yt$trending_date <- ydm(yt$trending_date)"
   ]
  },
  {
   "cell_type": "code",
   "execution_count": 22,
   "id": "bc966101-1d0e-4bc0-979f-cb32ebcc3f26",
   "metadata": {},
   "outputs": [],
   "source": [
    "yt$publish_time <- ymd_hms(yt$publish_time)"
   ]
  },
  {
   "cell_type": "code",
   "execution_count": 18,
   "id": "aff94ffa-bdf0-4ac1-9ad8-1a5058655393",
   "metadata": {},
   "outputs": [
    {
     "data": {
      "text/plain": [
       "\n",
       "  2017   2018 \n",
       " 84424 291518 "
      ]
     },
     "metadata": {},
     "output_type": "display_data"
    }
   ],
   "source": [
    "table(yt$trending_year)"
   ]
  },
  {
   "cell_type": "code",
   "execution_count": 23,
   "id": "358ca82b-5f70-48e3-bf8c-d01f19f9cbf8",
   "metadata": {},
   "outputs": [
    {
     "data": {
      "text/html": [
       "<table>\n",
       "<caption>A data.frame: 1 x 19</caption>\n",
       "<thead>\n",
       "\t<tr><th></th><th scope=col>video_id</th><th scope=col>trending_date</th><th scope=col>title</th><th scope=col>channel_title</th><th scope=col>category_id</th><th scope=col>publish_time</th><th scope=col>tags</th><th scope=col>views</th><th scope=col>likes</th><th scope=col>dislikes</th><th scope=col>comment_count</th><th scope=col>thumbnail_link</th><th scope=col>comments_disabled</th><th scope=col>ratings_disabled</th><th scope=col>video_error_or_removed</th><th scope=col>description</th><th scope=col>country_code</th><th scope=col>trending_year</th><th scope=col>publish_year</th></tr>\n",
       "\t<tr><th></th><th scope=col>&lt;chr&gt;</th><th scope=col>&lt;date&gt;</th><th scope=col>&lt;chr&gt;</th><th scope=col>&lt;chr&gt;</th><th scope=col>&lt;int&gt;</th><th scope=col>&lt;dttm&gt;</th><th scope=col>&lt;chr&gt;</th><th scope=col>&lt;int&gt;</th><th scope=col>&lt;int&gt;</th><th scope=col>&lt;int&gt;</th><th scope=col>&lt;int&gt;</th><th scope=col>&lt;chr&gt;</th><th scope=col>&lt;chr&gt;</th><th scope=col>&lt;chr&gt;</th><th scope=col>&lt;chr&gt;</th><th scope=col>&lt;chr&gt;</th><th scope=col>&lt;chr&gt;</th><th scope=col>&lt;dbl&gt;</th><th scope=col>&lt;dbl&gt;</th></tr>\n",
       "</thead>\n",
       "<tbody>\n",
       "\t<tr><th scope=row>351288</th><td>MJO3FmmFuh4</td><td>2018-02-05</td><td>Budweiser - Original Whazzup? ad</td><td>dannotv</td><td>24</td><td>2006-07-23 08:24:11</td><td>Budweiser|Bud|Whazzup|ad</td><td>258506</td><td>459</td><td>152</td><td>82</td><td>https://i.ytimg.com/vi/MJO3FmmFuh4/default.jpg</td><td>False</td><td>False</td><td>False</td><td>Original Whazzup ad - however, there is a little *glitch* in the middle...sorry.</td><td>US</td><td>2018</td><td>2006</td></tr>\n",
       "</tbody>\n",
       "</table>\n"
      ],
      "text/latex": [
       "A data.frame: 1 x 19\n",
       "\\begin{tabular}{r|lllllllllllllllllll}\n",
       "  & video\\_id & trending\\_date & title & channel\\_title & category\\_id & publish\\_time & tags & views & likes & dislikes & comment\\_count & thumbnail\\_link & comments\\_disabled & ratings\\_disabled & video\\_error\\_or\\_removed & description & country\\_code & trending\\_year & publish\\_year\\\\\n",
       "  & <chr> & <date> & <chr> & <chr> & <int> & <dttm> & <chr> & <int> & <int> & <int> & <int> & <chr> & <chr> & <chr> & <chr> & <chr> & <chr> & <dbl> & <dbl>\\\\\n",
       "\\hline\n",
       "\t351288 & MJO3FmmFuh4 & 2018-02-05 & Budweiser - Original Whazzup? ad & dannotv & 24 & 2006-07-23 08:24:11 & Budweiser\\textbar{}Bud\\textbar{}Whazzup\\textbar{}ad & 258506 & 459 & 152 & 82 & https://i.ytimg.com/vi/MJO3FmmFuh4/default.jpg & False & False & False & Original Whazzup ad - however, there is a little *glitch* in the middle...sorry. & US & 2018 & 2006\\\\\n",
       "\\end{tabular}\n"
      ],
      "text/markdown": [
       "\n",
       "A data.frame: 1 x 19\n",
       "\n",
       "| <!--/--> | video_id &lt;chr&gt; | trending_date &lt;date&gt; | title &lt;chr&gt; | channel_title &lt;chr&gt; | category_id &lt;int&gt; | publish_time &lt;dttm&gt; | tags &lt;chr&gt; | views &lt;int&gt; | likes &lt;int&gt; | dislikes &lt;int&gt; | comment_count &lt;int&gt; | thumbnail_link &lt;chr&gt; | comments_disabled &lt;chr&gt; | ratings_disabled &lt;chr&gt; | video_error_or_removed &lt;chr&gt; | description &lt;chr&gt; | country_code &lt;chr&gt; | trending_year &lt;dbl&gt; | publish_year &lt;dbl&gt; |\n",
       "|---|---|---|---|---|---|---|---|---|---|---|---|---|---|---|---|---|---|---|---|\n",
       "| 351288 | MJO3FmmFuh4 | 2018-02-05 | Budweiser - Original Whazzup? ad | dannotv | 24 | 2006-07-23 08:24:11 | Budweiser|Bud|Whazzup|ad | 258506 | 459 | 152 | 82 | https://i.ytimg.com/vi/MJO3FmmFuh4/default.jpg | False | False | False | Original Whazzup ad - however, there is a little *glitch* in the middle...sorry. | US | 2018 | 2006 |\n",
       "\n"
      ],
      "text/plain": [
       "       video_id    trending_date title                            channel_title\n",
       "351288 MJO3FmmFuh4 2018-02-05    Budweiser - Original Whazzup? ad dannotv      \n",
       "       category_id publish_time        tags                     views  likes\n",
       "351288 24          2006-07-23 08:24:11 Budweiser|Bud|Whazzup|ad 258506 459  \n",
       "       dislikes comment_count thumbnail_link                                \n",
       "351288 152      82            https://i.ytimg.com/vi/MJO3FmmFuh4/default.jpg\n",
       "       comments_disabled ratings_disabled video_error_or_removed\n",
       "351288 False             False            False                 \n",
       "       description                                                                     \n",
       "351288 Original Whazzup ad - however, there is a little *glitch* in the middle...sorry.\n",
       "       country_code trending_year publish_year\n",
       "351288 US           2018          2006        "
      ]
     },
     "metadata": {},
     "output_type": "display_data"
    }
   ],
   "source": [
    "yt[yt$publish_year == 2006, ]"
   ]
  },
  {
   "cell_type": "markdown",
   "id": "47c6229f-35f7-400c-8366-c442baa5cf47",
   "metadata": {},
   "source": [
    "The name (title) of the video is \"Budweiser - Original Whazzup? ad\", and it took 2018-2006=12 years to trend. "
   ]
  },
  {
   "cell_type": "markdown",
   "id": "da22f29c-d245-4d2b-9fc1-ca14cb6087d9",
   "metadata": {},
   "source": [
    "## Question 4"
   ]
  },
  {
   "cell_type": "code",
   "execution_count": 24,
   "id": "8cffc767-d1c8-4d64-b7dc-f0d2ee8a80d1",
   "metadata": {},
   "outputs": [
    {
     "data": {
      "text/plain": [
       "\n",
       " False  FALSE   True   TRUE \n",
       "200214 168420   2096   5212 "
      ]
     },
     "metadata": {},
     "output_type": "display_data"
    }
   ],
   "source": [
    "table(yt$ratings_disabled)"
   ]
  },
  {
   "cell_type": "code",
   "execution_count": 25,
   "id": "d35125c1-fe15-4bbc-a2aa-985a50a06e80",
   "metadata": {},
   "outputs": [],
   "source": [
    "yt$ratings_disabled_combined <- NA"
   ]
  },
  {
   "cell_type": "code",
   "execution_count": 26,
   "id": "d4305417-563c-4289-93df-9c40381a0749",
   "metadata": {},
   "outputs": [],
   "source": [
    "yt$ratings_disabled_combined[yt$ratings_disabled == \"FALSE\"] <- FALSE"
   ]
  },
  {
   "cell_type": "code",
   "execution_count": 27,
   "id": "5b68311a-ddd9-4b2b-a6d5-4b86145ef8d2",
   "metadata": {},
   "outputs": [],
   "source": [
    "yt$ratings_disabled_combined[yt$ratings_disabled == \"False\"] <- FALSE"
   ]
  },
  {
   "cell_type": "code",
   "execution_count": 28,
   "id": "dc82f83e-29cc-455f-bcfd-87eb6165c2f5",
   "metadata": {},
   "outputs": [],
   "source": [
    "yt$ratings_disabled_combined[yt$ratings_disabled == \"TRUE\"] <- TRUE"
   ]
  },
  {
   "cell_type": "code",
   "execution_count": 29,
   "id": "ebd8f223-0602-468d-9ba2-663d179bf3e8",
   "metadata": {},
   "outputs": [],
   "source": [
    "yt$ratings_disabled_combined[yt$ratings_disabled == \"True\"] <- TRUE"
   ]
  },
  {
   "cell_type": "code",
   "execution_count": 30,
   "id": "27c17f57-e929-4b85-9c05-8934a719aecb",
   "metadata": {},
   "outputs": [
    {
     "data": {
      "text/plain": [
       "\n",
       " FALSE   TRUE   <NA> \n",
       "368634   7308      0 "
      ]
     },
     "metadata": {},
     "output_type": "display_data"
    }
   ],
   "source": [
    "table(yt$ratings_disabled_combined, useNA=\"always\")"
   ]
  },
  {
   "cell_type": "code",
   "execution_count": 31,
   "id": "0d0d6ba6-9703-4019-93b6-1fce9f955626",
   "metadata": {},
   "outputs": [
    {
     "data": {
      "text/html": [
       "'integer'"
      ],
      "text/latex": [
       "'integer'"
      ],
      "text/markdown": [
       "'integer'"
      ],
      "text/plain": [
       "[1] \"integer\""
      ]
     },
     "metadata": {},
     "output_type": "display_data"
    }
   ],
   "source": [
    "class(yt$views)"
   ]
  },
  {
   "cell_type": "code",
   "execution_count": 32,
   "id": "14749a0c-2dec-43a0-936d-a5c6fc87d5fd",
   "metadata": {},
   "outputs": [
    {
     "data": {
      "text/html": [
       "<dl class=dl-horizontal>\n",
       "\t<dt>FALSE</dt>\n",
       "\t\t<dd>1338147.56100631</dd>\n",
       "\t<dt>TRUE</dt>\n",
       "\t\t<dd>742478.86302682</dd>\n",
       "</dl>\n"
      ],
      "text/latex": [
       "\\begin{description*}\n",
       "\\item[FALSE] 1338147.56100631\n",
       "\\item[TRUE] 742478.86302682\n",
       "\\end{description*}\n"
      ],
      "text/markdown": [
       "FALSE\n",
       ":   1338147.56100631TRUE\n",
       ":   742478.86302682\n",
       "\n"
      ],
      "text/plain": [
       "    FALSE      TRUE \n",
       "1338147.6  742478.9 "
      ]
     },
     "metadata": {},
     "output_type": "display_data"
    }
   ],
   "source": [
    "tapply(yt$views, yt$ratings_disabled_combined, mean)"
   ]
  },
  {
   "cell_type": "markdown",
   "id": "0d552245-b4d6-474a-9cc9-fa7b8e674d55",
   "metadata": {},
   "source": [
    "The average number of views for videos with ratings enabled and those with ratings disabled are 1338148 and 742479, respectively. As a result, it looks like disabling the rating hurts the views."
   ]
  },
  {
   "cell_type": "markdown",
   "id": "88c9cdac-3e92-498f-83fa-e089bfc44ac8",
   "metadata": {},
   "source": [
    "## Question 5"
   ]
  },
  {
   "cell_type": "code",
   "execution_count": 33,
   "id": "d370d7c9-06db-42b9-b75f-240481a5c491",
   "metadata": {},
   "outputs": [],
   "source": [
    "yt$balance <- (yt$likes) - (yt$dislikes)"
   ]
  },
  {
   "cell_type": "code",
   "execution_count": 34,
   "id": "bebf9566-1125-43af-9ad2-283a42a86323",
   "metadata": {},
   "outputs": [],
   "source": [
    "yt$positive_balance <- NA"
   ]
  },
  {
   "cell_type": "code",
   "execution_count": 35,
   "id": "5de72488-8f3e-473c-ae62-224273fc834d",
   "metadata": {},
   "outputs": [],
   "source": [
    "yt$positive_balance[yt$balance > 0] <- TRUE"
   ]
  },
  {
   "cell_type": "code",
   "execution_count": 36,
   "id": "d6ff72cd-72fe-49eb-91b5-5bfe61b8a4d2",
   "metadata": {},
   "outputs": [],
   "source": [
    "yt$positive_balance[yt$balance <= 0] <- FALSE"
   ]
  },
  {
   "cell_type": "code",
   "execution_count": 37,
   "id": "468d8904-714e-4b51-a81b-318b82e82352",
   "metadata": {},
   "outputs": [
    {
     "data": {
      "text/plain": [
       "\n",
       " FALSE   TRUE   <NA> \n",
       " 14359 361583      0 "
      ]
     },
     "metadata": {},
     "output_type": "display_data"
    }
   ],
   "source": [
    "table(yt$positive_balance, useNA=\"always\")"
   ]
  },
  {
   "cell_type": "markdown",
   "id": "9fbf00fb-2418-460f-ae94-2a32b0c28952",
   "metadata": {},
   "source": [
    "There are 361583 videos that have a positive balance."
   ]
  },
  {
   "cell_type": "markdown",
   "id": "ccb9b7ca-255d-4e3c-8cba-3698d7b63af2",
   "metadata": {},
   "source": [
    "## Question 6"
   ]
  },
  {
   "cell_type": "code",
   "execution_count": 38,
   "id": "71c384c2-356e-40a3-b77a-64cf2887c4a0",
   "metadata": {},
   "outputs": [
    {
     "data": {
      "text/html": [
       "<dl class=dl-horizontal>\n",
       "\t<dt>FALSE</dt>\n",
       "\t\t<dd>3066.6932237621</dd>\n",
       "\t<dt>TRUE</dt>\n",
       "\t\t<dd>4300.91580909501</dd>\n",
       "</dl>\n"
      ],
      "text/latex": [
       "\\begin{description*}\n",
       "\\item[FALSE] 3066.6932237621\n",
       "\\item[TRUE] 4300.91580909501\n",
       "\\end{description*}\n"
      ],
      "text/markdown": [
       "FALSE\n",
       ":   3066.6932237621TRUE\n",
       ":   4300.91580909501\n",
       "\n"
      ],
      "text/plain": [
       "   FALSE     TRUE \n",
       "3066.693 4300.916 "
      ]
     },
     "metadata": {},
     "output_type": "display_data"
    }
   ],
   "source": [
    "tapply(yt$comment_count, yt$positive_balance, mean )"
   ]
  },
  {
   "cell_type": "code",
   "execution_count": 39,
   "id": "a6f576dd-3c07-45eb-89fd-016f698ec832",
   "metadata": {},
   "outputs": [
    {
     "data": {
      "text/html": [
       "<dl class=dl-horizontal>\n",
       "\t<dt>FALSE</dt>\n",
       "\t\t<dd>657892.011073195</dd>\n",
       "\t<dt>TRUE</dt>\n",
       "\t\t<dd>1353122.38724719</dd>\n",
       "</dl>\n"
      ],
      "text/latex": [
       "\\begin{description*}\n",
       "\\item[FALSE] 657892.011073195\n",
       "\\item[TRUE] 1353122.38724719\n",
       "\\end{description*}\n"
      ],
      "text/markdown": [
       "FALSE\n",
       ":   657892.011073195TRUE\n",
       ":   1353122.38724719\n",
       "\n"
      ],
      "text/plain": [
       "  FALSE    TRUE \n",
       " 657892 1353122 "
      ]
     },
     "metadata": {},
     "output_type": "display_data"
    }
   ],
   "source": [
    "tapply(yt$views, yt$positive_balance, mean)"
   ]
  },
  {
   "cell_type": "markdown",
   "id": "3e798b21-bcdf-4ebd-85b6-a2fa5cfb15ab",
   "metadata": {},
   "source": [
    "I choose mean as the statistic for both comment_count and views. This is because the mean shows the average level of the number of views/comments that could be compared between different groups of data (In this case, there are 2 groups: with and without positive balance). The videos with positive balance tends to have much more views and slightly more comments than videos without positive balance."
   ]
  },
  {
   "cell_type": "markdown",
   "id": "f76442d6-d02e-4f26-b9d6-c3183e1d6929",
   "metadata": {},
   "source": [
    "## Pledge\n",
    "\n",
    "By submitting this work I hereby pledge that this is my own, personal work. I've acknowledged in the designated place at the top of this file all sources that I used to complete said work, including but not limited to: online resources, books, and electronic communications. I've noted all collaboration with fellow students and/or TA's. I did not copy or plagiarize another's work.\n",
    "\n",
    "> As a Boilermaker pursuing academic excellence, I pledge to be honest and true in all that I do. Accountable together – We are Purdue."
   ]
  }
 ],
 "metadata": {
  "kernelspec": {
   "display_name": "f2021-s2022-r",
   "language": "R",
   "name": "tdm-brown-scratch-f2021-s2022-r"
  },
  "language_info": {
   "codemirror_mode": "r",
   "file_extension": ".r",
   "mimetype": "text/x-r-source",
   "name": "R",
   "pygments_lexer": "r",
   "version": "4.0.0"
  }
 },
 "nbformat": 4,
 "nbformat_minor": 5
}
